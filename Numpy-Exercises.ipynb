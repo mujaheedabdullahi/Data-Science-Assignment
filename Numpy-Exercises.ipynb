{
 "cells": [
  {
   "cell_type": "markdown",
   "metadata": {},
   "source": [
    "# Numpy Assignment"
   ]
  },
  {
   "cell_type": "markdown",
   "metadata": {},
   "source": [
    "#### 1. Import the numpy package under the name np "
   ]
  },
  {
   "cell_type": "code",
   "execution_count": 1,
   "metadata": {},
   "outputs": [],
   "source": [
    "import numpy as np\n"
   ]
  },
  {
   "cell_type": "markdown",
   "metadata": {},
   "source": [
    "#### 2. Print the numpy version and the configuration"
   ]
  },
  {
   "cell_type": "code",
   "execution_count": 2,
   "metadata": {},
   "outputs": [
    {
     "data": {
      "text/plain": [
       "'1.26.2'"
      ]
     },
     "execution_count": 2,
     "metadata": {},
     "output_type": "execute_result"
    }
   ],
   "source": [
    "np.__version__"
   ]
  },
  {
   "cell_type": "markdown",
   "metadata": {},
   "source": [
    "#### 3. Create a null vector of size 10 "
   ]
  },
  {
   "cell_type": "code",
   "execution_count": 3,
   "metadata": {},
   "outputs": [
    {
     "data": {
      "text/plain": [
       "array([0., 0., 0., 0., 0., 0., 0., 0., 0., 0.])"
      ]
     },
     "execution_count": 3,
     "metadata": {},
     "output_type": "execute_result"
    }
   ],
   "source": [
    "np.zeros(10)"
   ]
  },
  {
   "cell_type": "markdown",
   "metadata": {},
   "source": [
    "#### 4. How to find the memory size of any array "
   ]
  },
  {
   "cell_type": "code",
   "execution_count": 5,
   "metadata": {},
   "outputs": [
    {
     "name": "stdout",
     "output_type": "stream",
     "text": [
      "8\n"
     ]
    }
   ],
   "source": [
    "arr = np.array([[2, 2, 3, 4], [7, 8, 9, 0]])\n",
    "memorysize = arr.size\n",
    "print(memorysize)"
   ]
  },
  {
   "cell_type": "markdown",
   "metadata": {},
   "source": [
    "#### 5.How to get the documentation of the numpy add function from the command line? "
   ]
  },
  {
   "cell_type": "code",
   "execution_count": 7,
   "metadata": {},
   "outputs": [
    {
     "name": "stdout",
     "output_type": "stream",
     "text": [
      "Help on ufunc:\n",
      "\n",
      "add = <ufunc 'add'>\n",
      "    add(x1, x2, /, out=None, *, where=True, casting='same_kind', order='K', dtype=None, subok=True[, signature, extobj])\n",
      "\n",
      "    Add arguments element-wise.\n",
      "\n",
      "    Parameters\n",
      "    ----------\n",
      "    x1, x2 : array_like\n",
      "        The arrays to be added.\n",
      "        If ``x1.shape != x2.shape``, they must be broadcastable to a common\n",
      "        shape (which becomes the shape of the output).\n",
      "    out : ndarray, None, or tuple of ndarray and None, optional\n",
      "        A location into which the result is stored. If provided, it must have\n",
      "        a shape that the inputs broadcast to. If not provided or None,\n",
      "        a freshly-allocated array is returned. A tuple (possible only as a\n",
      "        keyword argument) must have length equal to the number of outputs.\n",
      "    where : array_like, optional\n",
      "        This condition is broadcast over the input. At locations where the\n",
      "        condition is True, the `out` array will be set to the ufunc result.\n",
      "        Elsewhere, the `out` array will retain its original value.\n",
      "        Note that if an uninitialized `out` array is created via the default\n",
      "        ``out=None``, locations within it where the condition is False will\n",
      "        remain uninitialized.\n",
      "    **kwargs\n",
      "        For other keyword-only arguments, see the\n",
      "        :ref:`ufunc docs <ufuncs.kwargs>`.\n",
      "\n",
      "    Returns\n",
      "    -------\n",
      "    add : ndarray or scalar\n",
      "        The sum of `x1` and `x2`, element-wise.\n",
      "        This is a scalar if both `x1` and `x2` are scalars.\n",
      "\n",
      "    Notes\n",
      "    -----\n",
      "    Equivalent to `x1` + `x2` in terms of array broadcasting.\n",
      "\n",
      "    Examples\n",
      "    --------\n",
      "    >>> np.add(1.0, 4.0)\n",
      "    5.0\n",
      "    >>> x1 = np.arange(9.0).reshape((3, 3))\n",
      "    >>> x2 = np.arange(3.0)\n",
      "    >>> np.add(x1, x2)\n",
      "    array([[  0.,   2.,   4.],\n",
      "           [  3.,   5.,   7.],\n",
      "           [  6.,   8.,  10.]])\n",
      "\n",
      "    The ``+`` operator can be used as a shorthand for ``np.add`` on ndarrays.\n",
      "\n",
      "    >>> x1 = np.arange(9.0).reshape((3, 3))\n",
      "    >>> x2 = np.arange(3.0)\n",
      "    >>> x1 + x2\n",
      "    array([[ 0.,  2.,  4.],\n",
      "           [ 3.,  5.,  7.],\n",
      "           [ 6.,  8., 10.]])\n",
      "\n"
     ]
    }
   ],
   "source": [
    ">>> help(np.add)"
   ]
  },
  {
   "cell_type": "markdown",
   "metadata": {},
   "source": [
    "#### 6. Create a null vector of size 10 but the fifth value which is 1"
   ]
  },
  {
   "cell_type": "code",
   "execution_count": 8,
   "metadata": {},
   "outputs": [
    {
     "name": "stdout",
     "output_type": "stream",
     "text": [
      "[0. 0. 0. 0. 1. 0. 0. 0. 0. 0.]\n"
     ]
    }
   ],
   "source": [
    "Null_Vector = np.zeros(10)\n",
    "Null_Vector[4] = 1\n",
    "print(Null_Vector)\n"
   ]
  },
  {
   "cell_type": "markdown",
   "metadata": {},
   "source": [
    "#### 7. Create a vector with values ranging from 10 to 49 "
   ]
  },
  {
   "cell_type": "code",
   "execution_count": 9,
   "metadata": {},
   "outputs": [
    {
     "data": {
      "text/plain": [
       "array([10, 11, 12, 13, 14, 15, 16, 17, 18, 19, 20, 21, 22, 23, 24, 25, 26,\n",
       "       27, 28, 29, 30, 31, 32, 33, 34, 35, 36, 37, 38, 39, 40, 41, 42, 43,\n",
       "       44, 45, 46, 47, 48, 49])"
      ]
     },
     "execution_count": 9,
     "metadata": {},
     "output_type": "execute_result"
    }
   ],
   "source": [
    "Value_Range = np.arange(10,50)\n",
    "Value_Range"
   ]
  },
  {
   "cell_type": "markdown",
   "metadata": {},
   "source": [
    "#### 8. Reverse a vector (first element becomes last) "
   ]
  },
  {
   "cell_type": "code",
   "execution_count": 11,
   "metadata": {},
   "outputs": [
    {
     "name": "stdout",
     "output_type": "stream",
     "text": [
      "[49 48 47 46 45 44 43 42 41 40 39 38 37 36 35 34 33 32 31 30 29 28 27 26\n",
      " 25 24 23 22 21 20 19 18 17 16 15 14 13 12 11 10]\n"
     ]
    }
   ],
   "source": [
    "Value_Range = np.arange(10,50)\n",
    "reverse = Value_Range[::-1]\n",
    "print(reverse)"
   ]
  },
  {
   "cell_type": "markdown",
   "metadata": {},
   "source": [
    "#### 9. Create a 3x3 matrix with values ranging from 0 to 8"
   ]
  },
  {
   "cell_type": "code",
   "execution_count": 12,
   "metadata": {},
   "outputs": [
    {
     "name": "stdout",
     "output_type": "stream",
     "text": [
      "[[0 1 2]\n",
      " [3 4 5]\n",
      " [6 7 8]]\n"
     ]
    }
   ],
   "source": [
    "matr = np.arange(9).reshape(3, 3)\n",
    "print(matr)"
   ]
  },
  {
   "cell_type": "markdown",
   "metadata": {},
   "source": [
    "#### 10. Find indices of non-zero elements from [1,2,0,0,4,0]"
   ]
  },
  {
   "cell_type": "code",
   "execution_count": 13,
   "metadata": {},
   "outputs": [
    {
     "name": "stdout",
     "output_type": "stream",
     "text": [
      "(array([0, 1, 4]),)\n"
     ]
    }
   ],
   "source": [
    "non_zero = np.nonzero([1,2,0,0,4,0])\n",
    "print(non_zero)"
   ]
  },
  {
   "cell_type": "markdown",
   "metadata": {},
   "source": [
    "#### 11. Create a 3x3 identity matrix\n"
   ]
  },
  {
   "cell_type": "code",
   "execution_count": 14,
   "metadata": {},
   "outputs": [
    {
     "data": {
      "text/plain": [
       "array([[ 1,  3,  5],\n",
       "       [ 7,  9, 11],\n",
       "       [13, 15, 17]])"
      ]
     },
     "execution_count": 14,
     "metadata": {},
     "output_type": "execute_result"
    }
   ],
   "source": [
    "identity= np.array([[1, 3, 5], [7, 9, 11], [13, 15, 17]])\n",
    "identity"
   ]
  },
  {
   "cell_type": "markdown",
   "metadata": {},
   "source": [
    "#### 12. Create a 3x3x3 array with random values"
   ]
  },
  {
   "cell_type": "code",
   "execution_count": 15,
   "metadata": {},
   "outputs": [
    {
     "data": {
      "text/plain": [
       "array([[[ 68, 193, 272],\n",
       "        [239, 180, 266],\n",
       "        [204, 223, 203]],\n",
       "\n",
       "       [[282, 239, 198],\n",
       "        [113, 252, 236],\n",
       "        [269, 172, 293]],\n",
       "\n",
       "       [[266, 190, 168],\n",
       "        [173, 224, 258],\n",
       "        [ 27, 297, 106]]])"
      ]
     },
     "execution_count": 15,
     "metadata": {},
     "output_type": "execute_result"
    }
   ],
   "source": [
    "random_var = np.random.randint(20,299 , size=(3, 3, 3))\n",
    "random_var"
   ]
  },
  {
   "cell_type": "markdown",
   "metadata": {},
   "source": [
    "#### 13. Create a 10x10 array with random values and find the minimum and maximum values "
   ]
  },
  {
   "cell_type": "code",
   "execution_count": 16,
   "metadata": {},
   "outputs": [
    {
     "name": "stdout",
     "output_type": "stream",
     "text": [
      "minimum value is  31\n",
      "maximum value is  990\n"
     ]
    }
   ],
   "source": [
    "rand = np.random.randint(1, 999 ,size=(10, 10))\n",
    "rand\n",
    "print('minimum value is ', rand.min())\n",
    "print('maximum value is ', rand.max())"
   ]
  },
  {
   "cell_type": "markdown",
   "metadata": {},
   "source": [
    "#### 14. Create a random vector of size 30 and find the mean value "
   ]
  },
  {
   "cell_type": "code",
   "execution_count": 17,
   "metadata": {},
   "outputs": [
    {
     "name": "stdout",
     "output_type": "stream",
     "text": [
      "[841 700 848 770 805 554  37 715 381  64 833 791 887 882 348 843 735 434\n",
      " 718 609 395 658 367 813 594 810 730 199 409 184]\n",
      "mean value is  598.4666666666667\n"
     ]
    }
   ],
   "source": [
    "randVec = np.random.randint(34,890, size=30)\n",
    "print(randVec)\n",
    "print('mean value is ', randVec.mean())"
   ]
  },
  {
   "cell_type": "markdown",
   "metadata": {},
   "source": [
    "#### 15. Create a 2d array with 1 on the border and 0 inside "
   ]
  },
  {
   "cell_type": "code",
   "execution_count": 18,
   "metadata": {},
   "outputs": [
    {
     "name": "stdout",
     "output_type": "stream",
     "text": [
      "Arary:\n",
      "[[1. 1. 1. 1. 1. 1. 1.]\n",
      " [1. 1. 1. 1. 1. 1. 1.]\n",
      " [1. 1. 1. 1. 1. 1. 1.]\n",
      " [1. 1. 1. 1. 1. 1. 1.]\n",
      " [1. 1. 1. 1. 1. 1. 1.]\n",
      " [1. 1. 1. 1. 1. 1. 1.]\n",
      " [1. 1. 1. 1. 1. 1. 1.]]\n",
      "[[1. 1. 1. 1. 1. 1. 1.]\n",
      " [1. 0. 0. 0. 0. 0. 1.]\n",
      " [1. 0. 0. 0. 0. 0. 1.]\n",
      " [1. 0. 0. 0. 0. 0. 1.]\n",
      " [1. 0. 0. 0. 0. 0. 1.]\n",
      " [1. 0. 0. 0. 0. 0. 1.]\n",
      " [1. 1. 1. 1. 1. 1. 1.]]\n"
     ]
    }
   ],
   "source": [
    "border = np.ones((7, 7))\n",
    "print(\"Arary:\")\n",
    "print(border)\n",
    "border[1:-1, 1:-1] = 0\n",
    "print(border)"
   ]
  },
  {
   "cell_type": "markdown",
   "metadata": {},
   "source": [
    "#### 16. How to add a border (filled with 0's) around an existing array?"
   ]
  },
  {
   "cell_type": "code",
   "execution_count": 19,
   "metadata": {},
   "outputs": [
    {
     "name": "stdout",
     "output_type": "stream",
     "text": [
      "[[0. 0. 0. 0. 0. 0. 0. 0. 0.]\n",
      " [0. 1. 1. 1. 1. 1. 1. 1. 0.]\n",
      " [0. 1. 0. 0. 0. 0. 0. 1. 0.]\n",
      " [0. 1. 0. 0. 0. 0. 0. 1. 0.]\n",
      " [0. 1. 0. 0. 0. 0. 0. 1. 0.]\n",
      " [0. 1. 0. 0. 0. 0. 0. 1. 0.]\n",
      " [0. 1. 0. 0. 0. 0. 0. 1. 0.]\n",
      " [0. 1. 1. 1. 1. 1. 1. 1. 0.]\n",
      " [0. 0. 0. 0. 0. 0. 0. 0. 0.]]\n"
     ]
    }
   ],
   "source": [
    "\n",
    "border = np.pad(border, pad_width=1, mode='constant', constant_values=0)\n",
    "print(border)"
   ]
  },
  {
   "cell_type": "markdown",
   "metadata": {},
   "source": [
    "#### 17. What is the result of the following expression? (★☆☆)\n",
    "```python\n",
    "0 * np.nan\n",
    "np.nan == np.nan\n",
    "np.inf > np.nan\n",
    "np.nan - np.nan\n",
    "np.nan in set([np.nan])\n",
    "0.3 == 3 * 0.1"
   ]
  },
  {
   "cell_type": "code",
   "execution_count": 20,
   "metadata": {},
   "outputs": [
    {
     "data": {
      "text/plain": [
       "False"
      ]
     },
     "execution_count": 20,
     "metadata": {},
     "output_type": "execute_result"
    }
   ],
   "source": [
    "0 * np.nan\n",
    "np.nan == np.nan\n",
    "np.inf > np.nan\n",
    "np.nan - np.nan\n",
    "np.nan in set([np.nan])\n",
    "0.3 == 3 * 0.1"
   ]
  },
  {
   "cell_type": "markdown",
   "metadata": {},
   "source": [
    "#### 18. Create a 5x5 matrix with values 1,2,3,4 just below the diagonal"
   ]
  },
  {
   "cell_type": "code",
   "execution_count": 21,
   "metadata": {},
   "outputs": [
    {
     "data": {
      "text/plain": [
       "array([[1, 0, 0, 0],\n",
       "       [0, 2, 0, 0],\n",
       "       [0, 0, 3, 0],\n",
       "       [0, 0, 0, 4]])"
      ]
     },
     "execution_count": 21,
     "metadata": {},
     "output_type": "execute_result"
    }
   ],
   "source": [
    "diagonal= np.diag([1, 2, 3, 4])\n",
    "diagonal"
   ]
  },
  {
   "cell_type": "markdown",
   "metadata": {},
   "source": [
    "#### 19. Create a 8x8 matrix and fill it with a checkerboard pattern"
   ]
  },
  {
   "cell_type": "code",
   "execution_count": 22,
   "metadata": {},
   "outputs": [
    {
     "name": "stdout",
     "output_type": "stream",
     "text": [
      "[[0 1 0 1 0 1 0 1]\n",
      " [1 0 1 0 1 0 1 0]\n",
      " [0 1 0 1 0 1 0 1]\n",
      " [1 0 1 0 1 0 1 0]\n",
      " [0 1 0 1 0 1 0 1]\n",
      " [1 0 1 0 1 0 1 0]\n",
      " [0 1 0 1 0 1 0 1]\n",
      " [1 0 1 0 1 0 1 0]]\n"
     ]
    }
   ],
   "source": [
    "checker = np.zeros((8,8),dtype=int)\n",
    "checker[1::2,::2] = 1\n",
    "checker[::2,1::2] = 1\n",
    "print(checker)"
   ]
  },
  {
   "cell_type": "markdown",
   "metadata": {},
   "source": [
    "#### 20. Consider a (6,7,8) shape array, what is the index (x,y,z) of the 100th element?"
   ]
  },
  {
   "cell_type": "code",
   "execution_count": 23,
   "metadata": {},
   "outputs": [
    {
     "name": "stdout",
     "output_type": "stream",
     "text": [
      "Index (x, y, z) of the 100th element: (1, 5, 4)\n"
     ]
    }
   ],
   "source": [
    "shape = (6, 7, 8)\n",
    "index_1d = 100\n",
    "\n",
    "index_3d = np.unravel_index(index_1d, shape)\n",
    "\n",
    "print(\"Index (x, y, z) of the 100th element:\", index_3d)\n"
   ]
  },
  {
   "cell_type": "markdown",
   "metadata": {},
   "source": [
    "#### 21. Create a checkerboard 8x8 matrix using the tile function"
   ]
  },
  {
   "cell_type": "code",
   "execution_count": 24,
   "metadata": {},
   "outputs": [
    {
     "name": "stdout",
     "output_type": "stream",
     "text": [
      "[[0 1 0 1 0 1 0 1]\n",
      " [1 0 1 0 1 0 1 0]\n",
      " [0 1 0 1 0 1 0 1]\n",
      " [1 0 1 0 1 0 1 0]\n",
      " [0 1 0 1 0 1 0 1]\n",
      " [1 0 1 0 1 0 1 0]\n",
      " [0 1 0 1 0 1 0 1]\n",
      " [1 0 1 0 1 0 1 0]]\n"
     ]
    }
   ],
   "source": [
    "checkerboard8x8 =np.tile(np.array([[0, 1], [1, 0]]), (4, 4))\n",
    "\n",
    "print(checkerboard8x8)\n"
   ]
  },
  {
   "cell_type": "markdown",
   "metadata": {},
   "source": [
    "#### 22. Normalize a 5x5 random matrix"
   ]
  },
  {
   "cell_type": "code",
   "execution_count": 25,
   "metadata": {},
   "outputs": [
    {
     "name": "stdout",
     "output_type": "stream",
     "text": [
      "[[ 0.03626856  1.42873305  1.42895664  0.32488201 -0.56168994]\n",
      " [ 1.46916267  0.8895021   0.00933782 -0.15184294 -1.53952428]\n",
      " [-0.16752069 -0.0979976   1.46187205 -1.50635714  0.01575299]\n",
      " [ 0.59138297 -0.69713127 -0.24389227 -0.3206846  -1.3439995 ]\n",
      " [ 1.38508712 -1.02300214  1.10532175 -1.79845378 -0.69416357]]\n"
     ]
    }
   ],
   "source": [
    "normal = np.random.random((5,5))\n",
    "normal_mat = (normal - np.mean (normal)) / (np.std (normal))\n",
    "print(normal_mat)"
   ]
  },
  {
   "cell_type": "markdown",
   "metadata": {},
   "source": [
    "#### 23. Create a custom dtype that describes a color as four unsigned bytes (RGBA) "
   ]
  },
  {
   "cell_type": "code",
   "execution_count": 28,
   "metadata": {},
   "outputs": [
    {
     "name": "stdout",
     "output_type": "stream",
     "text": [
      "[(255,   0,   0, 255) (  0, 255,   0, 255) (  0,   0, 255, 128)]\n"
     ]
    }
   ],
   "source": [
    "color_dtype = np.dtype([('R', np.uint8), ('G', np.uint8), ('B', np.uint8), ('A', np.uint8)])\n",
    "\n",
    "\n",
    "color_array = np.array([(255, 0, 0, 255),  \n",
    "                        (0, 255, 0, 255),  \n",
    "                        (0, 0, 255, 128)],  \n",
    "                       dtype=color_dtype)\n",
    "\n",
    "\n",
    "print(color_array)"
   ]
  },
  {
   "cell_type": "markdown",
   "metadata": {},
   "source": [
    "#### 24. Multiply a 5x3 matrix by a 3x2 matrix (real matrix product) "
   ]
  },
  {
   "cell_type": "code",
   "execution_count": 29,
   "metadata": {},
   "outputs": [
    {
     "data": {
      "text/plain": [
       "array([[0.86358313, 0.36720132],\n",
       "       [0.54749252, 0.41378573],\n",
       "       [0.51308267, 0.56628238],\n",
       "       [0.21695227, 0.09433813],\n",
       "       [0.51693769, 0.03751257]])"
      ]
     },
     "execution_count": 29,
     "metadata": {},
     "output_type": "execute_result"
    }
   ],
   "source": [
    "five_by_three_mat = np.random.random ((5, 3))\n",
    "\n",
    "Three_by_two= np.random.random ((3, 2))\n",
    "\n",
    "\n",
    "real_mat= np.dot(five_by_three_mat, Three_by_two)\n",
    "real_mat"
   ]
  },
  {
   "cell_type": "markdown",
   "metadata": {},
   "source": [
    "#### 25. Given a 1D array, negate all elements which are between 3 and 8, in place."
   ]
  },
  {
   "cell_type": "code",
   "execution_count": 30,
   "metadata": {},
   "outputs": [
    {
     "data": {
      "text/plain": [
       "array([ 0,  1,  2,  3, -4, -5, -6, -7,  8,  9])"
      ]
     },
     "execution_count": 30,
     "metadata": {},
     "output_type": "execute_result"
    }
   ],
   "source": [
    "one_d = np.arange(10)\n",
    "one_d[(3 < one_d) & (one_d < 8)] *= -1\n",
    "one_d"
   ]
  },
  {
   "cell_type": "markdown",
   "metadata": {},
   "source": [
    "#### 26. What is the output of the following script? \n",
    "```python\n",
    "# Author: Jake VanderPlas\n",
    "\n",
    "print(sum(range(5),-1))\n",
    "from numpy import *\n",
    "print(sum(range(5),-1))"
   ]
  },
  {
   "cell_type": "code",
   "execution_count": 31,
   "metadata": {},
   "outputs": [
    {
     "name": "stdout",
     "output_type": "stream",
     "text": [
      "9\n",
      "10\n"
     ]
    }
   ],
   "source": [
    "print(sum(range(5),-1))\n",
    "from numpy import *\n",
    "print(sum(range(5),-1))"
   ]
  },
  {
   "cell_type": "markdown",
   "metadata": {},
   "source": [
    "#### 27. Consider an integer vector Z, which of these expressions are legal? (★☆☆)\n",
    "```python\n",
    "Z**Z\n",
    "2 << Z >> 2\n",
    "Z <- Z\n",
    "1j*Z\n",
    "Z/1/1\n",
    "Z<Z>Z"
   ]
  },
  {
   "cell_type": "markdown",
   "metadata": {},
   "source": [
    "#### 28. What are the result of the following expressions? (★☆☆)\n",
    "```python\n",
    "np.array(0) / np.array(0)\n",
    "np.array(0) // np.array(0)\n",
    "np.array([np.nan]).astype(int).astype(float)\n",
    "```"
   ]
  },
  {
   "cell_type": "code",
   "execution_count": 35,
   "metadata": {},
   "outputs": [
    {
     "name": "stderr",
     "output_type": "stream",
     "text": [
      "/var/folders/cv/zbwylvld3637cwzygthjxjhw0000gn/T/ipykernel_3966/548293649.py:1: RuntimeWarning: invalid value encountered in divide\n",
      "  np.array(0) / np.array(0)\n",
      "/var/folders/cv/zbwylvld3637cwzygthjxjhw0000gn/T/ipykernel_3966/548293649.py:2: RuntimeWarning: divide by zero encountered in floor_divide\n",
      "  np.array(0) // np.array(0)\n",
      "/var/folders/cv/zbwylvld3637cwzygthjxjhw0000gn/T/ipykernel_3966/548293649.py:3: RuntimeWarning: invalid value encountered in cast\n",
      "  np.array([np.nan]).astype(int).astype(float)\n"
     ]
    },
    {
     "data": {
      "text/plain": [
       "array([-9.22337204e+18])"
      ]
     },
     "execution_count": 35,
     "metadata": {},
     "output_type": "execute_result"
    }
   ],
   "source": [
    "np.array(0) / np.array(0)\n",
    "np.array(0) // np.array(0)\n",
    "np.array([np.nan]).astype(int).astype(float)"
   ]
  },
  {
   "cell_type": "markdown",
   "metadata": {},
   "source": [
    "#### 29. How to round away from zero a float array ?"
   ]
  },
  {
   "cell_type": "code",
   "execution_count": 36,
   "metadata": {},
   "outputs": [
    {
     "name": "stdout",
     "output_type": "stream",
     "text": [
      "[0. 1. 2. 3. 4. 5. 6. 7. 8. 9.]\n",
      "[ 8.  3. -1.  9. -6.  7.  9.  6. -8.  5.]\n"
     ]
    }
   ],
   "source": [
    "Zero = np.random.uniform(-10,+10,10)\n",
    "print(np.copysign(np.ceil(np.abs(Z)), Z))\n",
    "\n",
    "print(np.where(Zero>0, np.ceil(Zero), np.floor(Zero)))"
   ]
  },
  {
   "cell_type": "markdown",
   "metadata": {},
   "source": [
    "#### 30. How to find common values between two arrays?"
   ]
  },
  {
   "cell_type": "code",
   "execution_count": 37,
   "metadata": {},
   "outputs": [
    {
     "name": "stdout",
     "output_type": "stream",
     "text": [
      "[17 18 19 20 21 22]\n"
     ]
    }
   ],
   "source": [
    "val1 = np.arange(23)\n",
    "val2= np.arange(17,34)\n",
    "print(np.intersect1d(val1,val2))"
   ]
  },
  {
   "cell_type": "markdown",
   "metadata": {},
   "source": [
    "#### 31. How to ignore all numpy warnings (not recommended)?"
   ]
  },
  {
   "cell_type": "markdown",
   "metadata": {},
   "source": [
    "#### 32. Is the following expressions true? (★☆☆)\n",
    "```python\n",
    "np.sqrt(-1) == np.emath.sqrt(-1)"
   ]
  },
  {
   "cell_type": "code",
   "execution_count": 38,
   "metadata": {},
   "outputs": [
    {
     "name": "stderr",
     "output_type": "stream",
     "text": [
      "/var/folders/cv/zbwylvld3637cwzygthjxjhw0000gn/T/ipykernel_3966/244602691.py:1: RuntimeWarning: invalid value encountered in sqrt\n",
      "  np.sqrt(-1) == np.emath.sqrt(-1)\n"
     ]
    },
    {
     "data": {
      "text/plain": [
       "False"
      ]
     },
     "execution_count": 38,
     "metadata": {},
     "output_type": "execute_result"
    }
   ],
   "source": [
    "np.sqrt(-1) == np.emath.sqrt(-1)"
   ]
  },
  {
   "cell_type": "markdown",
   "metadata": {},
   "source": [
    "#### 33. How to get the dates of yesterday, today and tomorrow?"
   ]
  },
  {
   "cell_type": "code",
   "execution_count": 39,
   "metadata": {},
   "outputs": [
    {
     "name": "stdout",
     "output_type": "stream",
     "text": [
      "Yesterday was  2024-02-27\n",
      "Todays date is  2024-02-28\n",
      "Tomorrow will be  2024-02-27\n"
     ]
    }
   ],
   "source": [
    "yesterday = np.datetime64(\"today\") - np.timedelta64(1)\n",
    "today = np.datetime64(\"today\") \n",
    "tomorrow = np.datetime64(\"today\") - np.timedelta64(1)\n",
    "print(\"Yesterday was \",yesterday)\n",
    "print(\"Todays date is \",today)\n",
    "print('Tomorrow will be ',tomorrow)"
   ]
  },
  {
   "cell_type": "markdown",
   "metadata": {},
   "source": [
    "#### 34. How to get all the dates corresponding to the month of July 2016? "
   ]
  },
  {
   "cell_type": "code",
   "execution_count": 41,
   "metadata": {},
   "outputs": [
    {
     "name": "stdout",
     "output_type": "stream",
     "text": [
      "['2016-07-01' '2016-07-02' '2016-07-03' '2016-07-04' '2016-07-05'\n",
      " '2016-07-06' '2016-07-07' '2016-07-08' '2016-07-09' '2016-07-10'\n",
      " '2016-07-11' '2016-07-12' '2016-07-13' '2016-07-14' '2016-07-15'\n",
      " '2016-07-16' '2016-07-17' '2016-07-18' '2016-07-19' '2016-07-20'\n",
      " '2016-07-21' '2016-07-22' '2016-07-23' '2016-07-24' '2016-07-25'\n",
      " '2016-07-26' '2016-07-27' '2016-07-28' '2016-07-29' '2016-07-30'\n",
      " '2016-07-31']\n"
     ]
    }
   ],
   "source": [
    "import calendar\n",
    "year = 2016\n",
    "month = 7\n",
    "\n",
    "first_day, last_day = calendar.monthrange(year, month)\n",
    "\n",
    "dates_array = np.array([np.datetime64(f\"{year}-{month:02d}-{day:02d}\") for day in range(1, last_day + 1)])\n",
    "\n",
    "\n",
    "print(dates_array)"
   ]
  },
  {
   "cell_type": "markdown",
   "metadata": {},
   "source": [
    "#### 35. How to compute ((A+B)*(-A/2)) in place (without copy)?"
   ]
  },
  {
   "cell_type": "code",
   "execution_count": 42,
   "metadata": {},
   "outputs": [
    {
     "name": "stdout",
     "output_type": "stream",
     "text": [
      "[ -2.5  -7.  -13.5]\n"
     ]
    }
   ],
   "source": [
    "A = np.array([1, 2, 3])\n",
    "B = np.array([4, 5, 6])\n",
    "\n",
    "C= ((A + B) *  (-A / 2) )\n",
    "  \n",
    "\n",
    "print(C)\n"
   ]
  },
  {
   "cell_type": "markdown",
   "metadata": {},
   "source": [
    "#### 36. Extract the integer part of a random array of positive numbers using 4 different methods"
   ]
  },
  {
   "cell_type": "code",
   "execution_count": 43,
   "metadata": {},
   "outputs": [
    {
     "name": "stdout",
     "output_type": "stream",
     "text": [
      "[351 994 395 173 990 189 387 474 653 472]\n",
      "[351 994 395 173 990 189 387 474 653 472]\n",
      "[351. 994. 395. 173. 990. 189. 387. 474. 653. 472.]\n",
      "[351 994 395 173 990 189 387 474 653 472]\n",
      "[351. 994. 395. 173. 990. 189. 387. 474. 653. 472.]\n"
     ]
    }
   ],
   "source": [
    "num = np.random.randint(34, 1234, 10)\n",
    "print(num - num%1)\n",
    "print(num // 1)\n",
    "print(np.floor(num))\n",
    "print(num.astype(int))\n",
    "print(np.trunc(num))"
   ]
  },
  {
   "cell_type": "markdown",
   "metadata": {},
   "source": [
    "#### 37. Create a 5x5 matrix with row values ranging from 0 to 4 "
   ]
  },
  {
   "cell_type": "code",
   "execution_count": 44,
   "metadata": {},
   "outputs": [
    {
     "data": {
      "text/plain": [
       "array([[0., 1., 2., 3., 4.],\n",
       "       [0., 1., 2., 3., 4.],\n",
       "       [0., 1., 2., 3., 4.],\n",
       "       [0., 1., 2., 3., 4.],\n",
       "       [0., 1., 2., 3., 4.]])"
      ]
     },
     "execution_count": 44,
     "metadata": {},
     "output_type": "execute_result"
    }
   ],
   "source": [
    "arrr = np.ones((5,5))\n",
    "arr = np.arange(5) * arrr\n",
    "arr"
   ]
  },
  {
   "cell_type": "markdown",
   "metadata": {},
   "source": [
    "#### 38. Consider a generator function that generates 10 integers and use it to build an array "
   ]
  },
  {
   "cell_type": "code",
   "execution_count": 45,
   "metadata": {},
   "outputs": [
    {
     "name": "stdout",
     "output_type": "stream",
     "text": [
      "[0 1 2 3 4 5 6 7 8 9]\n"
     ]
    }
   ],
   "source": [
    "def generator():\n",
    "    for i in range(10):\n",
    "        yield i\n",
    "arr = np.fromiter(generator(),dtype=int64,count=-1)\n",
    "print(arr)"
   ]
  },
  {
   "cell_type": "markdown",
   "metadata": {},
   "source": [
    "#### 39. Create a vector of size 10 with values ranging from 0 to 1, both excluded "
   ]
  },
  {
   "cell_type": "code",
   "execution_count": 46,
   "metadata": {},
   "outputs": [
    {
     "name": "stdout",
     "output_type": "stream",
     "text": [
      "[0.09090909 0.18181818 0.27272727 0.36363636 0.45454545 0.54545455\n",
      " 0.63636364 0.72727273 0.81818182 0.90909091]\n"
     ]
    }
   ],
   "source": [
    "Vect = np.linspace(0,1, 12 ,endpoint=True)[1: -1]\n",
    "print(Vect)"
   ]
  },
  {
   "cell_type": "markdown",
   "metadata": {},
   "source": [
    "#### 40. Create a random vector of size 10 and sort it"
   ]
  },
  {
   "cell_type": "code",
   "execution_count": 47,
   "metadata": {},
   "outputs": [
    {
     "name": "stdout",
     "output_type": "stream",
     "text": [
      "[ 7  9 11 21 41 42 46 47 79 87]\n"
     ]
    }
   ],
   "source": [
    "RandVect = np.random.randint(3, 89, size = 10)\n",
    "RandVect.sort()\n",
    "print(RandVect)"
   ]
  },
  {
   "cell_type": "markdown",
   "metadata": {},
   "source": [
    "#### 41. How to sum a small array faster than np.sum? "
   ]
  },
  {
   "cell_type": "code",
   "execution_count": 48,
   "metadata": {},
   "outputs": [
    {
     "data": {
      "text/plain": [
       "390"
      ]
     },
     "execution_count": 48,
     "metadata": {},
     "output_type": "execute_result"
    }
   ],
   "source": [
    "np.add.reduce(RandVect)"
   ]
  },
  {
   "cell_type": "markdown",
   "metadata": {},
   "source": [
    "#### 42. Consider two random array A and B, check if they are equal"
   ]
  },
  {
   "cell_type": "code",
   "execution_count": 49,
   "metadata": {},
   "outputs": [
    {
     "name": "stdout",
     "output_type": "stream",
     "text": [
      "[116 136 123 188 150]\n",
      "[107 175 108 138 115]\n",
      "False\n"
     ]
    }
   ],
   "source": [
    "a = np.random.randint(76,199,5)\n",
    "b = np.random.randint(88,190,5)\n",
    "print(a)\n",
    "print(b)\n",
    "equal = np.allclose(a,b)\n",
    "print(equal)\n"
   ]
  },
  {
   "cell_type": "markdown",
   "metadata": {},
   "source": [
    "#### 43. Make an array immutable (read-only)"
   ]
  },
  {
   "cell_type": "code",
   "execution_count": 50,
   "metadata": {},
   "outputs": [
    {
     "ename": "ValueError",
     "evalue": "assignment destination is read-only",
     "output_type": "error",
     "traceback": [
      "\u001b[0;31m---------------------------------------------------------------------------\u001b[0m",
      "\u001b[0;31mValueError\u001b[0m                                Traceback (most recent call last)",
      "Cell \u001b[0;32mIn[50], line 3\u001b[0m\n\u001b[1;32m      1\u001b[0m arra \u001b[38;5;241m=\u001b[39m np\u001b[38;5;241m.\u001b[39marange(\u001b[38;5;241m56\u001b[39m,\u001b[38;5;241m990\u001b[39m, \u001b[38;5;241m6\u001b[39m)\n\u001b[1;32m      2\u001b[0m arra\u001b[38;5;241m.\u001b[39mflags\u001b[38;5;241m.\u001b[39mwriteable \u001b[38;5;241m=\u001b[39m \u001b[38;5;28;01mFalse\u001b[39;00m\n\u001b[0;32m----> 3\u001b[0m \u001b[43marra\u001b[49m\u001b[43m[\u001b[49m\u001b[38;5;241;43m23\u001b[39;49m\u001b[43m]\u001b[49m\u001b[38;5;241m=\u001b[39m\u001b[38;5;241m8\u001b[39m\n",
      "\u001b[0;31mValueError\u001b[0m: assignment destination is read-only"
     ]
    }
   ],
   "source": [
    "arra = np.arange(56,990, 6)\n",
    "arra.flags.writeable = False\n",
    "arra[23]=8"
   ]
  },
  {
   "cell_type": "markdown",
   "metadata": {},
   "source": [
    "#### 44. Consider a random 10x2 matrix representing cartesian coordinates, convert them to polar coordinates "
   ]
  },
  {
   "cell_type": "code",
   "execution_count": 51,
   "metadata": {},
   "outputs": [
    {
     "name": "stdout",
     "output_type": "stream",
     "text": [
      "[234.9553149  359.78048863 598.70276432 629.06279496 377.78433001\n",
      " 385.54895928 122.06555616 522.93403026 733.48006108 273.51416782]\n",
      "[1.36505372 0.22138223 0.8788382  0.49351071 0.89605538 0.96984481\n",
      " 0.31656925 1.18247761 0.71883    0.13569238]\n"
     ]
    }
   ],
   "source": [
    "c = np.random.randint(23,567 , (10,2))\n",
    "c\n",
    "a,b = c[:,0], c[:,1]\n",
    "e = np.sqrt(a**2+b**2)\n",
    "f = np.arctan2(b,a)\n",
    "print(e)\n",
    "print(f)\n"
   ]
  },
  {
   "cell_type": "markdown",
   "metadata": {},
   "source": [
    "#### 45. Create random vector of size 10 and replace the maximum value by 0"
   ]
  },
  {
   "cell_type": "code",
   "execution_count": 52,
   "metadata": {},
   "outputs": [
    {
     "name": "stdout",
     "output_type": "stream",
     "text": [
      "[67 49 43 67 36 57 50  0 38 56]\n"
     ]
    }
   ],
   "source": [
    "VecMax = np.random.randint(34,78,10)\n",
    "VecMax[VecMax.argmax()] = 0\n",
    "print(VecMax)"
   ]
  },
  {
   "cell_type": "markdown",
   "metadata": {},
   "source": [
    "#### 46. Create a structured array with `x` and `y` coordinates covering the [0,1]x[0,1] area"
   ]
  },
  {
   "cell_type": "code",
   "execution_count": 53,
   "metadata": {},
   "outputs": [
    {
     "name": "stdout",
     "output_type": "stream",
     "text": [
      "[[(0.  , 0.  ) (0.25, 0.  ) (0.5 , 0.  ) (0.75, 0.  ) (1.  , 0.  )]\n",
      " [(0.  , 0.25) (0.25, 0.25) (0.5 , 0.25) (0.75, 0.25) (1.  , 0.25)]\n",
      " [(0.  , 0.5 ) (0.25, 0.5 ) (0.5 , 0.5 ) (0.75, 0.5 ) (1.  , 0.5 )]\n",
      " [(0.  , 0.75) (0.25, 0.75) (0.5 , 0.75) (0.75, 0.75) (1.  , 0.75)]\n",
      " [(0.  , 1.  ) (0.25, 1.  ) (0.5 , 1.  ) (0.75, 1.  ) (1.  , 1.  )]]\n"
     ]
    }
   ],
   "source": [
    "s = np.zeros((5,5), [('x',float),('y',float)])\n",
    "s['x'], s['y'] = np.meshgrid(np.linspace(0,1,5),\n",
    "                             np.linspace(0,1,5))\n",
    "print(s)"
   ]
  },
  {
   "cell_type": "markdown",
   "metadata": {},
   "source": [
    "#### 47. Given two arrays, X and Y, construct the Cauchy matrix C (Cij =1/(xi - yj)) "
   ]
  },
  {
   "cell_type": "code",
   "execution_count": 54,
   "metadata": {},
   "outputs": [
    {
     "name": "stdout",
     "output_type": "stream",
     "text": [
      "0.0\n"
     ]
    },
    {
     "name": "stderr",
     "output_type": "stream",
     "text": [
      "/var/folders/cv/zbwylvld3637cwzygthjxjhw0000gn/T/ipykernel_3966/3947142640.py:3: RuntimeWarning: divide by zero encountered in divide\n",
      "  Cauchy = 1.0 / np.subtract.outer(x, y)\n"
     ]
    }
   ],
   "source": [
    "x = np.random.randint(34,78, 9)\n",
    "y = np.random.randint(45,100, 9)\n",
    "Cauchy = 1.0 / np.subtract.outer(x, y)\n",
    "print(np.linalg.det(Cauchy))"
   ]
  },
  {
   "cell_type": "markdown",
   "metadata": {},
   "source": [
    "#### 48. Print the minimum and maximum representable value for each numpy scalar type"
   ]
  },
  {
   "cell_type": "markdown",
   "metadata": {},
   "source": [
    "#### 49. How to print all the values of an array? "
   ]
  },
  {
   "cell_type": "code",
   "execution_count": 55,
   "metadata": {},
   "outputs": [
    {
     "name": "stdout",
     "output_type": "stream",
     "text": [
      "[[129  24 147 121 178  67  56  93 153 149 107 120 166  57 148 116 199]\n",
      " [105  85  58 115 118 189 172 143 169 195 197  27 125 161  96 162  54]\n",
      " [129 181  21  34 162 185 139 110  25  41 130  90  59  77 158 108  94]\n",
      " [ 60 159  49  34 118 194 133 185  45 170  83 118 165  66  76 152 100]\n",
      " [150  24 107 199 131 124 193 166  51  37  54  34  31 175  44  21  33]\n",
      " [ 80  48 150 156 100  56  84  48 139 132  90  36  77  84 173 108 100]\n",
      " [ 33 113  20  66  94  55 175 190 196 155  89  96 111  95 193  28 123]\n",
      " [102 197 105 105 152  72 114  36 158  39 146  84  53 152 188 152  44]\n",
      " [122  42  66  98 104 192  41 104 174 101  58  66  84 184 198  67 166]\n",
      " [175  20  54 165  60  86 199 110 109 105  90  97 109  21 100 116  63]\n",
      " [ 34 170  75 162 153 110  58 116  28 128  24 114  57 193  20  50 170]\n",
      " [184 138  78 163 149  25  79  30 128  64 159  80 166 129  89  45 154]\n",
      " [ 28 136 164  49 191  63  88 131  83  61 140  78  43 125 180  31  55]\n",
      " [ 37  92 143 137  38 180 189 181 116 183  75 128  84 159  26 163 116]\n",
      " [ 65 123  93  56 153 137  90 133 169  39 173  25  33 131 158  55 139]\n",
      " [124 187 161 104  27  39 174 119 159 151 116 192 194  44 133  62  75]\n",
      " [165 106 184  50 126 117 179 134  23  25  57  86  50  98  49  48  45]\n",
      " [177 126 110 102 109  48 186 152  43  31  96  72 160  20 177 171  51]]\n"
     ]
    }
   ],
   "source": [
    "\n",
    "Arr = np.random.randint(20, 200, size = (18, 17))\n",
    "np.set_printoptions(threshold=np.inf)\n",
    "print(Arr)"
   ]
  },
  {
   "cell_type": "markdown",
   "metadata": {},
   "source": [
    "#### 50. How to find the closest value (to a given scalar) in a vector? "
   ]
  },
  {
   "cell_type": "code",
   "execution_count": 56,
   "metadata": {},
   "outputs": [
    {
     "name": "stdout",
     "output_type": "stream",
     "text": [
      "5\n"
     ]
    }
   ],
   "source": [
    "vec= np.arange(25)\n",
    "\n",
    "\n",
    "sca = 5\n",
    "\n",
    "index = np.abs(vec - sca).argmin()\n",
    "\n",
    "clo_val = vec[index]\n",
    "\n",
    "print(clo_val)"
   ]
  },
  {
   "cell_type": "markdown",
   "metadata": {},
   "source": [
    "#### 51. Create a structured array representing a position (x,y) and a color (r,g,b)"
   ]
  },
  {
   "cell_type": "code",
   "execution_count": 57,
   "metadata": {},
   "outputs": [
    {
     "name": "stdout",
     "output_type": "stream",
     "text": [
      "[((33, 3), (255,   0, 0)) ((44, 5), (  0, 255, 0))]\n"
     ]
    }
   ],
   "source": [
    "\n",
    "pos_dtype= [('x', int), ('y', int)]\n",
    "color_dtype = [('r', int), ('g', int), ('b', int)]\n",
    "\n",
    "\n",
    "positions = np.array([(33, 3), (44, 5)], dtype=pos_dtype)\n",
    "colors = np.array([(255, 0, 0), (0, 255, 0)], dtype=color_dtype)\n",
    "\n",
    "# Combine position and color arrays\n",
    "arra = np.empty(2, dtype=[('position', pos_dtype), ('color', color_dtype)])\n",
    "arra['position'] = positions\n",
    "arra['color'] = colors\n",
    "\n",
    "print(arra)\n",
    "\n"
   ]
  },
  {
   "cell_type": "markdown",
   "metadata": {},
   "source": [
    "#### 52. Consider a random vector with shape (100,2) representing coordinates, find point by point distances "
   ]
  },
  {
   "cell_type": "code",
   "execution_count": 58,
   "metadata": {},
   "outputs": [
    {
     "name": "stdout",
     "output_type": "stream",
     "text": [
      "[[  0.         778.56534729 772.81433734 871.08954764 124.42668524\n",
      "  384.8597147  295.62983611 834.3236782  740.22293939 264.00757565\n",
      "  585.04444276 394.50728764 553.66506121 813.07625719 246.78938389\n",
      "  538.8144393  290.06378609 117.15374514 506.88854791 848.40084866\n",
      "   86.70063437 628.26825481 437.1144015  706.23084045 925.68083052\n",
      "  764.7385174  747.30248227 729.52381729 467.40346597 580.25942474\n",
      "  975.12922221 327.68582514 732.08264561 403.52075535 115.27792503\n",
      "  428.04205401 427.70667519 423.53984464 728.56640054 339.84849566\n",
      "  865.14565248 230.31283073 433.20664815 702.4101366  937.04642361\n",
      "  530.37722425 340.84600628 223.75432957 779.09242071 849.05241299\n",
      "  528.92059896 116.38728453 609.70812689 252.68557537 138.92443989\n",
      "  764.35724632 437.77277211 343.65680555 450.21772511 102.06860438\n",
      "  199.25109786  76.40026178 209.35376758 588.15134107 831.82029309\n",
      "  334.59228921 803.2988236  759.45572616 860.06976461 612.28098125\n",
      "  857.2170087  918.90423875 549.10199417 705.36515366 719.78121676\n",
      "  627.8574679  735.75335541 443.00112867 179.42686532 322.81573692\n",
      "  431.45915218 563.20511361 402.00124378 122.7110427  430.81318457\n",
      "  697.1032922  745.52330614 444.00450448 782.90804058 715.54524665\n",
      "   71.86793444 843.77781436 598.08026217 888.34677914 823.15308418\n",
      "  293.57452206 259.34147374 418.38977043 282.81619473 634.87400325]\n",
      " [778.56534729   0.         185.80096878 124.32618389 712.97265025\n",
      "  465.22790114 507.41009056  56.0357029  290.17580878 670.29545724\n",
      "  195.81879379 398.64771415 230.34105149 141.226768   612.78462774\n",
      "  565.58376922 543.35715694 768.04231654 560.00357142  88.02272434\n",
      "  707.83119457 445.37736808 584.32953032  84.1546196  156.1185447\n",
      "  138.42326394  39.05124838 265.45244395 338.24547299 593.21581233\n",
      "  197.34487579 651.00691241  61.         508.99214139 780.62859287\n",
      "  589.45398463 409.51800937 363.25473156 127.01574706 590.6919671\n",
      "  121.06609765 581.04733026 392.32639473 199.91998399 160.86018774\n",
      "  444.63018341 453.78849699 656.51351852 164.50227962 131.67383947\n",
      "  333.13210593 673.17902522 320.15621187 605.21896864 648.80197287\n",
      "  180.47160441 568.45140514 473.19340655 415.71624938 784.69994265\n",
      "  633.1547994  702.34250904 588.55161201 299.81661061 203.3838735\n",
      "  483.01138703 119.26860442  46.57252409  91.76055798 394.26387103\n",
      "   99.02019996 140.7160261  557.66029086 279.95713958 331.38648132\n",
      "  270.14995836 227.60711764 529.80184975 619.87902045 523.77285153\n",
      "  576.92027179 227.27076363 378.30807552 667.51029955 432.54132751\n",
      "   85.         249.95399577 336.59471178 140.7302384  568.68356755\n",
      "  792.75784449 144.51643505 299.50626037 118.06777715 141.77799547\n",
      "  668.67779984 563.0008881  447.66281954 602.40600927 165.89454482]\n",
      " [772.81433734 185.80096878   0.         295.16944286 735.21969506\n",
      "  405.49845869 546.76228838 207.09901014 111.57060545 727.61665731\n",
      "  229.15715132 379.19124462 243.99385238 327.02446392 563.88740011\n",
      "  689.51069607 593.40121335 790.25122588 436.68066135 258.0736329\n",
      "  716.72379617 591.77782993 479.15028958 229.22478051 214.67417171\n",
      "  319.65762935 206.65188119 437.25164379 305.64031148 724.85929669\n",
      "  277.87227282 724.13258455 222.84748148 595.85652636 801.93827693\n",
      "  486.46685396 352.86399646 408.94987468  77.49193506 514.51433411\n",
      "  145.         550.2453998  342.89648584  70.83784299 241.05186164\n",
      "  566.25965775 431.98379599 702.05412897 347.50683447 312.92171545\n",
      "  442.29515032 683.43251313 460.04564991 556.08992079 634.60381341\n",
      "  360.81019941 464.53525162 433.76721868 342.24260401 802.72037473\n",
      "  667.57845981 700.30921742 565.9832153  429.79530011 389.17990698\n",
      "  443.55157536  78.84795495 225.75429121 176.50495744 252.21022977\n",
      "  267.8824369  240.91699815 684.05628423 446.21295364 157.50872992\n",
      "  412.68026364  56.43580424 630.02857078 597.52154773 583.13634769\n",
      "  675.29623129 226.5259367  407.61869437 678.74000913 518.05212093\n",
      "  169.54350474  71.19691005 373.29077138  47.42362281 726.08608305\n",
      "  803.13199413  96.33794683 433.45357306 193.58202396  76.1642961\n",
      "  733.49846626 604.64865831 377.70888261 543.1325805  162.23748026]\n",
      " [871.08954764 124.32618389 295.16944286   0.         793.99811083\n",
      "  581.37251397 586.63787808  88.1192374  405.08394192 733.24006983\n",
      "  304.21702779 506.57773342 340.26166402  83.5463943  723.43209771\n",
      "  581.89346104 615.22353661 847.85140207 684.03581778  37.64306045\n",
      "  795.31628928 444.01126112 706.72484037 168.25278601 155.59562976\n",
      "  123.8789732  136.12494261 242.12393521 452.32842051 600.54641786\n",
      "  152.47294842 704.50904891 144.31216165 559.14220016 860.62767792\n",
      "  711.55112255 526.3344944  448.00111607 248.39484697 708.30784268\n",
      "  176.91806013 686.836953   508.12695264 321.36116754 137.11673858\n",
      "  470.21803453 560.29010343 726.77713228 129.52219887  38.01315562\n",
      "  380.13155617 760.85806824 338.63992677 716.05935508 747.24627801\n",
      "  152.08221461 690.78795589 584.21656943 535.44841021 866.24765512\n",
      "  710.17321831 794.74398393 691.41304587 331.91715834 128.31991272\n",
      "  593.77857826 218.17882574 117.64352936 132.24598293 518.05887696\n",
      "   27.31300057 111.83022847 571.92482023 265.74611944 448.73600257\n",
      "  292.93343954 343.75863626 568.7187354  721.95359962 591.14549816\n",
      "  615.02032487 341.27554849 469.57214568 754.88608412 488.4393514\n",
      "  202.80532537 364.24442343 427.73940665 247.75794639 546.\n",
      "  877.82458384 224.08926793 327.47060937 135.67977005 232.26278221\n",
      "  727.01100404 638.65875082 566.18813128 715.99441339 286.68100739]\n",
      " [124.42668524 712.97265025 735.21969506 793.99811083   0.\n",
      "  384.17313805 207.38611332 767.45423316 720.41377    139.77839604\n",
      "  527.18592546 360.62445841 500.14098012 729.27703927 285.63088068\n",
      "  415.81366019 185.23768515  55.47071299 542.68407016 775.09354274\n",
      "   53.15072906 512.50853651 479.03757681 635.10943939 865.6725709\n",
      "  680.6856837  678.67591677 630.60685058 433.79718763 456.4482446\n",
      "  910.17855391 203.30272994 661.28133196 288.19611378  67.80117993\n",
      "  471.24728116 414.00120773 349.79422522 681.36407302 380.56931038\n",
      "  810.36596671 242.98559628 413.52388081 667.07270968 873.68758718\n",
      "  416.4540791  315.06507264 100.17983829 691.78970793 768.48161982\n",
      "  432.03356351  64.77653896 507.71054746 288.73517278 157.48650736\n",
      "  675.10295511 475.58490304 333.78136557 443.78598446  72.24956747\n",
      "   87.20665112  96.04686356 215.2324325  490.6974628  741.14303613\n",
      "  326.87918257 754.31094384 688.05886376 799.45606508 612.38060061\n",
      "  783.03575908 853.45943079 426.42349841 605.09338122 707.47791485\n",
      "  531.87310517 705.5388012  323.21509866 197.43353312 215.67568245\n",
      "  308.46879907 513.4685969  336.81003548  66.12110102 326.96482991\n",
      "  636.13284776 718.89150781 377.48907269 738.02777726 593.27312429\n",
      "   88.95504483 795.74179229 499.84197503 827.58081176 776.39229775\n",
      "  169.5169608  157.54364475 417.73197148 322.52286741 584.6990679 ]\n",
      " [384.8597147  465.22790114 405.49845869 581.37251397 384.17313805\n",
      "    0.         272.35638417 519.44297088 357.64367742 438.27502781\n",
      "  278.98745492 102.88342918 242.98971172 550.61601866 158.41717079\n",
      "  561.69920776 323.59542642 433.31512782 194.28072473 549.60440318\n",
      "  349.10456886 555.67616469 163.6154027  416.80331093 589.41326758\n",
      "  509.13652393 445.37175483 539.43118189 129.71121771 609.63103596\n",
      "  647.17385609 467.46657635 438.20086718 405.90885676 442.73016613\n",
      "  162.79127741  55.94640292 238.21209037 378.73737603 127.88275881\n",
      "  521.41538144 154.54772726  73.24616031 335.08954027 607.38867293\n",
      "  471.61530934  92.11405973 395.2480234  533.33854164 572.09527179\n",
      "  380.62317323 321.49805598 459.99673912 150.62868253 247.62269686\n",
      "  528.00852266 150.04665941  53.60037313  66.03786792 439.10932579\n",
      "  347.33269354 320.88003989 177.11578134 422.91015594 592.3377415\n",
      "   58.21511831 452.09733465 463.98491355 528.62179297 229.73245308\n",
      "  560.16069123 594.94537564 564.28716094 525.95151868 335.04925011\n",
      "  445.37175483 361.09278586 459.66183222 205.56507485 336.75658865\n",
      "  487.11805551 240.11039128 203.57799488 318.81812997 358.87184342\n",
      "  380.74663492 367.32546876 220.46541679 425.80042273 691.20908559\n",
      "  430.10928844 489.00920237 433.60927112 555.59067667 467.20017123\n",
      "  457.84385985 314.0270689   33.95585369 139.6065901  300.46630427]\n",
      " [295.62983611 507.41009056 546.76228838 586.63787808 207.38611332\n",
      "  272.35638417   0.         561.32432693 550.09544626 184.08965207\n",
      "  327.42021929 201.24860248 304.3846251  522.88813335 271.76828365\n",
      "  310.16124839  52.95280918 261.63333121 464.28547253 567.81775245\n",
      "  212.94130647 354.13274347 419.49016675 428.36082921 661.47259958\n",
      "  474.29315829 472.36638322 434.01382466 264.04734424 358.35178247\n",
      "  704.20451575 198.70832896 454.52612686 148.86235253 274.3574311\n",
      "  415.10601056 275.57213212 144.77914214 486.14812557 338.35484332\n",
      "  608.87108652 209.89759408 266.12966764 482.29555254 668.27015495\n",
      "  255.64232826 180.83417819 155.32224567 486.56345938 561.44545594\n",
      "  233.41807985 179.84715733 315.53922102 269.08177196 204.1984329\n",
      "  470.77064479 409.6095702  220.41097976 311.68092659 279.63011283\n",
      "  125.80143083 222.69710371 190.92406868 292.61749777 537.70809925\n",
      "  219.42880394 556.78541648 481.13199852 595.30916338 472.51772454\n",
      "  575.69610039 647.4828183  315.92720681 410.1572869  546.36617758\n",
      "  332.23184676 524.67323164 202.74368054 205.68179307  65.94694838\n",
      "  220.62184842 320.46996739 139.17614738 173.56554958 142.00352108\n",
      "  432.94572408 541.281812   176.20726432 543.62487066 467.5082887\n",
      "  292.02739598 598.37780708 302.64996283 623.24393298 580.11205814\n",
      "  196.12496017  57.93962375 299.         295.74313179 389.19660841]\n",
      " [834.3236782   56.0357029  207.09901014  88.1192374  767.45423316\n",
      "  519.44297088 561.32432693   0.         317.35469116 721.43468173\n",
      "  251.83526361 454.49312426 286.23242304 137.74251341 668.14444546\n",
      "  603.34484335 596.04110597 822.39953794 606.95304596  51.6139516\n",
      "  763.11270465 476.12708388 634.41705526 133.96268137 109.38464243\n",
      "  153.73028329  89.02246907 284.74023249 393.28615536 628.06767151\n",
      "  142.90206437 699.92142416 108.2266141  556.57973373 835.02395175\n",
      "  639.87811339 463.60004314 417.66254321 164.68454694 644.16224664\n",
      "   98.41239759 636.94583757 446.78854059 236.75303588 108.40664186\n",
      "  484.64832611 509.69794977 709.11917193 173.76133057 110.31772296\n",
      "  378.63570883 728.45727397 356.42671056 660.5527988  704.80919404\n",
      "  193.82982227 618.63478725 528.6094967  468.40153715 839.31519705\n",
      "  686.92721594 758.06398147 644.56884815 340.3086834  197.49683542\n",
      "  538.45705493 130.17296186  84.17244205  55.78530272 435.66041822\n",
      "   60.90155991  86.21484791 594.69740205 303.2952357  361.4595413\n",
      "  306.96742498 256.46247289 574.39533424 675.90679831 575.50152042\n",
      "  621.48612213 282.64465323 433.62310824 722.75168627 481.2317529\n",
      "  140.54536634 276.50135624 391.80096988 159.67780059 592.15960686\n",
      "  847.8236845  139.60300856 338.63845027  74.24284477 145.45446023\n",
      "  718.78369486 616.42355568 500.9371218  657.18870958 219.16432191]\n",
      " [740.22293939 290.17580878 111.57060545 405.08394192 720.41377\n",
      "  357.64367742 550.09544626 317.35469116   0.         734.17300413\n",
      "  269.74246977 360.30265056 269.6757312  430.17322092 512.82063141\n",
      "  738.22015686 600.71041276 773.83783831 345.71953951 367.66560894\n",
      "  694.50773934 657.49904943 397.44307769 316.83434157 322.18783341\n",
      "  416.51530584 304.25154067 524.10399731 288.73517278 777.72295839\n",
      "  385.04675041 740.3890869  316.74121929 624.9839998  784.67891523\n",
      "  405.79058639 312.60358283 426.22998487 166.02710622 449.01336283\n",
      "  254.54469156 510.90703655 308.84624006 101.40019724 349.75705854\n",
      "  617.37022928 406.25361537 702.32755891 445.31449561 420.47592083\n",
      "  492.3748572  663.16212196 526.38579008 505.24053677 601.50644219\n",
      "  455.93859236 384.21998907 396.6787113  291.60589843 783.47431355\n",
      "  662.39942633 672.10192679 530.87945901 492.11787206 491.6228229\n",
      "  405.64269992 190.41270966 325.20301352 287.97569342 159.8812059\n",
      "  377.77374181 351.43278162 734.48008823 529.04631177  47.\n",
      "  482.86747664  62.68173578 665.8588439  561.06327629 596.48302574\n",
      "  708.48641483 248.74484919 415.48164821 659.22378598 550.13634674\n",
      "  252.60443385  40.85339643 389.21716303 158.44557425 796.70885523\n",
      "  779.31572549 203.3543705  497.7650048  304.05591591 185.43192821\n",
      "  744.42192337 606.41899706 325.61326754 486.67956604 208.48261318]\n",
      " [264.00757565 670.29545724 727.61665731 733.24006983 139.77839604\n",
      "  438.27502781 184.08965207 721.43468173 734.17300413   0.\n",
      "  503.30209616 382.13086764 483.80264571 660.49753974 383.33405797\n",
      "  282.51194665 134.39121995 164.02743673 619.88708649 720.0694411\n",
      "  187.38463117 395.14174672 564.46169046 587.57978182 826.32015587\n",
      "  612.88253361 633.00315955 541.05914649 447.6985593  320.26395364\n",
      "  863.43094686  63.95310782 613.20877358 182.62803728 174.34735444\n",
      "  558.12543393 452.00110619 319.39004368 663.81699285 470.9787681\n",
      "  779.102689   327.95121588 445.15165955 664.68639222 829.77828364\n",
      "  305.91502088 352.16473418  49.57822102 618.80934059 703.3988911\n",
      "  354.57157246 178.60011198 416.98441218 384.13799604 265.93232222\n",
      "  599.62821815 557.7320145  384.67648745 486.77304773 187.06683298\n",
      "   98.73702446 226.21449998 300.6409819  408.79579254 661.84363712\n",
      "  380.82541932 732.01161193 638.22331515 760.9073531  652.07668261\n",
      "  726.60099092 807.23292797 293.98129192 514.00389104 730.09656896\n",
      "  450.58739441 707.78315888 201.89601284 295.40819217 147.16657229\n",
      "  176.92088627 501.15466674 321.06852851 175.071414   245.15301344\n",
      "  602.5089211  724.85929669 354.40090293 721.39101741 460.67884692\n",
      "  216.27991123 773.42679033 416.12498123 788.12435567 756.22549547\n",
      "   29.96664813 129.00387591 468.72806615 417.00479614 567.64865894]\n",
      " [585.04444276 195.81879379 229.15715132 304.21702779 527.18592546\n",
      "  278.98745492 327.42021929 251.83526361 269.74246977 503.30209616\n",
      "    0.         203.48218595  36.138622   272.47018185 419.4877829\n",
      "  469.07995054 370.30797993 582.64225731 409.68402458 274.56328961\n",
      "  517.39733281 391.36939073 417.55478682 137.87313009 340.87241015\n",
      "  233.36237914 169.66437458 292.74562337 149.28161307 508.03543184\n",
      "  390.5124838  496.12196081 160.05624012 366.78604117 594.95546052\n",
      "  420.86696235 225.28204545 184.23083347 160.72336482 406.7529963\n",
      "  283.21016931 385.50875476 206.05096457 176.638048   352.11503802\n",
      "  347.69095473 258.2653674  481.78937307 259.51493213 293.20470665\n",
      "  222.6387208  482.88818582 262.84025567 412.05946173 453.5383115\n",
      "  257.89338883 401.61673272 280.08034562 240.16869072 597.80013382\n",
      "  452.11724143 509.16598472 392.73400668 226.33824246 318.14776441\n",
      "  289.69811874 229.45587811 186.60117899 275.07271766 285.49080546\n",
      "  284.69281691 334.69090218 465.01827921 288.46663585 288.02777644\n",
      "  224.93110056 223.45021817 402.35929218 424.08136012 357.04481511\n",
      "  447.010067    43.41658669 190.5413341  477.46937075 289.17295863\n",
      "  112.29425631 245.54022074 151.23822268 218.2200724  532.58614327\n",
      "  603.31418017 271.03505308 233.31738041 303.35622624 253.16002844\n",
      "  507.16959688 385.05194455 267.36678926 411.86891118  67.06713055]\n",
      " [394.50728764 398.64771415 379.19124462 506.57773342 360.62445841\n",
      "  102.88342918 201.24860248 454.49312426 360.30265056 382.13086764\n",
      "  203.48218595   0.         168.32409216 466.43863476 217.2671167\n",
      "  467.42806933 254.16726776 414.65769015 290.1930392  477.86609003\n",
      "  338.17894671 453.51626211 266.24237078 338.60005907 537.08193044\n",
      "  422.26650353 373.05361545 440.95918178  73.8241153  514.70865545\n",
      "  590.427811   399.72240368 362.3106402  317.15768949 425.84621637\n",
      "  265.64638149  79.07591289 136.24243098 334.67745667 221.90313202\n",
      "  473.56203395 182.53766735  65.78753681 309.38648969 551.26400209\n",
      "  371.60193756  55.6057551  345.7658167  444.48734515 492.70883897\n",
      "  277.74268667 305.4734031  357.46328483 210.05237442 257.63540129\n",
      "  436.92791167 252.29546171  80.39900497 115.60276813 425.55610676\n",
      "  303.35622624 321.22422076 192.20041623 320.66493416 503.08746754\n",
      "   89.10667764 409.59125967 389.32377271 472.8001692  271.27108213\n",
      "  487.87805854 535.5641885  469.012793   426.12674171 350.58379883\n",
      "  344.60557163 345.75280187 369.21809273 223.98660674 259.48024973\n",
      "  401.19945164 173.21662738 102.72779565 301.0946695  262.27466519\n",
      "  314.01433088 358.39782365 117.74548824 388.46492763 590.21097923\n",
      "  424.35480438 449.69434064 331.44531977 500.8193287  428.87877075\n",
      "  396.72912674 253.16002844 114.69088891 213.97429752 243.2878953 ]\n",
      " [553.66506121 230.34105149 243.99385238 340.26166402 500.14098012\n",
      "  242.98971172 304.3846251  286.23242304 269.6757312  483.80264571\n",
      "   36.138622   168.32409216   0.         308.01623334 383.69258528\n",
      "  469.92978199 349.76849486 555.5987761  378.57231806 310.31113419\n",
      "  488.04303089 402.91438296 383.64827642 173.97988389 372.15588132\n",
      "  268.02984908 205.38743876 319.95312157 113.28283189 510.89920728\n",
      "  423.44539199 480.72965376 196.16319736 357.16942758 567.75522895\n",
      "  386.67945381 189.59430371 164.97575579 182.01648277 370.80722755\n",
      "  312.05448242 350.714984   170.17931719 184.32851109 384.66218946\n",
      "  351.         223.46588106 459.59656222 293.61539469 329.30988446\n",
      "  227.63567383 453.70585185 278.0953074  376.23529872 420.74338973\n",
      "  290.90376416 367.76351097 244.19049941 205.78872661 570.03245522\n",
      "  427.53713289 478.13805538 358.74503481 240.26027553 352.4599268\n",
      "  253.85231927 254.18890613 222.62524565 306.86316169 265.17352809\n",
      "  320.51209026 368.04890979 466.8361597  313.44058448 282.19496806\n",
      "  244.57309746 230.00869549 396.42527669 390.25248238 339.17104829\n",
      "  439.64531159  21.1896201  165.52945357 448.44286147 281.11385594\n",
      "  145.8903698  250.2878343  129.40247293 239.35329536 545.0229353\n",
      "  574.29783214 295.66535137 248.36465127 335.08954027 276.62248643\n",
      "  489.51915182 362.3106402  232.05387306 375.76854578  84.97058314]\n",
      " [813.07625719 141.226768   327.02446392  83.5463943  729.27703927\n",
      "  550.61601866 522.88813335 137.74251341 430.17322092 660.49753974\n",
      "  272.47018185 466.43863476 308.01623334   0.         683.26422415\n",
      "  499.02705337 547.32074691 782.13042391 673.90281198  95.12623192\n",
      "  734.42494511 360.46913876 688.29063629 137.52454326 231.65923249\n",
      "   48.60041152 128.44454056 158.80806025 421.09975065 517.08800025\n",
      "  235.66925977 628.61832617 122.97154142 483.25976452 794.93647545\n",
      "  692.08742222 497.61028928 390.18585315 264.80181268 678.49834193\n",
      "  236.13555429 641.62995566 478.12236927 336.00148809 217.14741537\n",
      "  389.08225351 517.57608136 657.14001552  46.17358552  46.4865572\n",
      "  305.94117082 700.35205433 257.61405241 676.20189293 694.68913911\n",
      "   68.68041933 672.29755317 546.24262009 512.04784933 801.3719486\n",
      "  643.93322635 737.16348255 643.29153578 254.2380774   62.24146528\n",
      "  555.34223682 257.70137757 106.45186706 192.62658176 521.47579043\n",
      "   93.43446901 191.21192431 488.90285334 182.20043908 469.9106298\n",
      "  213.84573879 367.4914965  489.64170574 672.78897137 521.43743632\n",
      "  535.47175462 314.03980639 415.63686073 694.23411037 415.39017803\n",
      "  193.00259066 390.36649446 374.8826483  281.60255681 464.27578011\n",
      "  814.91349234 275.13632984 248.78303801 204.8047851  277.52117036\n",
      "  652.60478086 572.3853597  539.83423382 679.74406948 273.79189177]\n",
      " [246.78938389 612.78462774 563.88740011 723.43209771 285.63088068\n",
      "  158.41717079 271.76828365 668.14444546 512.82063141 383.33405797\n",
      "  419.4877829  217.2671167  383.69258528 683.26422415   0.\n",
      "  581.72330192 308.60006481 323.37284982 262.09349477 694.00072046\n",
      "  238.09661904 614.93414282 194.87944992 555.69865935 743.96236464\n",
      "  638.45125108 589.07724451 645.17439503 275.18175812 629.76979921\n",
      "  800.23121659 430.4985482  579.1200221  420.60194959 329.81509971\n",
      "  186.59314028 211.92923347 318.26561234 534.73918876  95.8853482\n",
      "  677.10708163  61.91122677 224.96444163 493.40551274 760.59779121\n",
      "  519.70857218 166.1114084  334.21101119 659.7347952  709.97535168\n",
      "  460.29772974 221.71377945 545.88002345   7.81024968 128.31601615\n",
      "  650.85559074 193.31321734 139.61733417 223.06277143 322.39882134\n",
      "  284.60498942 199.44924166  84.86459804 513.06237438 717.86906884\n",
      "  129.86531485 608.80210249 605.95874447 681.70741524 372.53322\n",
      "  704.17327413 746.7261881  587.67678191 627.02870748 486.43396263\n",
      "  544.03308723 519.24945835 474.19510752  89.47066558 334.49813153\n",
      "  487.6105003  385.529506   284.00704217 221.92115717 401.32904206\n",
      "  527.78783616 524.75518101 317.90721917 583.30952332 736.89212236\n",
      "  305.00163934 646.41318056 524.10399731 709.17205247 624.69512564\n",
      "  409.60590816 285.70089254 187.9707424   37.33630941 451.4864339 ]\n",
      " [538.8144393  565.58376922 689.51069607 581.89346104 415.81366019\n",
      "  561.69920776 310.16124839 603.34484335 738.22015686 282.51194665\n",
      "  469.07995054 467.42806933 469.92978199 499.02705337 581.72330192\n",
      "    0.         276.58633372 446.44820528 755.48461268 582.57102571\n",
      "  454.8142478  148.60013459 720.23607241 484.64523107 712.411398\n",
      "  459.75863233 526.92504211 346.28312116 500.9481011   48.41487375\n",
      "  731.11968924 220.7826986  504.83462639 161.41871019 456.85884034\n",
      "  717.06973162 546.05860491 338.46270105 613.34818823 646.0495337\n",
      "  686.45465983 519.81246618 530.02358438 645.07131389 706.00070821\n",
      "  123.40583455 471.65347449 315.63428204 452.86642622 545.51351954\n",
      "  247.58836806 434.4249072  246.95141223 579.19340466 497.77605406\n",
      "  430.44744162 708.63530818 515.58995335 582.00085911 469.51570794\n",
      "  343.21130518 485.61919237 499.44369052 266.31747971 476.32971774\n",
      "  517.30165281 663.09124561 522.18770572 654.67320092 715.71293128\n",
      "  585.34946827 680.42486727  13.03840481 319.73895603 752.00265957\n",
      "  296.43549045 691.93785848 107.54068997 509.94607558 247.8245347\n",
      "  107.37783756 491.11403971 366.65242397 428.98135158 205.64289436\n",
      "  527.50165877 714.46343503 370.74654415 665.45623447 178.17968459\n",
      "  498.03614327 700.04571279 266.08457302 677.34555435 689.08780282\n",
      "  256.75864153 304.35669863 580.94147726 605.73261428 533.83330732]\n",
      " [290.06378609 543.35715694 593.40121335 615.22353661 185.23768515\n",
      "  323.59542642  52.95280918 596.04110597 600.71041276 134.39121995\n",
      "  370.30797993 254.16726776 349.76849486 547.32074691 308.60006481\n",
      "  276.58633372   0.         235.77955806 514.12547107 598.86308953\n",
      "  203.73512216 341.03665492 466.86186394 462.20017309 698.72025876\n",
      "  498.86471112 507.07987536 445.42563914 316.03955449 323.78387854\n",
      "  738.80173254 145.78408692 488.20692334 120.41594579 248.55582874\n",
      "  462.00108225 328.40219244 186.07794066 530.43378475 382.09946349\n",
      "  648.8451279  247.07286375 319.08149429 530.29520081 703.88990616\n",
      "  242.16729754 232.69078194 113.15917992 508.52335246 587.9158103\n",
      "  246.9817807  174.65680634 322.88852566 306.88923083 222.52415599\n",
      "  491.21176696 457.65489181 271.01475975 364.42420337 256.09568524\n",
      "   98.11218069 223.37860238 224.65974272 305.49795417 556.69201539\n",
      "  269.35664091 599.56817794 514.14005874 632.82620047 525.4379126\n",
      "  606.15674541 682.2213717  283.93309071 420.04880669 598.0836062\n",
      "  346.77081769 573.45444457 169.94410846 233.44592522  33.06055051\n",
      "  179.0251379  366.89099199 186.70297266 168.44286865 142.24275025\n",
      "  472.23934609 590.6894277  220.41097976 588.01700656 442.87244213\n",
      "  273.70787347 641.08969731 314.60610293 660.44606139 623.46290988\n",
      "  144.03124661  31.06444913 351.01139583 335.83924726 433.94239249]\n",
      " [117.15374514 768.04231654 790.25122588 847.85140207  55.47071299\n",
      "  433.31512782 261.63333121 822.39953794 773.83783831 164.02743673\n",
      "  582.64225731 414.65769015 555.5987761  782.13042391 323.37284982\n",
      "  446.44820528 235.77955806   0.         584.08989034 829.43896701\n",
      "   86.092973   552.762155   518.2123117  689.82389057 920.96145413\n",
      "  733.57344554 733.55708708 679.72053081 488.07888707 484.10329476\n",
      "  965.179776   227.14092542 715.99581004 330.82321563  12.80624847\n",
      "  509.96568512 465.66941063 404.79748023 736.76590583 419.22786167\n",
      "  865.81291282 287.         466.0826107  721.90373319 928.80622306\n",
      "  458.85182794 367.83284247 136.97079981 744.00268817 821.84244232\n",
      "  482.60957305 111.98660634 556.11959145 327.3912033  196.02295784\n",
      "  726.90921029 515.98449589 384.19396143 494.40974909  23.08679276\n",
      "  138.22445514 124.42668524 260.12304781 540.81142739 792.47081965\n",
      "  376.82489302 809.76169334 742.68970641 854.74265133 662.53528208\n",
      "  837.2729543  908.45473195 457.7968982  653.79278063 759.89472955\n",
      "  582.28000137 760.01184201 360.67298208 238.4722206  264.62237245\n",
      "  340.23815189 568.86290088 392.23717315 115.20850663 375.8257575\n",
      "  691.47523455 773.0523915  432.8336863  793.38515237 624.62788923\n",
      "   53.85164807 851.18505626 549.65898519 882.85049697 831.80887228\n",
      "  191.26160096 209.74508338 467.12418049 360.69377594 640.13279872]\n",
      " [506.88854791 560.00357142 436.68066135 684.03581778 542.68407016\n",
      "  194.28072473 464.28547253 606.95304596 345.71953951 619.88708649\n",
      "  409.68402458 290.1930392  378.57231806 673.90281198 262.09349477\n",
      "  755.48461268 514.12547107 584.08989034   0.         648.01234556\n",
      "  498.15760558 741.20779812  71.84010022 536.55381836 648.29699984\n",
      "  639.97265567 552.17479117 697.21804337 281.35742393 803.25400715\n",
      "  710.94373898 655.20225885 552.05525086 600.18747071 591.11843145\n",
      "   81.60882305 215.         425.73465915 444.70776921 167.10774967\n",
      "  577.25644215 300.059994   234.1367122  378.52873075 672.29755317\n",
      "  661.70990623 286.00699292 573.72641564 667.3866945  684.48082515\n",
      "  561.94750645 477.91421824 635.31409555 257.32858372 388.06700452\n",
      "  667.25257587  69.11584478 244.07375934 183.17205027 584.17291961\n",
      "  524.0009542  461.04338191 328.12345238 596.98073671 725.11585281\n",
      "  244.89997958 505.39984171 573.6139817  598.50480366 186.46179233\n",
      "  659.01213949 666.84705893 757.76315561 688.31678753 304.13319451\n",
      "  612.71934848 381.08398025 653.92507216 345.93930103 529.52242634\n",
      "  681.10571867 366.26766169 392.90838627 477.00104822 551.57229807\n",
      "  484.19520857 374.56241135 402.0199     473.34237081 879.58228723\n",
      "  567.05643458 532.46314426 607.05518695 621.45635406 511.28172273\n",
      "  642.09189373 501.32823579 175.50498568 225.00888871 400.80543908]\n",
      " [848.40084866  88.02272434 258.0736329   37.64306045 775.09354274\n",
      "  549.60440318 567.81775245  51.6139516  367.66560894 720.0694411\n",
      "  274.56328961 477.86609003 310.31113419  95.12623192 694.00072046\n",
      "  582.57102571 598.86308953 829.43896701 648.01234556   0.\n",
      "  774.25125121 449.13806341 671.97693413 142.30249471 136.82470537\n",
      "  123.47064428 104.92378186 251.03187049 421.21965766 604.02069501\n",
      "  148.94629905 694.2405923  116.81181447 549.36417794 842.17159772\n",
      "  676.98449022 494.23172703 426.81377672 210.85777197 675.9859466\n",
      "  145.66056433 659.20254854 476.42418075 283.78160617 124.57929202\n",
      "  467.40560544 532.2029688  711.24819859 137.13132392  60.21627687\n",
      "  369.99594592 739.67154873 336.58282784 686.5464296  722.33233349\n",
      "  159.00314462 656.07392876 554.49075736 502.0597574  847.28389575\n",
      "  692.416782   772.00064767 664.84960705 325.64090652 150.73486657\n",
      "  564.16309699 181.69479904  89.35882721 100.95543571 480.83261121\n",
      "   11.          98.61541462 573.17100415 272.36005581 411.17514516\n",
      "  288.7784618  306.21724315 562.44644189 695.71402171 576.12672217\n",
      "  609.21014437 309.9032107  446.4000448  733.79152353 476.49554038\n",
      "  169.31922513 326.84093991 404.40079129 210.70595625 558.16216282\n",
      "  857.69516729 190.21303846 322.3724554  110.05453194 196.93907687\n",
      "  715.2859568  621.15537509 533.37603996 685.38821116 252.51732614]\n",
      " [ 86.70063437 707.83119457 716.72379617 795.31628928  53.15072906\n",
      "  349.10456886 212.94130647 763.11270465 694.50773934 187.38463117\n",
      "  517.39733281 338.17894671 488.04303089 734.42494511 238.09661904\n",
      "  454.8142478  203.73512216  86.092973   498.15760558 774.25125121\n",
      "    0.         541.59948301 432.7262414  632.7313806  857.99417247\n",
      "  685.89940953 675.05999733 645.53853487 412.00121359 497.35299336\n",
      "  905.09667992 249.39326374 658.80042502 316.91008188  94.19129471\n",
      "  424.60452188 383.94270406 347.50683447 667.0322331  333.80832824\n",
      "  799.99249996 201.03979706 385.76806503 647.36465767 867.72403447\n",
      "  443.67668408 288.48050194 142.6218777  699.03361865 771.77004347\n",
      "  445.13818079  34.6554469  524.75232253 241.8532613  110.16805345\n",
      "  683.55614254 430.20460249 301.27230208 411.34049156  90.02777349\n",
      "  113.00442469  43.01162634 174.41330224 504.35007683 750.61175051\n",
      "  293.47061182 741.03306269 685.97376043 791.95012469 578.74433043\n",
      "  782.69406539 848.53874396 464.7601532  620.97745531 678.66044529\n",
      "  544.56771847 683.79090371 357.20162374 152.39750654 236.34931775\n",
      "  347.70389702 499.60484385 329.52389898  40.45985665 345.11012735\n",
      "  628.37090957 695.70827219 371.31253682 722.80011068 630.67265677\n",
      "   86.53323061 782.12530965 514.07878774 820.21033888 762.13515862\n",
      "  217.34994824 173.21951391 383.02088716 275.34705373 571.400035  ]\n",
      " [628.26825481 445.37736808 591.77782993 444.01126112 512.50853651\n",
      "  555.67616469 354.13274347 476.12708388 657.49904943 395.14174672\n",
      "  391.36939073 453.51626211 402.91438296 360.46913876 614.93414282\n",
      "  148.60013459 341.03665492 552.762155   741.20779812 449.13806341\n",
      "  541.59948301   0.         719.27324432 370.5684822  583.2392305\n",
      "  325.77906624 408.37727655 203.16003544 465.22790114 157.48650736\n",
      "  595.62572141 341.28140881 386.74539428 224.87774456 564.47674886\n",
      "  718.09261241 526.2109843  317.47283348 514.2859127  660.92813528\n",
      "  565.84980339 555.09368579 507.22085919 558.45590694 573.6941694\n",
      "   99.08077513 474.94104897 415.95312236 314.58226269 406.63620104\n",
      "  181.0690476  514.81744337 131.91285002 610.69550514 557.8180707\n",
      "  292.03595669 705.64155206 518.81114098 558.96064262 575.53887792\n",
      "  429.40889604 564.28716094 540.71249292 165.48413821 331.69865842\n",
      "  523.24468464 553.11481629 399.6623575  530.0084905  665.67634778\n",
      "  450.56852975 547.7517686  136.48443135 178.31713322 679.12443631\n",
      "  179.47701803 604.30786856 193.25889372 558.83897502 308.01461004\n",
      "  224.75764726 423.30249231 352.27829908 508.71701367 214.44113411\n",
      "  423.09337031 628.17195098 339.20053066 560.99376111 142.2743828\n",
      "  600.16164489 586.61912686 159.81551865 550.26266455 578.70545185\n",
      "  374.8826483  372.06585439 566.99647265 631.45704525 449.03451983]\n",
      " [437.1144015  584.32953032 479.15028958 706.72484037 479.03757681\n",
      "  163.6154027  419.49016675 634.41705526 397.44307769 564.46169046\n",
      "  417.55478682 266.24237078 383.64827642 688.29063629 194.87944992\n",
      "  720.23607241 466.86186394 518.2123117   71.84010022 671.97693413\n",
      "  432.7262414  719.27324432   0.         551.05807316 685.63109614\n",
      "  650.84714027 571.95279525 695.17479816 276.05253123 768.49202989\n",
      "  747.29646058 603.86173914 569.10631696 561.48731063 524.69038489\n",
      "    9.8488578  201.15665537 401.82209994 476.83120703  98.99494937\n",
      "  614.75198251 238.79907873 221.74083972 415.91465471 707.96115713\n",
      "  634.36346049 249.0401574  517.01547366 677.03175701 703.40955353\n",
      "  543.83821124 414.49366702 622.01366544 190.87430419 322.62826907\n",
      "  674.50500369  16.         204.79501947 178.05897899 517.1508484\n",
      "  466.95824224 394.31205916 266.92320993 584.4630014  735.70238548\n",
      "  202.9704412  542.64721505 592.57067089 631.8172204  238.21209037\n",
      "  682.91287878 700.2013996  723.59795467 683.60588061 359.24364991\n",
      "  604.68338823 425.33986411 615.90015425 281.60433235 485.41219597\n",
      "  639.41379403 374.8346302  367.07764846 414.06400471 520.05865054\n",
      "  504.21622346 422.12083578 383.27144428 511.76947936 854.32546491\n",
      "  498.78652748 573.07940113 595.00336134 656.31775841 551.39278196\n",
      "  588.15389143 451.05321194 157.16551785 157.54364475 420.14521299]\n",
      " [706.23084045  84.1546196  229.22478051 168.25278601 635.10943939\n",
      "  416.80331093 428.36082921 133.96268137 316.83434157 587.57978182\n",
      "  137.87313009 338.60005907 173.97988389 137.52454326 555.69865935\n",
      "  484.64523107 462.20017309 689.82389057 536.55381836 142.30249471\n",
      "  632.7313806  370.5684822  551.05807316   0.         239.77697971\n",
      "  106.23088063  45.61797891 208.66480297 287.12366674 514.16437061\n",
      "  276.60260302 567.16840533  26.17250466 424.87292218 702.49911032\n",
      "  555.0009009  362.74646794 285.72714257 154.26276284 544.48966932\n",
      "  202.70421801 518.58461219 343.75863626 216.54098919 242.21065212\n",
      "  362.6927074  392.08417464 575.23560391 135.14806695 155.33190271\n",
      "  249.17664417 598.11035771 241.74780247 548.38307778 580.13963836\n",
      "  141.44963768 535.05980974 416.81890552 375.48102482 707.15769104\n",
      "  553.71924294 629.83251742 523.35934118 218.33002542 190.12890364\n",
      "  426.2792512  182.58422714  53.26349594 175.91475208 388.69268066\n",
      "  151.47607072 220.05681085 477.20540651 217.00230414 351.10254912\n",
      "  192.04426573 255.87692354 445.89684906 554.03249002 441.54274991\n",
      "  493.         177.81451009 304.25154067 592.2837158  348.58858272\n",
      "   64.44377394 280.16602221 262.24034777 192.77188592 499.98499977\n",
      "  716.67914718 216.66794871 219.00228309 201.95544063 208.13697413\n",
      "  585.31700812 482.95755507 404.18807503 549.31320756 137.64083696]\n",
      " [925.68083052 156.1185447  214.67417171 155.59562976 865.6725709\n",
      "  589.41326758 661.47259958 109.38464243 322.18783341 826.32015587\n",
      "  340.87241015 537.08193044 372.15588132 231.65923249 743.96236464\n",
      "  712.411398   698.72025876 920.96145413 648.29699984 136.82470537\n",
      "  857.99417247 583.2392305  685.63109614 239.77697971   0.\n",
      "  258.03100589 194.16487839 387.46612755 469.9968085  736.39799022\n",
      "   63.19810124 806.94299675 215.08137995 664.41101737 933.45058787\n",
      "  692.22322989 533.74338403 516.80654021 211.57031928 708.92171641\n",
      "   71.06335202 718.80804113 519.18879033 270.22398117  29.54657341\n",
      "  594.01430959 592.67950867 811.86513658 273.80650102 191.63767897\n",
      "  487.24737044 823.42273469 465.45998754 736.21260516 792.66954022\n",
      "  295.43357968 670.41032212 606.0833276  532.18887625 936.98719308\n",
      "  787.26869619 849.94352754 729.20916067 449.68989315 283.52072235\n",
      "  616.07548239 143.13629868 192.89893727  66.21933252 465.98819728\n",
      "  138.46299145  46.04345773 703.62774249 408.00122549 369.16392023\n",
      "  416.1586236  271.06456795 683.38056747 760.94217914 679.6624162\n",
      "  730.49298422 364.13870983 529.3203189  817.92236795 588.35788428\n",
      "  229.73027663 284.02816762 488.22638192 174.95713761 694.87408931\n",
      "  943.64929926 119.00420161 448.00111607  38.27531842 138.52075657\n",
      "  824.79391365 717.64963596 566.65421555 728.96227612 294.00680264]\n",
      " [764.7385174  138.42326394 319.65762935 123.8789732  680.6856837\n",
      "  509.13652393 474.29315829 153.73028329 416.51530584 612.88253361\n",
      "  233.36237914 422.26650353 268.02984908  48.60041152 638.45125108\n",
      "  459.75863233 498.86471112 733.57344554 639.97265567 123.47064428\n",
      "  685.89940953 325.77906624 650.84714027 106.23088063 258.03100589\n",
      "    0.         113.17243481 131.03434664 380.2223034  480.57673685\n",
      "  271.40007369 582.06958347 100.         436.64401977 746.37926016\n",
      "  654.22396777 457.13236595 342.14762896 250.71497761 636.88774521\n",
      "  249.61169844 595.5980188  437.29280808 318.42267507 247.94555854\n",
      "  346.53859814 472.46693006 608.91132359  29.15475947  90.80198236\n",
      "  258.50725328 651.85351115 215.03720608 631.48792546 647.10509193\n",
      "   42.05948169 634.89369189 502.41516697 473.5113515  752.78748661\n",
      "  595.38558935 688.88896057 596.59869259 208.39625716  85.15867542\n",
      "  511.34430671 257.59658383  94.20191081 209.29644049 494.92322637\n",
      "  125.6343902  222.03603311 450.15552868 150.0833102  453.41592385\n",
      "  169.06803364 354.276728   444.94606415 625.84422982 473.17332976\n",
      "  491.17817541 276.04528614 368.18473624 645.72827102 367.72952016\n",
      "  168.43990026 378.04232567 327.75753233 277.00180505 438.46322537\n",
      "  766.31716671 281.55638867 203.6786685  226.63847864 280.12854192\n",
      "  605.48575541 523.82917063 500.001      636.06446214 243.51591324]\n",
      " [747.30248227  39.05124838 206.65188119 136.12494261 678.67591677\n",
      "  445.37175483 472.36638322  89.02246907 304.25154067 633.00315955\n",
      "  169.66437458 373.05361545 205.38743876 128.44454056 589.07724451\n",
      "  526.92504211 507.07987536 733.55708708 552.17479117 104.92378186\n",
      "  675.05999733 408.37727655 571.95279525  45.61797891 194.16487839\n",
      "  113.17243481   0.         233.92733915 316.58963975 555.04414239\n",
      "  231.91808899 612.78462774  22.09072203 470.38920056 746.19702492\n",
      "  576.53187249 390.24351372 328.9331239  138.22445514 572.19751834\n",
      "  159.53056134 554.65755201 372.13572793 208.03124765 196.91876498\n",
      "  405.74499381 427.54765816 620.18142507 141.48498154 132.30646243\n",
      "  294.15982051 640.41002491 282.00177304 581.62272995 619.37145559\n",
      "  154.15900882 555.98021548 449.56979436 399.53097502 750.60309085\n",
      "  597.93310663 670.95156308 560.81547768 260.96934686 188.30825792\n",
      "  459.23958889 148.92951353  22.13594362 130.60245021 394.08755372\n",
      "  115.16944039 175.2369824  519.11463089 246.40008117 342.54634723\n",
      "  232.         241.76021178 490.80036675 591.84879826 486.80283483\n",
      "  537.92192742 205.36065836 345.80919594 634.65344874 394.19411462\n",
      "   68.02940541 265.30736891 303.86345618 165.05150711 533.83330732\n",
      "  759.48008532 178.8686669  260.84669827 156.38733964 173.29743218\n",
      "  630.89222534 527.40212362 430.08487534 580.62208019 152.01315733]\n",
      " [729.52381729 265.45244395 437.25164379 242.12393521 630.60685058\n",
      "  539.43118189 434.01382466 284.74023249 524.10399731 541.05914649\n",
      "  292.74562337 440.95918178 319.95312157 158.80806025 645.17439503\n",
      "  346.28312116 445.42563914 679.72053081 697.21804337 251.03187049\n",
      "  645.53853487 203.16003544 695.17479816 208.66480297 387.46612755\n",
      "  131.03434664 233.92733915   0.         419.36261159 360.55512755\n",
      "  394.46165847 500.18896429 215.24404754 358.5749573  692.36406608\n",
      "  696.80485073 494.29141202 328.19658743 362.9269899  662.84538167\n",
      "  380.32091712 593.86277876 473.67604964 422.95271603 375.08532363\n",
      "  246.61102976 482.29969936 546.76960413 114.01754251 204.36486978\n",
      "  200.60907258 613.36530714 124.27791437 639.07824247 627.5866474\n",
      "   92.04890005 679.72053081 519.78168494 518.47565034 700.80025685\n",
      "  543.40592562 656.51351852 588.66968667 141.39660533 130.17680285\n",
      "  527.29972501 382.68786236 219.1255348  340.3307215  576.33410449\n",
      "  251.09759059 349.07019351 335.37143587  27.65863337 555.83090954\n",
      "  103.16006979 463.99353444 353.1586046  614.5445468  415.24571039\n",
      "  396.27515693 334.98208907 361.40005534 607.04942138 303.91610685\n",
      "  271.90071717 488.36257023 328.12345238 398.24615503 307.66865294\n",
      "  719.1216865  409.92682274 131.47243057 357.24641356 406.53905101\n",
      "  528.33417455 474.17823653 538.43569718 650.37220113 328.16154558]\n",
      " [467.40346597 338.24547299 305.64031148 452.32842051 433.79718763\n",
      "  129.71121771 264.04734424 393.28615536 288.73517278 447.6985593\n",
      "  149.28161307  73.8241153  113.28283189 421.09975065 275.18175812\n",
      "  500.9481011  316.03955449 488.07888707 281.35742393 421.21965766\n",
      "  412.00121359 465.22790114 276.05253123 287.12366674 469.9968085\n",
      "  380.2223034  316.58963975 419.36261159   0.         546.46591842\n",
      "  525.34274526 459.57371552 308.75394734 361.56465535 499.36459626\n",
      "  278.09710534  77.02596965 162.8250595  263.91096984 257.52863918\n",
      "  404.64923082 249.57964661  57.07889277 235.64804264 485.80037052\n",
      "  394.02791779 126.65701718 414.08211746 405.00493824 442.43869632\n",
      "  284.29034454 379.24134796 354.35857546 267.52943763 329.70592958\n",
      "  400.71935316 260.48608408 136.21306839  99.3680029  499.24743364\n",
      "  373.66428783 394.67074885 262.41379537 315.90504903 464.00107758\n",
      "  146.18481453 338.82886536 334.77305746 406.95208563 217.11287387\n",
      "  431.65379646 471.58138216 500.75243384 408.64899364 282.39865439\n",
      "  331.62177251 272.0386002  410.20970247 294.21080877 316.29100525\n",
      "  446.92393089 111.3283432  139.47401192 374.81728882 296.54342009\n",
      "  253.30811278 285.11225859 130.667517   316.42534665 606.06022803\n",
      "  498.1736645  378.31864876 325.86193395 434.61477195 357.20722277\n",
      "  460.00434781 319.06112267 120.59850745 264.28204631 176.49079296]\n",
      " [580.25942474 593.21581233 724.85929669 600.54641786 456.4482446\n",
      "  609.63103596 358.35178247 628.06767151 777.72295839 320.26395364\n",
      "  508.03543184 514.70865545 510.89920728 517.08800025 629.76979921\n",
      "   48.41487375 323.78387854 484.10329476 803.25400715 604.02069501\n",
      "  497.35299336 157.48650736 768.49202989 514.16437061 736.39799022\n",
      "  480.57673685 555.04414239 360.55512755 546.46591842   0.\n",
      "  751.53176912 257.00778198 533.02345164 209.72362766 494.00404857\n",
      "  765.37115179 593.15090829 384.46976474 648.0771559  694.46094203\n",
      "  714.28005712 567.86001796 576.84746684 683.01171293 728.29732939\n",
      "  160.35273618 519.80477104 356.52349151 471.0244155  563.41547725\n",
      "  285.44001121 478.29802425 273.06592611 627.30933358 544.09649879\n",
      "  448.4651603  756.82758935 563.79872295 628.94276369 507.06311244\n",
      "  386.84622268 529.46199108 547.24400408 297.05386717 489.12370623\n",
      "  565.58376922 694.73016344 548.7148622  680.69449829 760.23220137\n",
      "  606.01155105 702.47704589  45.80392996 335.30433937 793.07250614\n",
      "  323.07584249 729.80134283 155.61812234 557.22975513 295.57570942\n",
      "  150.15325504 532.07988122 413.44648989 473.00422831 252.53316614\n",
      "  560.33025976 752.69781453 415.94350578 698.82758961 145.06550245\n",
      "  536.53704439 730.6161783  295.33201655 702.29979354 720.66774591\n",
      "  293.         351.00569796 628.49741447 654.0030581  571.69397408]\n",
      " [975.12922221 197.34487579 277.87227282 152.47294842 910.17855391\n",
      "  647.17385609 704.20451575 142.90206437 385.04675041 863.43094686\n",
      "  390.5124838  590.427811   423.44539199 235.66925977 800.23121659\n",
      "  731.11968924 738.80173254 965.179776   710.94373898 148.94629905\n",
      "  905.09667992 595.62572141 747.29646058 276.60260302  63.19810124\n",
      "  271.40007369 231.91808899 394.46165847 525.34274526 751.53176912\n",
      "    0.         840.26007879 250.63519306 696.01149416 977.78934337\n",
      "  753.74332501 591.31379148 560.39361167 271.53636957 768.21090854\n",
      "  133.82077567 772.79816252 576.07030821 332.56728642  39.81205847\n",
      "  616.35136083 645.98838999 851.833904   281.15476165 190.44421755\n",
      "  516.97969012 870.44873485 485.47399518 792.52318578 843.97689542\n",
      "  303.65934861 731.98087407 661.54742838 591.33831264 981.96995881\n",
      "  829.82528282 899.02725209 782.01023011 474.26680255 277.52117036\n",
      "  671.5094936  205.54804791 225.21101216 118.59595271 529.06048804\n",
      "  145.77379737  56.72741841 721.55526469 417.62782474 432.04166466\n",
      "  437.71451884 334.26037755 710.76930153 813.60002458 717.90041092\n",
      "  757.63975608 417.2349458  575.5918693  864.79882054 621.78854927\n",
      "  278.22652641 347.11669508 533.92227899 237.73935307 698.10314424\n",
      "  990.09494494 182.09887424 471.208022    91.78779875 201.71762442\n",
      "  860.07034596 759.31877364 625.44783955 786.47059703 348.85240432]\n",
      " [327.68582514 651.00691241 724.13258455 704.50904891 203.30272994\n",
      "  467.46657635 198.70832896 699.92142416 740.3890869   63.95310782\n",
      "  496.12196081 399.72240368 480.72965376 628.61832617 430.4985482\n",
      "  220.7826986  145.78408692 227.14092542 655.20225885 694.2405923\n",
      "  249.39326374 341.28140881 603.86173914 567.16840533 806.94299675\n",
      "  582.06958347 612.78462774 500.18896429 459.57371552 257.00778198\n",
      "  840.26007879   0.         592.11907586 145.42695761 237.\n",
      "  598.19896356 474.15714695 316.29100525 656.55845132 513.74409972\n",
      "  763.9849475  372.22842449 464.81178987 664.45917858 808.21902972\n",
      "  257.8410363  377.58442764 107.33126292 585.3417805  672.86848641\n",
      "  324.51964501 237.40261161 377.63739222 430.464865   319.71549853\n",
      "  565.15484604 595.8867342  414.2873399  510.10783174 250.07198963\n",
      "  150.24313628 286.66531007 346.09969662 374.51301713 624.7599539\n",
      "  411.77906698 721.62663476 615.90664877 742.53215419 670.9292064\n",
      "  700.02357103 784.77066714 232.64780248 472.70498199 740.35734615\n",
      "  415.61640969 709.08462118 150.33296378 345.07970094 144.\n",
      "  117.95338062 499.51376357 325.02461445 233.23807579 218.69156362\n",
      "  588.59238867 727.64620524 352.94475488 713.78498163 398.62890011\n",
      "  279.86603938 762.56999679 380.65469917 769.04746277 746.56078118\n",
      "   36.05551275 153.93505124 495.84675052 462.29968635 562.26772982]\n",
      " [732.08264561  61.         222.84748148 144.31216165 661.28133196\n",
      "  438.20086718 454.52612686 108.2266141  316.74121929 613.20877358\n",
      "  160.05624012 362.3106402  196.16319736 122.97154142 579.1200221\n",
      "  504.83462639 488.20692334 715.99581004 552.05525086 116.81181447\n",
      "  658.80042502 386.74539428 569.10631696  26.17250466 215.08137995\n",
      "  100.          22.09072203 215.24404754 308.75394734 533.02345164\n",
      "  250.63519306 592.11907586   0.         449.33061325 728.6713937\n",
      "  573.3489339  383.62742342 311.87337174 151.32085117 565.6023338\n",
      "  181.62048343 542.97053327 365.         218.43305611 216.60332407\n",
      "  383.67825062 416.20307543 601.20961403 129.03487901 134.62912018\n",
      "  272.59126912 624.17385399 260.00192307 571.74907083 605.52869461\n",
      "  139.31618714 553.10939244 439.93294944 394.83287604 733.32734846\n",
      "  579.86550165 655.68895065 548.2061656  238.89118862 179.92220541\n",
      "  449.4808116  168.86681142  27.45906044 152.20052562 398.7844029\n",
      "  126.26955294 194.16487839 497.03118614 226.55021518 353.42042952\n",
      "  210.00952359 254.69982332 469.14496693 579.         467.34676633\n",
      "  516.27124654 198.29523444 330.15148038 618.35669318 373.45013054\n",
      "   70.22819946 278.63237429 288.14059068 183.00273222 513.07894129\n",
      "  742.80683896 200.08498195 238.75719884 177.55280905 193.6801487\n",
      "  610.64965406 509.07465071 424.40664462 571.92482023 151.3274595 ]\n",
      " [403.52075535 508.99214139 595.85652636 559.14220016 288.19611378\n",
      "  405.90885676 148.86235253 556.57973373 624.9839998  182.62803728\n",
      "  366.78604117 317.15768949 357.16942758 483.25976452 420.60194959\n",
      "  161.41871019 120.41594579 330.82321563 600.18747071 549.36417794\n",
      "  316.91008188 224.87774456 561.48731063 424.87292218 664.41101737\n",
      "  436.64401977 470.38920056 358.5749573  361.56465535 209.72362766\n",
      "  696.01149416 145.42695761 449.33061325   0.         342.94022803\n",
      "  557.91128327 396.18682462 201.55644371 524.69038489 485.07731343\n",
      "  624.2595614  358.71018943 382.05889598 541.         664.63899976\n",
      "  128.31601615 314.45985435 194.06442229 440.19086769 527.44383587\n",
      "  179.38784797 291.         234.71898091 417.94377612 342.7083308\n",
      "  420.22018038 550.43619067 357.6772288  432.75974859 353.22655619\n",
      "  204.53361582 341.17737322 338.99262529 229.31419494 480.83469093\n",
      "  358.66000613 586.05289864 472.42353879 600.73371805 578.6613863\n",
      "  554.97207137 640.85723839 167.07483353 331.44079411 631.30658162\n",
      "  270.64737205 587.06899083  54.56189146 351.15950792  88.88756943\n",
      "   85.38149682 377.42946361 222.28360263 285.00701746  78.26237921\n",
      "  450.87692334 607.43559329 237.89283302 581.01290863 322.59572223\n",
      "  376.44654335 626.30982748 235.7731961  626.77029285 611.49816026\n",
      "  170.41420129 150.61540426 427.73005506 444.31520343 433.84098469]\n",
      " [115.27792503 780.62859287 801.93827693 860.62767792  67.80117993\n",
      "  442.73016613 274.3574311  835.02395175 784.67891523 174.34735444\n",
      "  594.95546052 425.84621637 567.75522895 794.93647545 329.81509971\n",
      "  456.85884034 248.55582874  12.80624847 591.11843145 842.17159772\n",
      "   94.19129471 564.47674886 524.69038489 702.49911032 933.45058787\n",
      "  746.37926016 746.19702492 692.36406608 499.36459626 494.00404857\n",
      "  977.78934337 237.         728.6713937  342.94022803   0.\n",
      "  516.33032063 475.90335153 417.39789171 748.80438033 425.69942448\n",
      "  878.14577378 295.16944286 476.64347263 733.46097374 941.37612037\n",
      "  470.86834678 378.52476801 148.94629905 756.80380549 834.64064123\n",
      "  495.35845607 122.00409829 568.7187354  334.05538463 203.24615618\n",
      "  739.70061511 522.79632745 394.05710246 504.26679446  14.31782106\n",
      "  151.02979838 130.39171753 268.60379744 553.53139026 805.24406238\n",
      "  386.54495211 821.89172036 755.38069872 867.23295602 672.16441441\n",
      "  850.01764688 921.06568713 468.30972657 666.40603239 770.32201059\n",
      "  595.01428554 771.35854179 372.14647654 246.05080776 277.31750756\n",
      "  350.95583768 580.8967206  404.60598117 125.57467898 388.48552097\n",
      "  703.92755309 784.23593389 445.28305604 805.36203039 635.02125949\n",
      "   47.41307836 863.29600949 562.36020485 895.35076925 843.86847316\n",
      "  201.00995    222.55111772 476.59311787 367.15119501 652.22848757]\n",
      " [428.04205401 589.45398463 486.46685396 711.55112255 471.24728116\n",
      "  162.79127741 415.10601056 639.87811339 405.79058639 558.12543393\n",
      "  420.86696235 265.64638149 386.67945381 692.08742222 186.59314028\n",
      "  717.06973162 462.00108225 509.96568512  81.60882305 676.98449022\n",
      "  424.60452188 718.09261241   9.8488578  555.0009009  692.22322989\n",
      "  654.22396777 576.53187249 696.80485073 278.09710534 765.37115179\n",
      "  753.74332501 598.19896356 573.3489339  557.91128327 516.33032063\n",
      "    0.         202.52654147 400.76177462 482.9958592   90.80198236\n",
      "  621.4056646  231.75849499 223.1412109  422.7528829  714.34725449\n",
      "  632.45553203 246.45486402 510.48408398 680.22716794 707.76973657\n",
      "  543.38292207 406.78495547 622.15432169 182.78402556 314.57908386\n",
      "  677.39058157  21.9317122  202.08908927 180.89776118 508.67081693\n",
      "  460.40525627 385.93911437 259.83263844 584.7546494  738.97564236\n",
      "  199.80990966 549.32777101 597.02680007 637.97492114 246.81166909\n",
      "  687.90478992 706.32074867 720.59489313 684.88247167 367.94700705\n",
      "  605.57823607 432.90299144 612.38060061 273.83571717 481.05093285\n",
      "  635.29914214 378.3384728  365.81552728 406.45048899 517.64466577\n",
      "  508.90568871 430.02906878 383.01958174 518.61064393 852.57785568\n",
      "  490.04591622 580.11464384 595.34863735 662.64017385 558.38785803\n",
      "  582.06013435 445.70169396 158.39823231 149.28161307 424.88704381]\n",
      " [427.70667519 409.51800937 352.86399646 526.3344944  414.00120773\n",
      "   55.94640292 275.57213212 463.60004314 312.60358283 452.00110619\n",
      "  225.28204545  79.07591289 189.59430371 497.61028928 211.92923347\n",
      "  546.05860491 328.40219244 465.66941063 215.         494.23172703\n",
      "  383.94270406 526.2109843  201.15665537 362.74646794 533.74338403\n",
      "  457.13236595 390.24351372 494.29141202  77.02596965 593.15090829\n",
      "  591.31379148 474.15714695 383.62742342 396.18682462 475.90335153\n",
      "  202.52654147   0.         211.48285983 323.39449593 182.01098868\n",
      "  466.01287536 199.42166382  20.61552813 282.13649179 551.53694346\n",
      "  447.72424549 101.01980004 412.43787411 482.01659722 517.85808867\n",
      "  347.28662514 353.89970331 422.61684775 204.12006271 288.91694308\n",
      "  477.70806985 185.94622879  84.07734534  36.67424164 473.64649265\n",
      "  367.01226138 359.78048863 218.35750502 384.66218946 541.00831787\n",
      "   93.15041599 397.10200201 409.14056264 472.74623214 201.\n",
      "  504.83462639 539.00834873 547.40295944 482.45725199 294.72699232\n",
      "  403.68552117 310.65414853 448.2912     248.84734276 336.27518493\n",
      "  480.06041286 185.33483213 179.96110691 350.46397818 340.61855498\n",
      "  325.18610056 318.67538342 187.04277586 371.38120577 664.77063714\n",
      "  467.69648277 434.49741081 395.03544145 499.76894661 412.76870036\n",
      "  468.70566457 324.03857795  44.14748011 195.2331939  244.56083088]\n",
      " [423.53984464 363.25473156 408.94987468 448.00111607 349.79422522\n",
      "  238.21209037 144.77914214 417.66254321 426.22998487 319.39004368\n",
      "  184.23083347 136.24243098 164.97575579 390.18585315 318.26561234\n",
      "  338.46270105 186.07794066 404.79748023 425.73465915 426.81377672\n",
      "  347.50683447 317.47283348 401.82209994 285.72714257 516.80654021\n",
      "  342.14762896 328.9331239  328.19658743 162.8250595  384.46976474\n",
      "  560.39361167 316.29100525 311.87337174 201.55644371 417.39789171\n",
      "  400.76177462 211.48285983   0.         344.47786576 348.17380717\n",
      "  464.24670166 265.68025896 193.82982227 348.18673151 524.05534059\n",
      "  236.24140196 161.40012392 297.84559758 358.3364341  425.51615716\n",
      "  145.20674915 312.97284227 229.07204107 312.51879943 305.85290582\n",
      "  345.50832117 388.17135391 203.7694776  246.17473469 421.67285898\n",
      "  270.51247661 347.3629226  261.08427758 195.02820309 413.51299859\n",
      "  209.34660255 413.55652576 338.87018163 450.61957348 379.23343734\n",
      "  435.19765624 503.67151994 338.68126609 309.07927786 430.34521027\n",
      "  226.10838109 392.84220751 248.12899871 288.13885542 174.1952927\n",
      "  286.71414336 183.30848316  35.73513677 307.05048445 133.72359552\n",
      "  288.17529388 411.70013359  37.01351105 402.06094065 454.05396155\n",
      "  430.99071916 455.10108767 206.07280267 478.60004179 437.38884302\n",
      "  324.54891773 201.69283577 250.50349299 326.84705904 248.28411145]\n",
      " [728.56640054 127.01574706  77.49193506 248.39484697 681.36407302\n",
      "  378.73737603 486.14812557 164.68454694 166.02710622 663.81699285\n",
      "  160.72336482 334.67745667 182.01648277 264.80181268 534.73918876\n",
      "  613.34818823 530.43378475 736.76590583 444.70776921 210.85777197\n",
      "  667.0322331  514.2859127  476.83120703 154.26276284 211.57031928\n",
      "  250.71497761 138.22445514 362.9269899  263.91096984 648.0771559\n",
      "  271.53636957 656.55845132 151.32085117 524.69038489 748.80438033\n",
      "  482.9958592  323.39449593 344.47786576   0.         497.35299336\n",
      "  142.68847185 513.39361118 309.82091601  73.08214556 231.87280996\n",
      "  489.98469364 389.64727639 641.1715839  279.40651388 258.68320394\n",
      "  366.66060601 633.02527596 382.56110623 526.95066183 592.3081968\n",
      "  290.62862901 461.34585725 398.5887605  320.65713777 750.63240005\n",
      "  609.55229472 654.21861789 526.09504845 352.51241113 325.8864833\n",
      "  408.57924568  74.95331881 159.26079241 154.98709624 270.97785887\n",
      "  221.61678637 223.37860238 607.64627869 370.61165659 205.15360099\n",
      "  335.21634805 103.5857133  556.75578129 557.91845282 517.74607676\n",
      "  602.53630596 167.90771275 347.51978361 627.97213314 446.5254752\n",
      "   92.57429449 127.34991166 310.31113419  57.5847202  648.82046823\n",
      "  753.53301188 115.25623627 356.0463453  179.94721448  95.13148795\n",
      "  667.8929555  544.02665376 355.23654091 518.33965698  97.04638066]\n",
      " [339.84849566 590.6919671  514.51433411 708.30784268 380.56931038\n",
      "  127.88275881 338.35484332 644.16224664 449.01336283 470.9787681\n",
      "  406.7529963  221.90313202 370.80722755 678.49834193  95.8853482\n",
      "  646.0495337  382.09946349 419.22786167 167.10774967 675.9859466\n",
      "  333.80832824 660.92813528  98.99494937 544.48966932 708.92171641\n",
      "  636.88774521 572.19751834 662.84538167 257.52863918 694.46094203\n",
      "  768.21090854 513.74409972 565.6023338  485.07731343 425.69942448\n",
      "   90.80198236 182.01098868 348.17380717 497.35299336   0.\n",
      "  639.53107821 143.12581877 200.7311635  446.15356101 728.40991207\n",
      "  570.47786986 186.93581786 422.71148553 660.87517732 699.71780026\n",
      "  493.35585534 316.20404804 576.13973999  91.98369421 223.77890875\n",
      "  655.10991444  98.02040604 144.8067678  176.87566254 418.21645114\n",
      "  372.64728632 295.32693748 170.85666507 540.378571   719.85137355\n",
      "  138.82723076 568.6492768  591.15141884 650.0992232  298.00167785\n",
      "  686.63381798 717.34649926 650.61355658 647.92051982 417.1618391\n",
      "  566.08303278 465.02688094 539.59336542 183.24027941 403.89726417\n",
      "  558.79334284 367.32682995 312.43879401 315.99525313 452.98233961\n",
      "  506.76424499 466.72690087 337.55147756 540.29991671 790.63012844\n",
      "  400.24492501 603.35395913 551.30481587 676.4236838  581.4000344\n",
      "  495.80742229 363.26987213 143.27944724  58.54912467 425.04823256]\n",
      " [865.14565248 121.06609765 145.         176.91806013 810.36596671\n",
      "  521.41538144 608.87108652  98.41239759 254.54469156 779.102689\n",
      "  283.21016931 473.56203395 312.05448242 236.13555429 677.10708163\n",
      "  686.45465983 648.8451279  865.81291282 577.25644215 145.66056433\n",
      "  799.99249996 565.84980339 614.75198251 202.70421801  71.06335202\n",
      "  249.61169844 159.53056134 380.32091712 404.64923082 714.28005712\n",
      "  133.82077567 763.9849475  181.62048343 624.2595614  878.14577378\n",
      "  621.4056646  466.01287536 464.24670166 142.68847185 639.53107821\n",
      "    0.         654.14447945 452.1426766  199.18082237  96.13012015\n",
      "  565.10618471 529.0037807  761.59372371 271.35954009 205.87617638\n",
      "  451.22056691 765.58800931 441.22216626 669.32876824 730.51830915\n",
      "  290.70431713 599.57318152 540.21199542 463.06047121 881.00227014\n",
      "  734.29285711 789.92278104 665.6966276  420.41527089 295.34048148\n",
      "  550.21177741  72.12489168 166.19265928  44.82186966 395.30368073\n",
      "  152.26949793  97.29337079 678.62950127 397.21656562 301.30383336\n",
      "  391.21605284 201.12185361 647.84334526 697.50770605 631.94382662\n",
      "  694.87408931 301.97516454 473.60109797 760.25850867 546.78423533\n",
      "  176.66352198 215.39266468 433.49855824 103.94229168 686.56827774\n",
      "  886.13542983  52.49761899 420.37721156  50.28916384  69.18092223\n",
      "  779.59284245 665.93167818 497.78408974 661.02042329 230.53416233]\n",
      " [230.31283073 581.04733026 550.2453998  686.836953   242.98559628\n",
      "  154.54772726 209.89759408 636.94583757 510.90703655 327.95121588\n",
      "  385.50875476 182.53766735 350.714984   641.62995566  61.91122677\n",
      "  519.81246618 247.07286375 287.         300.059994   659.20254854\n",
      "  201.03979706 555.09368579 238.79907873 518.58461219 718.80804113\n",
      "  595.5980188  554.65755201 593.86277876 249.57964661 567.86001796\n",
      "  772.79816252 372.22842449 542.97053327 358.71018943 295.16944286\n",
      "  231.75849499 199.42166382 265.68025896 513.39361118 143.12581877\n",
      "  654.14447945   0.         207.4222746  479.41631178 733.5420915\n",
      "  459.16445855 127.26350616 279.58898405 615.43236834 670.91728253\n",
      "  404.65417334 178.24140933 490.58740302  59.81638571  94.14881837\n",
      "  605.17931227 233.92520172 116.51609331 220.04544985 289.91378029\n",
      "  229.53213283 168.51409437  28.16025568 459.00108932 672.79491675\n",
      "  106.82696289 588.25249681 570.21487178 654.94121874 382.75318418\n",
      "  669.03288409 718.06476031 525.78417625 574.58854844 489.53140859\n",
      "  491.68790915 509.81271071 412.28388278  51.2445119  272.63528752\n",
      "  426.01056325 355.57840204 232.93990641 177.07060739 340.99266854\n",
      "  496.51686779 518.09362088 269.87404469 564.98938043 675.6160152\n",
      "  277.90825824 627.3794705  470.0042553  682.86748348 606.06022803\n",
      "  353.11471224 224.93110056 188.11166896  90.13878189 424.80230696]\n",
      " [433.20664815 392.32639473 342.89648584 508.12695264 413.52388081\n",
      "   73.24616031 266.12966764 446.78854059 308.84624006 445.15165955\n",
      "  206.05096457  65.78753681 170.17931719 478.12236927 224.96444163\n",
      "  530.02358438 319.08149429 466.0826107  234.1367122  476.42418075\n",
      "  385.76806503 507.22085919 221.74083972 343.75863626 519.18879033\n",
      "  437.29280808 372.13572793 473.67604964  57.07889277 576.84746684\n",
      "  576.07030821 464.81178987 365.         382.05889598 476.64347263\n",
      "  223.1412109   20.61552813 193.82982227 309.82091601 200.7311635\n",
      "  452.1426766  207.4222746    0.         272.05881717 536.34690267\n",
      "  429.92092296  98.48857802 407.0012285  462.00108225 499.001002\n",
      "  327.83074902 354.80980821 402.51708038 217.18655575 294.29237163\n",
      "  457.48224009 206.49697334  90.90654542  52.34500931 475.00105263\n",
      "  362.72992708 363.58905374 224.37691503 364.48593937 521.00383876\n",
      "  100.65783626 384.06379678 390.74416182 457.47568241 206.96859665\n",
      "  486.96303761 523.24468464 531.06026023 461.86578137 293.95407805\n",
      "  383.19316278 302.88776799 433.55507147 255.51907952 325.18610056\n",
      "  466.4472103  166.86521507 163.40440631 351.06979363 324.40098643\n",
      "  307.70277867 312.32835286 168.0476123  359.26174302 646.23911983\n",
      "  470.47316608 422.15281593 374.81728882 484.73085315 400.56584977\n",
      "  460.79279508 316.52172121  64.76109943 210.66798523 228.17756244]\n",
      " [702.4101366  199.91998399  70.83784299 321.36116754 667.07270968\n",
      "  335.08954027 482.29555254 236.75303588 101.40019724 664.68639222\n",
      "  176.638048   309.38648969 184.32851109 336.00148809 493.40551274\n",
      "  645.07131389 530.29520081 721.90373319 378.52873075 283.78160617\n",
      "  647.36465767 558.45590694 415.91465471 216.54098919 270.22398117\n",
      "  318.42267507 208.03124765 422.95271603 235.64804264 683.01171293\n",
      "  332.56728642 664.45917858 218.43305611 541.         733.46097374\n",
      "  422.7528829  282.13649179 348.18673151  73.08214556 446.15356101\n",
      "  199.18082237 479.41631178 272.05881717   0.         293.78223227\n",
      "  522.91490704 361.66835637 637.24563553 347.46654515 331.58106098\n",
      "  397.78511787 614.2979733  426.88171664 485.60271828 564.05673474\n",
      "  356.86692198 400.87030322 362.93250061 272.41879524 733.91688903\n",
      "  601.30275236 630.22297641 495.27467127 393.48951701 396.33950093\n",
      "  372.71436785 127.09445307 229.71504087 220.7351354  200.00999975\n",
      "  294.49108645 288.7784618  640.62547561 427.65406581 135.\n",
      "  382.47222121  46.87216658 578.45483834 526.78078932 521.96743193\n",
      "  622.58573707 164.98484779 343.68153864 609.70976702 464.21115885\n",
      "  152.1085139   69.89277502 311.71782111  95.85927185 696.75892531\n",
      "  733.6654551  157.87653404 398.64771415 242.98971172 135.98897014\n",
      "  671.98363075 539.96481367 307.84736478 473.2071428  111.32385189]\n",
      " [937.04642361 160.86018774 241.05186164 137.11673858 873.68758718\n",
      "  607.38867293 668.27015495 108.40664186 349.75705854 829.77828364\n",
      "  352.11503802 551.26400209 384.66218946 217.14741537 760.59779121\n",
      "  706.00070821 703.88990616 928.80622306 672.29755317 124.57929202\n",
      "  867.72403447 573.6941694  707.96115713 242.21065212  29.54657341\n",
      "  247.94555854 196.91876498 375.08532363 485.80037052 728.29732939\n",
      "   39.81205847 808.21902972 216.60332407 664.63899976 941.37612037\n",
      "  714.34725449 551.53694346 524.05534059 231.87280996 728.40991207\n",
      "   96.13012015 733.5420915  536.34690267 293.78223227   0.\n",
      "  589.28091773 606.84759207 817.02019559 261.06895641 174.52220489\n",
      "  486.25199228 833.09183167 459.3647788  752.88378917 805.35458029\n",
      "  283.21370023 692.60739239 622.0128616  551.5360369  945.33062999\n",
      "  794.01322407 861.03716528 743.01076708 445.88115008 265.3469427\n",
      "  631.98101237 167.03592428 192.31484602  78.89233169 491.20260586\n",
      "  124.00403219  26.01922366 696.83068245 396.85261748 396.66736695\n",
      "  410.72740352 297.24232538 681.3471949  774.63927089 683.70900243\n",
      "  728.3687253  378.04761605 538.35397277 827.48897274 589.54219527\n",
      "  239.94374341 311.10287688 496.84202721 199.57204213 681.42277626\n",
      "  952.95802636 146.41379716 443.48167944  52.         165.\n",
      "  827.18921656 723.80798559 585.63640597 746.70810897 309.31698951]\n",
      " [530.37722425 444.63018341 566.25965775 470.21803453 416.4540791\n",
      "  471.61530934 255.64232826 484.64832611 617.37022928 305.91502088\n",
      "  347.69095473 371.60193756 351.         389.08225351 519.70857218\n",
      "  123.40583455 242.16729754 458.85182794 661.70990623 467.40560544\n",
      "  443.67668408  99.08077513 634.36346049 362.6927074  594.01430959\n",
      "  346.53859814 405.74499381 246.61102976 394.02791779 160.35273618\n",
      "  616.35136083 257.8410363  383.67825062 128.31601615 470.86834678\n",
      "  632.45553203 447.72424549 236.24140196 489.98469364 570.47786986\n",
      "  565.10618471 459.16445855 429.92092296 522.91490704 589.28091773\n",
      "    0.         386.70402118 321.92235089 343.49526925 435.22178254\n",
      "  125.15989773 416.30998066 131.5902732  515.80034897 458.95533552\n",
      "  321.71105048 621.41853851 431.04524125 482.24889839 481.35849426\n",
      "  332.1038994  465.5201392  443.70372998 144.83784036 375.13330964\n",
      "  434.60786923 540.00092593 402.24495025 534.68869448 604.21519345\n",
      "  471.09765442 564.0647126  117.88553771 218.96118377 633.04423226\n",
      "  178.67568385 569.7411693  107.93516572 460.89695161 209.11719202\n",
      "  149.68299837 372.15588132 268.88845271 410.17313418 118.47362576\n",
      "  404.2091043  592.52426111 263.7877935  542.06733899 220.38375621\n",
      "  504.76232031 577.28069429 146.01369799 558.18634881 566.00088339\n",
      "  288.84944175 273.22152185 486.26124666 537.96375343 411.59324581]\n",
      " [340.84600628 453.78849699 431.98379599 560.29010343 315.06507264\n",
      "   92.11405973 180.83417819 509.69794977 406.25361537 352.16473418\n",
      "  258.2653674   55.6057551  223.46588106 517.57608136 166.1114084\n",
      "  471.65347449 232.69078194 367.83284247 286.00699292 532.2029688\n",
      "  288.48050194 474.94104897 249.0401574  392.08417464 592.67950867\n",
      "  472.46693006 427.54765816 482.29969936 126.65701718 519.80477104\n",
      "  645.98838999 377.58442764 416.20307543 314.45985435 378.52476801\n",
      "  246.45486402 101.01980004 161.40012392 389.64727639 186.93581786\n",
      "  529.0037807  127.26350616  98.48857802 361.66835637 606.84759207\n",
      "  386.70402118   0.         311.70819688 493.6243511  545.33842703\n",
      "  306.60234833 256.90854404 390.05640618 159.30473941 203.06649157\n",
      "  484.83605476 237.05906437  44.40720662 134.72935834 377.22407134\n",
      "  266.00187969 268.73965096 136.69308688 355.00140845 551.77259809\n",
      "   48.33218389 464.59552301 443.36553768 528.4013626  302.00662244\n",
      "  542.10423352 591.05414304 474.7473012  465.5534341  392.42451503\n",
      "  382.89032372 396.18808665 368.48066435 168.5051928  244.77336456\n",
      "  395.126562   228.80559434 125.68611697 253.00197628 271.20471972\n",
      "  369.30339831 407.42729413 154.20765221 442.8916346  607.06259974\n",
      "  373.91576592 504.47695686 366.         556.42429853 483.5173213\n",
      "  369.97567488 225.32199183 118.3300469  168.07438829 298.83942176]\n",
      " [223.75432957 656.51351852 702.05412897 726.77713228 100.17983829\n",
      "  395.2480234  155.32224567 709.11917193 702.32755891  49.57822102\n",
      "  481.78937307 345.7658167  459.59656222 657.14001552 334.21101119\n",
      "  315.63428204 113.15917992 136.97079981 573.72641564 711.24819859\n",
      "  142.6218777  415.95312236 517.01547366 575.23560391 811.86513658\n",
      "  608.91132359 620.18142507 546.76960413 414.08211746 356.52349151\n",
      "  851.833904   107.33126292 601.20961403 194.06442229 148.94629905\n",
      "  510.48408398 412.43787411 297.84559758 641.1715839  422.71148553\n",
      "  761.59372371 279.58898405 407.0012285  637.24563553 817.02019559\n",
      "  321.92235089 311.70819688   0.         617.11668265 698.62722535\n",
      "  353.13595116 130.3840481  422.62276323 335.17159784 216.39316071\n",
      "  598.96577532 510.694625   341.78648306 446.37428241 159.62455951\n",
      "   50.08991915 179.33488227 252.04959829 410.         663.1477965\n",
      "  337.32180481 711.24187166 627.02870748 745.9504005  613.29438282\n",
      "  718.36550585 795.28171109 326.25909949 520.3633346  695.83978041\n",
      "  451.80637446 679.14136967 224.58851262 246.00812995 135.76450199\n",
      "  208.2906623  475.79197135 294.49787775 126.49110641 244.2007371\n",
      "  585.07520884 695.19277902 330.90482015 698.69664376 493.146023\n",
      "  184.8377667  752.81405407 418.26546594 773.59033086 734.83127315\n",
      "   78.10249676  97.4063653  426.53018651 368.20782175 544.30965452]\n",
      " [779.09242071 164.50227962 347.50683447 129.52219887 691.78970793\n",
      "  533.33854164 486.56345938 173.76133057 445.31449561 618.80934059\n",
      "  259.51493213 444.48734515 293.61539469  46.17358552 659.7347952\n",
      "  452.86642622 508.52335246 744.00268817 667.3866945  137.13132392\n",
      "  699.03361865 314.58226269 677.03175701 135.14806695 273.80650102\n",
      "   29.15475947 141.48498154 114.01754251 405.00493824 471.0244155\n",
      "  281.15476165 585.3417805  129.03487901 440.19086769 756.80380549\n",
      "  680.22716794 482.01659722 358.3364341  279.40651388 660.87517732\n",
      "  271.35954009 615.43236834 462.00108225 347.46654515 261.06895641\n",
      "  343.49526925 493.6243511  617.11668265   0.          92.65527508\n",
      "  264.49196585 665.26160268 212.22865028 652.88360372 664.08207324\n",
      "   22.56102835 661.10513536 524.82473265 499.37260638 763.66812163\n",
      "  605.80029713 703.60358157 615.41855676 210.87674125  59.00847397\n",
      "  533.58504477 283.7357926  121.75385004 229.53213283 523.78335216\n",
      "  137.09121051 235.05318547 442.73016613 136.47344064 482.44792465\n",
      "  169.8057714  382.99086151 444.92358895 644.19018931 481.69803819\n",
      "  490.49566767 302.52437918 385.9144983  659.07890271 374.09223462\n",
      "  197.5904856  406.67677583 346.30189142 304.23674992 421.07006543\n",
      "  778.24931738 305.91502088 204.8047851  244.63237725 305.61740788\n",
      "  610.05983313 534.43147362 525.18663349 658.45880661 272.12129648]\n",
      " [849.05241299 131.67383947 312.92171545  38.01315562 768.48161982\n",
      "  572.09527179 561.44545594 110.31772296 420.47592083 703.3988911\n",
      "  293.20470665 492.70883897 329.30988446  46.4865572  709.97535168\n",
      "  545.51351954 587.9158103  821.84244232 684.48082515  60.21627687\n",
      "  771.77004347 406.63620104 703.40955353 155.33190271 191.63767897\n",
      "   90.80198236 132.30646243 204.36486978 442.43869632 563.41547725\n",
      "  190.44421755 672.86848641 134.62912018 527.44383587 834.64064123\n",
      "  707.76973657 517.85808867 425.51615716 258.68320394 699.71780026\n",
      "  205.87617638 670.91728253 499.001002   331.58106098 174.52220489\n",
      "  435.22178254 545.33842703 698.62722535  92.65527508   0.\n",
      "  349.20624278 737.48220318 303.67416749 702.74035034 727.82552854\n",
      "  115.13470372 687.41908615 571.56102036 529.46199108 840.69019264\n",
      "  683.8106463  772.87062307 674.09272359 298.99163868  92.0271699\n",
      "  580.92512426 238.64827676 111.01801656 161.15210207 524.22323489\n",
      "   54.56189146 148.94629905 535.38490827 228.31995095 462.57648016\n",
      "  259.13895886 358.21920663 535.1112034  704.16475345 562.86410438\n",
      "  581.12391106 332.62892237 449.02672526 731.43147321 458.26848026\n",
      "  200.30227158 379.89077378 407.59048075 265.9793225  508.00098425\n",
      "  853.2930329  249.83394485 293.95577899 168.67127793 255.48581174\n",
      "  696.23271971 612.22218189 558.92038789 704.38696751 284.08625451]\n",
      " [528.92059896 333.13210593 442.29515032 380.13155617 432.03356351\n",
      "  380.62317323 233.41807985 378.63570883 492.3748572  354.57157246\n",
      "  222.6387208  277.74268667 227.63567383 305.94117082 460.29772974\n",
      "  247.58836806 246.9817807  482.60957305 561.94750645 369.99594592\n",
      "  445.13818079 181.0690476  543.83821124 249.17664417 487.24737044\n",
      "  258.50725328 294.15982051 200.60907258 284.29034454 285.44001121\n",
      "  516.97969012 324.51964501 272.59126912 179.38784797 495.35845607\n",
      "  543.38292207 347.28662514 145.20674915 366.66060601 493.35585534\n",
      "  451.22056691 404.65417334 327.83074902 397.78511787 486.25199228\n",
      "  125.15989773 306.60234833 353.13595116 264.49196585 349.20624278\n",
      "    0.         412.80140504  86.00581376 454.97362561 429.57769961\n",
      "  245.90445299 529.64894034 348.81083699 379.08442331 503.07554105\n",
      "  345.05941517 456.00219298 396.0202015   59.23681288 310.20315924\n",
      "  354.532086   420.14521299 294.51655302 424.74580634 486.40004112\n",
      "  375.58753973 462.1536541  242.85386552 176.92088627 508.94400478\n",
      "   99.84988733 444.62343618 196.72569736 419.80590753 218.43305611\n",
      "  243.8237068  248.65437861 180.93645293 406.48862223 109.60383205\n",
      "  283.63709207 467.36923305 160.7513608  420.00476188 322.63911728\n",
      "  520.03461423 458.73303783  69.26037828 450.03222107 446.07846843\n",
      "  347.05186932 274.78173156 389.13879272 471.0711199  286.47163908]\n",
      " [116.38728453 673.17902522 683.43251313 760.85806824  64.77653896\n",
      "  321.49805598 179.84715733 728.45727397 663.16212196 178.60011198\n",
      "  482.88818582 305.4734031  453.70585185 700.35205433 221.71377945\n",
      "  434.4249072  174.65680634 111.98660634 477.91421824 739.67154873\n",
      "   34.6554469  514.81744337 414.49366702 598.11035771 823.42273469\n",
      "  651.85351115 640.41002491 613.36530714 379.24134796 478.29802425\n",
      "  870.44873485 237.40261161 624.17385399 291.         122.00409829\n",
      "  406.78495547 353.89970331 312.97284227 633.02527596 316.20404804\n",
      "  765.58800931 178.24140933 354.80980821 614.2979733  833.09183167\n",
      "  416.30998066 256.90854404 130.3840481  665.26160268 737.48220318\n",
      "  412.80140504   0.         493.32545039 224.54398233  94.3716059\n",
      "  649.9846152  410.88806262 272.20947816 382.42646352 120.33287165\n",
      "   91.48223871  51.19570294 150.56227947 472.03813405 717.1784994\n",
      "  264.85090145 706.91230008 651.35627732 757.36516952 550.57242939\n",
      "  748.13701954 813.88758438 443.82992238 589.0823372  648.36178172\n",
      "  511.96581917 651.22423174 333.94610344 132.96616111 207.63429389\n",
      "  328.1539273  465.46535854 294.8711583    6.32455532 314.56954716\n",
      "  593.77857826 663.53070765 336.65709557 688.93903939 608.54991578\n",
      "  120.60265337 748.05681602 481.89832953 785.62204653 728.14627651\n",
      "  208.08652047 143.69411957 355.25765298 258.37376028 537.22714004]\n",
      " [609.70812689 320.15621187 460.04564991 338.63992677 507.71054746\n",
      "  459.99673912 315.53922102 356.42671056 526.38579008 416.98441218\n",
      "  262.84025567 357.46328483 278.0953074  257.61405241 545.88002345\n",
      "  246.95141223 322.88852566 556.11959145 635.31409555 336.58282784\n",
      "  524.75232253 131.91285002 622.01366544 241.74780247 465.45998754\n",
      "  215.03720608 282.00177304 124.27791437 354.35857546 273.06592611\n",
      "  485.47399518 377.63739222 260.00192307 234.71898091 568.7187354\n",
      "  622.15432169 422.61684775 229.07204107 382.56110623 576.13973999\n",
      "  441.22216626 490.58740302 402.51708038 426.88171664 459.3647788\n",
      "  131.5902732  390.05640618 422.62276323 212.22865028 303.67416749\n",
      "   86.00581376 493.32545039   0.         540.45351326 514.51336231\n",
      "  190.70920271 607.38538013 431.3374549  452.23887493 577.40280567\n",
      "  420.52942822 538.07527354 482.00933601  38.60051813 247.31558786\n",
      "  437.53856973 423.58588267 275.87859649 408.16663264 543.12429517\n",
      "  339.94852552 433.91358587 238.29603438  97.75479528 549.32413018\n",
      "   50.009999   472.57274572 233.43093197 505.61843321 292.05821338\n",
      "  278.49057435 297.64408276 264.56946158 487.00102669 180.75397644\n",
      "  291.79616173 496.50478346 239.74152748 430.09882585 270.51986988\n",
      "  596.46039265 458.41575017  29.73213749 430.48809507 449.37845965\n",
      "  404.88269906 352.26410547 465.66296825 555.83540729 318.12104614]\n",
      " [252.68557537 605.21896864 556.08992079 716.05935508 288.73517278\n",
      "  150.62868253 269.08177196 660.5527988  505.24053677 384.13799604\n",
      "  412.05946173 210.05237442 376.23529872 676.20189293   7.81024968\n",
      "  579.19340466 306.88923083 327.3912033  257.32858372 686.5464296\n",
      "  241.8532613  610.69550514 190.87430419 548.38307778 736.21260516\n",
      "  631.48792546 581.62272995 639.07824247 267.52943763 627.30933358\n",
      "  792.52318578 430.464865   571.74907083 417.94377612 334.05538463\n",
      "  182.78402556 204.12006271 312.51879943 526.95066183  91.98369421\n",
      "  669.32876824  59.81638571 217.18655575 485.60271828 752.88378917\n",
      "  515.80034897 159.30473941 335.17159784 652.88360372 702.74035034\n",
      "  454.97362561 224.54398233 540.45351326   0.         131.79529582\n",
      "  644.12731661 188.76705221 132.09844814 215.33694527 326.88224179\n",
      "  285.40672732 203.79646709  84.3860178  507.42487129 711.07313267\n",
      "  122.38463956 601.00332778 598.56244453 673.99258156 365.40662282\n",
      "  696.73309093 739.05141905 585.         621.09741587 479.02505154\n",
      "  538.11244178 511.49682306 471.6990566   91.76055798 332.29504962\n",
      "  485.81992549 377.95502378 278.08811553 224.54398233 397.36381315\n",
      "  520.22014571 517.05415577 311.5798453  575.50065161 733.3873465\n",
      "  310.04031996 638.60551203 518.46889974 701.44565007 616.88653738\n",
      "  410.12193309 284.54173683 180.27756377  33.83784863 443.79837764]\n",
      " [138.92443989 648.80197287 634.60381341 747.24627801 157.48650736\n",
      "  247.62269686 204.1984329  704.80919404 601.50644219 265.93232222\n",
      "  453.5383115  257.63540129 420.74338973 694.68913911 128.31601615\n",
      "  497.77605406 222.52415599 196.02295784 388.06700452 722.33233349\n",
      "  110.16805345 557.8180707  322.62826907 580.13963836 792.66954022\n",
      "  647.10509193 619.37145559 627.5866474  329.70592958 544.09649879\n",
      "  843.97689542 319.71549853 605.52869461 342.7083308  203.24615618\n",
      "  314.57908386 288.91694308 305.85290582 592.3081968  223.77890875\n",
      "  730.51830915  94.14881837 294.29237163 564.05673474 805.35458029\n",
      "  458.95533552 203.06649157 216.39316071 664.08207324 727.82552854\n",
      "  429.57769961  94.3716059  514.51336231 131.79529582   0.\n",
      "  651.33862161 320.03906012 204.84140207 312.33955881 197.02284132\n",
      "  169.53170795  74.54528825  70.77428912 487.56743123 719.33649984\n",
      "  195.88772294 667.20986204 632.98736164 727.58504658 476.64242363\n",
      "  731.61533609 788.22902763 505.72027841 605.60713338 581.84619961\n",
      "  524.44732815 596.93634502 392.13518077  43.28972164 253.94881374\n",
      "  395.52117516 428.7889924  279.07884191  95.38343672 346.09247319\n",
      "  565.82064296 606.60118694 320.24990242 645.91408097 665.3006839\n",
      "  183.80696396 707.31958831 498.19674828 755.79097639 686.45538821\n",
      "  294.18701535 193.5406934  281.44271175 165.42369842 499.98499977]\n",
      " [764.35724632 180.47160441 360.81019941 152.08221461 675.10295511\n",
      "  528.00852266 470.77064479 193.82982227 455.93859236 599.62821815\n",
      "  257.89338883 436.92791167 290.90376416  68.68041933 650.85559074\n",
      "  430.44744162 491.21176696 726.90921029 667.25257587 159.00314462\n",
      "  683.55614254 292.03595669 674.50500369 141.44963768 295.43357968\n",
      "   42.05948169 154.15900882  92.04890005 400.71935316 448.4651603\n",
      "  303.65934861 565.15484604 139.31618714 420.22018038 739.70061511\n",
      "  677.39058157 477.70806985 345.50832117 290.62862901 655.10991444\n",
      "  290.70431713 605.17931227 457.48224009 356.86692198 283.21370023\n",
      "  321.71105048 484.83605476 598.96577532  22.56102835 115.13470372\n",
      "  245.90445299 649.9846152  190.70920271 644.12731661 651.33862161\n",
      "    0.         658.63874772 517.3258161  496.5178748  746.81189064\n",
      "  588.79622961 689.16543732 604.24912081 191.04973175  68.00735254\n",
      "  525.88401763 299.60807733 135.91541487 249.59567304 528.25940597\n",
      "  159.31415505 257.19447895 420.26777178 113.99122773 491.79365592\n",
      "  149.5760676  394.00126903 423.79240201 632.58201049 463.83617798\n",
      "  469.15775598 301.24076749 374.22586763 643.77014532 355.37304343\n",
      "  205.41908383 417.94856143 335.43106594 318.64243283 399.53598086\n",
      "  761.98753271 323.51352367 184.50474249 265.58990945 322.18783341\n",
      "  590.33888573 517.60216383 521.24466424 650.775691   276.02354972]\n",
      " [437.77277211 568.45140514 464.53525162 690.78795589 475.58490304\n",
      "  150.04665941 409.6095702  618.63478725 384.21998907 557.7320145\n",
      "  401.61673272 252.29546171 367.76351097 672.29755317 193.31321734\n",
      "  708.63530818 457.65489181 515.98449589  69.11584478 656.07392876\n",
      "  430.20460249 705.64155206  16.         535.05980974 670.41032212\n",
      "  634.89369189 555.98021548 679.72053081 260.48608408 756.82758935\n",
      "  731.98087407 595.8867342  553.10939244 550.43619067 522.79632745\n",
      "   21.9317122  185.94622879 388.17135391 461.34585725  98.02040604\n",
      "  599.57318152 233.92520172 206.49697334 400.87030322 692.60739239\n",
      "  621.41853851 237.05906437 510.694625   661.10513536 687.41908615\n",
      "  529.64894034 410.88806262 607.38538013 188.76705221 320.03906012\n",
      "  658.63874772   0.         193.05180652 162.2621336  515.63262116\n",
      "  460.71466224 392.56337068 262.08395601 569.7411693  719.76246082\n",
      "  191.78373237 527.48649272 576.58650695 616.33189111 225.51496624\n",
      "  667.00674659 684.69701328 711.80474851 668.31504547 346.73332692\n",
      "  589.59816825 410.9914841  604.75862954 278.34690586 475.45451938\n",
      "  629.04530838 358.87184342 353.6240942  410.22067232 507.66622893\n",
      "  488.25608035 408.20828017 368.97831915 496.72930254 841.18963379\n",
      "  498.14455733 558.20068076 580.24563764 640.92511263 536.47926335\n",
      "  580.95524785 442.63867883 142.0880009  156.11534198 404.19054912]\n",
      " [343.65680555 473.19340655 433.76721868 584.21656943 333.78136557\n",
      "   53.60037313 220.41097976 528.6094967  396.6787113  384.67648745\n",
      "  280.08034562  80.39900497 244.19049941 546.24262009 139.61733417\n",
      "  515.58995335 271.01475975 384.19396143 244.07375934 554.49075736\n",
      "  301.27230208 518.81114098 204.79501947 416.81890552 606.0833276\n",
      "  502.41516697 449.56979436 519.78168494 136.21306839 563.79872295\n",
      "  661.54742838 414.2873399  439.93294944 357.6772288  394.05710246\n",
      "  202.08908927  84.07734534 203.7694776  398.5887605  144.8067678\n",
      "  540.21199542 116.51609331  90.90654542 362.93250061 622.0128616\n",
      "  431.04524125  44.40720662 341.78648306 524.82473265 571.56102036\n",
      "  348.81083699 272.20947816 431.3374549  132.09844814 204.84140207\n",
      "  517.3258161  193.05180652   0.         110.21796587 391.21605284\n",
      "  294.09012224 275.94383486 134.33167906 395.60839223 583.45951016\n",
      "   10.         473.24095343 466.65297599 543.16480004 278.60366114\n",
      "  564.70257658 607.66849515 518.83427026 504.07935883 378.05422891\n",
      "  421.88268512 393.49841169 411.88590653 165.05150711 285.4645337\n",
      "  437.41170538 245.96747752 168.07438829 269.13565353 315.60101394\n",
      "  388.20226687 402.27478171 193.01813386 449.25827761 651.38391138\n",
      "  384.24601494 511.90721816 406.54643031 570.81345464 490.45387143\n",
      "  404.29939401 260.66453537  85.14693183 133.66001646 312.6995363 ]\n",
      " [450.21772511 415.71624938 342.24260401 535.44841021 443.78598446\n",
      "   66.03786792 311.68092659 468.40153715 291.60589843 486.77304773\n",
      "  240.16869072 115.60276813 205.78872661 512.04784933 223.06277143\n",
      "  582.00085911 364.42420337 494.40974909 183.17205027 502.0597574\n",
      "  411.34049156 558.96064262 178.05897899 375.48102482 532.18887625\n",
      "  473.5113515  399.53097502 518.47565034  99.3680029  628.94276369\n",
      "  591.33831264 510.10783174 394.83287604 432.75974859 504.26679446\n",
      "  180.89776118  36.67424164 246.17473469 320.65713777 176.87566254\n",
      "  463.06047121 220.04544985  52.34500931 272.41879524 551.5360369\n",
      "  482.24889839 134.72935834 446.37428241 499.37260638 529.46199108\n",
      "  379.08442331 382.42646352 452.23887493 215.33694527 312.33955881\n",
      "  496.5178748  162.2621336  110.21796587   0.         501.32823579\n",
      "  400.21119425 384.86491137 241.5967715  413.96859784 558.16216282\n",
      "  117.88129623 392.58756985 419.36261159 473.23567068 168.76018488\n",
      "  512.84403087 540.56729461 583.16807183 508.00393699 269.57930188\n",
      "  430.82362981 296.29883564 484.73704212 270.79512551 372.77607219\n",
      "  516.70591249 198.01010075 215.52030067 379.3283538  376.43591752\n",
      "  332.82578025 301.78303465 219.97272558 365.01643799 698.30723897\n",
      "  493.70537773 428.23941902 424.11790813 499.55179912 406.32130144\n",
      "  504.03372903 359.3021013   35.4682957  200.89051745 249.82593941]\n",
      " [102.06860438 784.69994265 802.72037473 866.24765512  72.24956747\n",
      "  439.10932579 279.63011283 839.31519705 783.47431355 187.06683298\n",
      "  597.80013382 425.55610676 570.03245522 801.3719486  322.39882134\n",
      "  469.51570794 256.09568524  23.08679276 584.17291961 847.28389575\n",
      "   90.02777349 575.53887792 517.1508484  707.15769104 936.98719308\n",
      "  752.78748661 750.60309085 700.80025685 499.24743364 507.06311244\n",
      "  981.96995881 250.07198963 733.32734846 353.22655619  14.31782106\n",
      "  508.67081693 473.64649265 421.67285898 750.63240005 418.21645114\n",
      "  881.00227014 289.91378029 475.00105263 733.91688903 945.33062999\n",
      "  481.35849426 377.22407134 159.62455951 763.66812163 840.69019264\n",
      "  503.07554105 120.33287165 577.40280567 326.88224179 197.02284132\n",
      "  746.81189064 515.63262116 391.21605284 501.32823579   0.\n",
      "  158.09174552 123.14625451 263.82759522 561.48731063 812.6358348\n",
      "  383.47098978 824.00788831 760.1480119  870.78470359 668.76752313\n",
      "  855.25025577 925.26158463 480.8752437  675.00666663 768.30007159\n",
      "  602.84409261 771.28269785 383.60396244 240.13329632 285.55910071\n",
      "  363.32492345 582.76067129 407.77076894 124.48293056 396.89041309\n",
      "  707.33089852 783.77611599 448.76942855 806.98265161 647.69514434\n",
      "   33.12099032 865.33981764 570.454205   898.94716196 845.74523351\n",
      "  214.1494805  229.24222997 473.03276842 359.70682507 654.26982202]\n",
      " [199.25109786 633.1547994  667.57845981 710.17321831  87.20665112\n",
      "  347.33269354 125.80143083 686.92721594 662.39942633  98.73702446\n",
      "  452.11724143 303.35622624 427.53713289 643.93322635 284.60498942\n",
      "  343.21130518  98.11218069 138.22445514 524.0009542  692.416782\n",
      "  113.00442469 429.40889604 466.95824224 553.71924294 787.26869619\n",
      "  595.38558935 597.93310663 543.40592562 373.66428783 386.84622268\n",
      "  829.82528282 150.24313628 579.86550165 204.53361582 151.02979838\n",
      "  460.40525627 367.01226138 270.51247661 609.55229472 372.64728632\n",
      "  734.29285711 229.53213283 362.72992708 601.30275236 794.01322407\n",
      "  332.1038994  266.00187969  50.08991915 605.80029713 683.8106463\n",
      "  345.05941517  91.48223871 420.52942822 285.40672732 169.53170795\n",
      "  588.79622961 460.71466224 294.09012224 400.21119425 158.09174552\n",
      "    0.         142.61837189 202.05444811 403.60996023 654.54717171\n",
      "  289.2144533  681.08736591 606.3150996  721.09985439 568.00792248\n",
      "  700.07142493 773.11318706 352.80022676 517.88898424 653.93730586\n",
      "  444.8685199  642.01246094 244.24782496 196.93907687 128.54960132\n",
      "  236.71924299 442.52570547 262.12210895  86.33075929 239.77697971\n",
      "  558.60540635 657.13316763 300.98006579 666.82081551 518.14476742\n",
      "  175.96022278 722.66866543 412.69964866 749.04272241 704.02556772\n",
      "  125.49501982  71.58910532 379.11607721 318.32373458 512.50756092]\n",
      " [ 76.40026178 702.34250904 700.30921742 794.74398393  96.04686356\n",
      "  320.88003989 222.69710371 758.06398147 672.10192679 226.21449998\n",
      "  509.16598472 321.22422076 478.13805538 737.16348255 199.44924166\n",
      "  485.61919237 223.37860238 124.42668524 461.04338191 772.00064767\n",
      "   43.01162634 564.28716094 394.31205916 629.83251742 849.94352754\n",
      "  688.88896057 670.95156308 656.51351852 394.67074885 529.46199108\n",
      "  899.02725209 286.66531007 655.68895065 341.17737322 130.39171753\n",
      "  385.93911437 359.78048863 347.3629226  654.21861789 295.32693748\n",
      "  789.92278104 168.51409437 363.58905374 630.22297641 861.03716528\n",
      "  465.5201392  268.73965096 179.33488227 703.60358157 772.87062307\n",
      "  456.00219298  51.19570294 538.07527354 203.79646709  74.54528825\n",
      "  689.16543732 392.56337068 275.94383486 384.86491137 123.14625451\n",
      "  142.61837189   0.         143.8401891  515.13978685 756.77473531\n",
      "  267.44158241 728.79352357 683.05929464 784.23529632 550.36805867\n",
      "  780.82008171 842.75025957 495.00707066 632.82936089 653.91895522\n",
      "  554.31399044 664.83080554 384.88050094 117.83462988 256.43907659\n",
      "  379.32571756 488.14444584 325.6009828   56.71860365 361.08309293\n",
      "  621.11190618 675.52942201 367.60440694 709.03455487 659.58926613\n",
      "  109.44404963 769.47384621 525.25898374 812.51769212 749.02603426\n",
      "  256.04882347 192.31484602 354.80276211 236.78260071 559.91785112]\n",
      " [209.35376758 588.55161201 565.9832153  691.41304587 215.2324325\n",
      "  177.11578134 190.92406868 644.56884815 530.87945901 300.6409819\n",
      "  392.73400668 192.20041623 358.74503481 643.29153578  84.86459804\n",
      "  499.44369052 224.65974272 260.12304781 328.12345238 664.84960705\n",
      "  174.41330224 540.71249292 266.92320993 523.35934118 729.20916067\n",
      "  596.59869259 560.81547768 588.66968667 262.41379537 547.24400408\n",
      "  782.01023011 346.09969662 548.2061656  338.99262529 268.60379744\n",
      "  259.83263844 218.35750502 261.08427758 526.09504845 170.85666507\n",
      "  665.6966276   28.16025568 224.37691503 495.27467127 743.01076708\n",
      "  443.70372998 136.69308688 252.04959829 615.41855676 674.09272359\n",
      "  396.0202015  150.56227947 482.00933601  84.3860178   70.77428912\n",
      "  604.24912081 262.08395601 134.33167906 241.5967715  263.82759522\n",
      "  202.05444811 143.8401891    0.         451.74882402 672.12052491\n",
      "  125.23977004 601.04741909 575.58665725 664.72325068 406.52798182\n",
      "  674.46719713 726.78057211 505.85571065 568.47603292 511.07729357\n",
      "  485.89916649 527.2513632  391.94514922  31.82766093 251.66843266\n",
      "  403.63597461 365.13696061 230.16950276 149.21461054 326.27135945\n",
      "  504.57308688 536.47926335 269.11893282 578.80221147 658.24007778\n",
      "  253.21137415 640.71522535 462.67591249 692.80372401 619.62085181\n",
      "  326.17326684 201.01989951 211.00947846 116.49892703 435.48823176]\n",
      " [588.15134107 299.81661061 429.79530011 331.91715834 490.6974628\n",
      "  422.91015594 292.61749777 340.3086834  492.11787206 408.79579254\n",
      "  226.33824246 320.66493416 240.26027553 254.2380774  513.06237438\n",
      "  266.31747971 305.49795417 540.81142739 596.98073671 325.64090652\n",
      "  504.35007683 165.48413821 584.4630014  218.33002542 449.68989315\n",
      "  208.39625716 260.96934686 141.39660533 315.90504903 297.05386717\n",
      "  474.26680255 374.51301713 238.89118862 229.31419494 553.53139026\n",
      "  584.7546494  384.66218946 195.02820309 352.51241113 540.378571\n",
      "  420.41527089 459.00108932 364.48593937 393.48951701 445.88115008\n",
      "  144.83784036 355.00140845 410.         210.87674125 298.99163868\n",
      "   59.23681288 472.03813405  38.60051813 507.42487129 487.56743123\n",
      "  191.04973175 569.7411693  395.60839223 413.96859784 561.48731063\n",
      "  403.60996023 515.13978685 451.74882402   0.         253.38705571\n",
      "  402.08705525 397.72477921 257.51310646 389.89485762 505.07227206\n",
      "  330.15299484 420.96199353 259.00772189 118.12705025 513.75188564\n",
      "   41.86884283 439.61005448 237.02320561 476.42418075 276.26798584\n",
      "  283.63532925 260.04999519 230.09780529 465.72524089 165.80108564\n",
      "  263.47106103 463.31522746 203.16003544 402.06094065 306.24989796\n",
      "  578.88254422 434.02880089  11.04536102 413.59158599 423.680304\n",
      "  399.29938643 333.66450216 427.87381317 521.71735643 283.63532925]\n",
      " [831.82029309 203.3838735  389.17990698 128.31991272 741.14303613\n",
      "  592.3377415  537.70809925 197.49683542 491.6228229  661.84363712\n",
      "  318.14776441 503.08746754 352.4599268   62.24146528 717.86906884\n",
      "  476.32971774 556.69201539 792.47081965 725.11585281 150.73486657\n",
      "  750.61175051 331.69865842 735.70238548 190.12890364 283.52072235\n",
      "   85.15867542 188.30825792 130.17680285 464.00107758 489.12370623\n",
      "  277.52117036 624.7599539  179.92220541 480.83469093 805.24406238\n",
      "  738.97564236 541.00831787 413.51299859 325.8864833  719.85137355\n",
      "  295.34048148 672.79491675 521.00383876 396.33950093 265.3469427\n",
      "  375.13330964 551.77259809 663.1477965   59.00847397  92.0271699\n",
      "  310.20315924 717.1784994  247.31558786 711.07313267 719.33649984\n",
      "   68.00735254 719.76246082 583.45951016 558.16216282 812.6358348\n",
      "  654.54717171 756.77473531 672.12052491 253.38705571   0.\n",
      "  592.15960686 319.81244504 166.7393175  251.07966863 578.1842267\n",
      "  146.32839779 240.14995315 465.29560497 157.28000509 530.74475975\n",
      "  211.51832072 428.95687429 480.23431781 700.53194074 528.62557638\n",
      "  524.40061022 361.00554012 442.16286592 710.94655214 419.01431956\n",
      "  250.00799987 452.01769877 403.18358101 343.84007911 421.99763033\n",
      "  828.40207629 336.21719171 245.73359559 260.38625156 339.29927792\n",
      "  651.24880038 583.60003427 584.14467386 717.05648313 327.76821078]\n",
      " [334.59228921 483.01138703 443.55157536 593.77857826 326.87918257\n",
      "   58.21511831 219.42880394 538.45705493 405.64269992 380.82541932\n",
      "  289.69811874  89.10667764 253.85231927 555.34223682 129.86531485\n",
      "  517.30165281 269.35664091 376.82489302 244.89997958 564.16309699\n",
      "  293.47061182 523.24468464 202.9704412  426.2792512  616.07548239\n",
      "  511.34430671 459.23958889 527.29972501 146.18481453 565.58376922\n",
      "  671.5094936  411.77906698 449.4808116  358.66000613 386.54495211\n",
      "  199.80990966  93.15041599 209.34660255 408.57924568 138.82723076\n",
      "  550.21177741 106.82696289 100.65783626 372.71436785 631.98101237\n",
      "  434.60786923  48.33218389 337.32180481 533.58504477 580.92512426\n",
      "  354.532086   264.85090145 437.53856973 122.38463956 195.88772294\n",
      "  525.88401763 191.78373237  10.         117.88129623 383.47098978\n",
      "  289.2144533  267.44158241 125.23977004 402.08705525 592.15960686\n",
      "    0.         483.22355075 476.24048547 553.13651118 285.72714257\n",
      "  574.35616128 617.60262305 520.78498442 511.30030315 386.4776837\n",
      "  428.93938966 403.04466254 413.01089574 155.72411502 284.86136979\n",
      "  437.59913163 255.81243129 173.61163555 261.91983506 318.52158483\n",
      "  398.02638104 411.63697599 199.96999775 459.20039199 654.99083963\n",
      "  375.99601062 521.86684125 413.05205483 580.79256194 500.40483611\n",
      "  400.98129632 257.93410011  91.04943712 124.90396311 322.66546143]\n",
      " [803.2988236  119.26860442  78.84795495 218.17882574 754.31094384\n",
      "  452.09733465 556.78541648 130.17296186 190.41270966 732.01161193\n",
      "  229.45587811 409.59125967 254.18890613 257.70137757 608.80210249\n",
      "  663.09124561 599.56817794 809.76169334 505.39984171 181.69479904\n",
      "  741.03306269 553.11481629 542.64721505 182.58422714 143.13629868\n",
      "  257.59658383 148.92951353 382.68786236 338.82886536 694.73016344\n",
      "  205.54804791 721.62663476 168.86681142 586.05289864 821.89172036\n",
      "  549.32777101 397.10200201 413.55652576  74.95331881 568.6492768\n",
      "   72.12489168 588.25249681 384.06379678 127.09445307 167.03592428\n",
      "  540.00092593 464.59552301 711.24187166 283.7357926  238.64827676\n",
      "  420.14521299 706.91230008 423.58588267 601.00332778 667.20986204\n",
      "  299.60807733 527.48649272 473.24095343 392.58756985 824.00788831\n",
      "  681.08736591 728.79352357 601.04741909 397.72477921 319.81244504\n",
      "  483.22355075   0.         164.17673404  98.00510191 324.39019714\n",
      "  191.04973175 164.         656.36879877 395.2480234  236.13978911\n",
      "  374.21384261 132.74034805 614.49572822 632.87044488 585.21192742\n",
      "  661.00832067 241.44771691 419.01312629 701.78700472 507.83560332\n",
      "  136.52838533 149.90663761 380.5798208   33.01514804 681.72281757\n",
      "  827.48413882  41.59326869 399.53598086 117.15374514  26.\n",
      "  734.7006193  614.4794545  427.54765816 591.58938462 169.75276139]\n",
      " [759.45572616  46.57252409 225.75429121 117.64352936 688.05886376\n",
      "  463.98491355 481.13199852  84.17244205 325.20301352 638.22331515\n",
      "  186.60117899 389.32377271 222.62524565 106.45186706 605.95874447\n",
      "  522.18770572 514.14005874 742.68970641 573.6139817   89.35882721\n",
      "  685.97376043 399.6623575  592.57067089  53.26349594 192.89893727\n",
      "   94.20191081  22.13594362 219.1255348  334.77305746 548.7148622\n",
      "  225.21101216 615.90664877  27.45906044 472.42353879 755.38069872\n",
      "  597.02680007 409.14056264 338.87018163 159.26079241 591.15141884\n",
      "  166.19265928 570.21487178 390.74416182 229.71504087 192.31484602\n",
      "  402.24495025 443.36553768 627.02870748 121.75385004 111.01801656\n",
      "  294.51655302 651.35627732 275.87859649 598.56244453 632.98736164\n",
      "  135.91541487 576.58650695 466.65297599 419.36261159 760.1480119\n",
      "  606.3150996  683.05929464 575.58665725 257.51310646 166.7393175\n",
      "  476.24048547 164.17673404   0.         132.51792332 416.20307543\n",
      "   98.88377015 169.09760495 513.95135957 233.38594645 364.00549446\n",
      "  225.97787502 262.60616901 490.48649319 606.40662925 492.77682575\n",
      "  537.59650296 223.88613177 357.49405589 645.52381831 397.23670525\n",
      "   89.45389874 285.95454184 315.48217065 182.80043764 522.15323421\n",
      "  769.85193382 191.01832373 256.46247289 156.20819441 187.53666308\n",
      "  635.09448116 535.38490827 449.47191236 598.35106752 173.07223925]\n",
      " [860.06976461  91.76055798 176.50495744 132.24598293 799.45606508\n",
      "  528.62179297 595.30916338  55.78530272 287.97569342 760.9073531\n",
      "  275.07271766 472.8001692  306.86316169 192.62658176 681.70741524\n",
      "  654.67320092 632.82620047 854.74265133 598.50480366 100.95543571\n",
      "  791.95012469 530.0084905  631.8172204  175.91475208  66.21933252\n",
      "  209.29644049 130.60245021 340.3307215  406.95208563 680.69449829\n",
      "  118.59595271 742.53215419 152.20052562 600.73371805 867.23295602\n",
      "  637.97492114 472.74623214 450.61957348 154.98709624 650.0992232\n",
      "   44.82186966 654.94121874 457.47568241 220.7351354   78.89233169\n",
      "  534.68869448 528.4013626  745.9504005  229.53213283 161.15210207\n",
      "  424.74580634 757.36516952 408.16663264 673.99258156 727.58504658\n",
      "  249.59567304 616.33189111 543.16480004 473.23567068 870.78470359\n",
      "  721.09985439 784.23529632 664.72325068 389.89485762 251.07966863\n",
      "  553.13651118  98.00510191 132.51792332   0.         420.30465141\n",
      "  107.44766168  68.44705983 646.36599539 358.46896658 333.99550895\n",
      "  358.35317775 230.7054399  621.34209579 696.39787478 614.09608369\n",
      "  668.46765068 299.61308383 463.14684496 751.84705892 524.17554312\n",
      "  163.60012225 247.69537743 422.01895692 130.86252328 647.56852919\n",
      "  877.54259156  93.1933474  388.97300678  28.28427125 104.92378186\n",
      "  759.81708325 651.55966726 507.16663928 667.88397196 230.48861143]\n",
      " [612.28098125 394.26387103 252.21022977 518.05887696 612.38060061\n",
      "  229.73245308 472.51772454 435.66041822 159.8812059  652.07668261\n",
      "  285.49080546 271.27108213 265.17352809 521.47579043 372.53322\n",
      "  715.71293128 525.4379126  662.53528208 186.46179233 480.83261121\n",
      "  578.74433043 665.67634778 238.21209037 388.69268066 465.98819728\n",
      "  494.92322637 394.08755372 576.33410449 217.11287387 760.23220137\n",
      "  529.06048804 670.9292064  398.7844029  578.6613863  672.16441441\n",
      "  246.81166909 201.         379.23343734 270.97785887 298.00167785\n",
      "  395.30368073 382.75318418 206.96859665 200.00999975 491.20260586\n",
      "  604.21519345 302.00662244 613.29438282 523.78335216 524.22323489\n",
      "  486.40004112 550.57242939 543.12429517 365.40662282 476.64242363\n",
      "  528.25940597 225.51496624 278.60366114 168.76018488 668.76752313\n",
      "  568.00792248 550.36805867 406.52798182 505.07227206 578.1842267\n",
      "  285.72714257 324.39019714 416.20307543 420.30465141   0.\n",
      "  491.72451637 487.92314969 714.77339066 573.62356995 121.26417443\n",
      "  509.15714666 196.002551   627.15388861 433.99769585 529.63572387\n",
      "  664.00677707 246.3331078  356.45055758 547.63674091 512.78845541\n",
      "  328.56810557 188.21530225 345.25932283 291.65219012 807.94121073\n",
      "  659.70978468 348.50107604 513.40821965 441.4702708  327.81854737\n",
      "  667.69004785 523.49021003 195.78048932 342.21192264 252.24789395]\n",
      " [857.2170087   99.02019996 267.8824369   27.31300057 783.03575908\n",
      "  560.16069123 575.69610039  60.90155991 377.77374181 726.60099092\n",
      "  284.69281691 487.87805854 320.51209026  93.43446901 704.17327413\n",
      "  585.34946827 606.15674541 837.2729543  659.01213949  11.\n",
      "  782.69406539 450.56852975 682.91287878 151.47607072 138.46299145\n",
      "  125.6343902  115.16944039 251.09759059 431.65379646 606.01155105\n",
      "  145.77379737 700.02357103 126.26955294 554.97207137 850.01764688\n",
      "  687.90478992 504.83462639 435.19765624 221.61678637 686.63381798\n",
      "  152.26949793 669.03288409 486.96303761 294.49108645 124.00403219\n",
      "  471.09765442 542.10423352 718.36550585 137.09121051  54.56189146\n",
      "  375.58753973 748.13701954 339.94852552 696.73309093 731.61533609\n",
      "  159.31415505 667.00674659 564.70257658 512.84403087 855.25025577\n",
      "  700.07142493 780.82008171 674.46719713 330.15299484 146.32839779\n",
      "  574.35616128 191.04973175  98.88377015 107.44766168 491.72451637\n",
      "    0.          98.         575.78468198 273.14648085 421.4664874\n",
      "  292.65679558 316.48064712 567.13049645 705.26945205 583.08232695\n",
      "  613.7882371  320.35761268 455.24498899 742.23513794 482.63132928\n",
      "  180.05554698 336.93322781 413.266258   220.47675614 557.56075902\n",
      "  865.93417764 198.11612756 326.55933611 114.12712211 205.60155641\n",
      "  721.44923591 628.73285265 544.08547123 695.76576518 263.37046152]\n",
      " [918.90423875 140.7160261  240.91699815 111.83022847 853.45943079\n",
      "  594.94537564 647.4828183   86.21484791 351.43278162 807.23292797\n",
      "  334.69090218 535.5641885  368.04890979 191.21192431 746.7261881\n",
      "  680.42486727 682.2213717  908.45473195 666.84705893  98.61541462\n",
      "  848.53874396 547.7517686  700.2013996  220.05681085  46.04345773\n",
      "  222.03603311 175.2369824  349.07019351 471.58138216 702.47704589\n",
      "   56.72741841 784.77066714 194.16487839 640.85723839 921.06568713\n",
      "  706.32074867 539.00834873 503.67151994 223.37860238 717.34649926\n",
      "   97.29337079 718.06476031 523.24468464 288.7784618   26.01922366\n",
      "  564.0647126  591.05414304 795.28171109 235.05318547 148.94629905\n",
      "  462.1536541  813.88758438 433.91358587 739.05141905 788.22902763\n",
      "  257.19447895 684.69701328 607.66849515 540.56729461 925.26158463\n",
      "  773.11318706 842.75025957 726.78057211 420.96199353 240.14995315\n",
      "  617.60262305 164.         169.09760495  68.44705983 487.92314969\n",
      "   98.           0.         671.19296778 370.84363282 398.02763723\n",
      "  385.4400083  296.33089613 656.80819118 758.30139127 661.50812542\n",
      "  703.78689957 362.54792787 519.01830411 808.22336022 566.16693651\n",
      "  222.42302039 311.85894247 477.31017169 197.00253805 655.4769256\n",
      "  933.46772842 149.64624954 418.3837951   47.38143096 166.04818578\n",
      "  804.18468028 702.63575201 574.23078984 733.87873658 295.2964612 ]\n",
      " [549.10199417 557.66029086 684.05628423 571.92482023 426.42349841\n",
      "  564.28716094 315.92720681 594.69740205 734.48008823 293.98129192\n",
      "  465.01827921 469.012793   466.8361597  488.90285334 587.67678191\n",
      "   13.03840481 283.93309071 457.7968982  757.76315561 573.17100415\n",
      "  464.7601532  136.48443135 723.59795467 477.20540651 703.62774249\n",
      "  450.15552868 519.11463089 335.37143587 500.75243384  45.80392996\n",
      "  721.55526469 232.64780248 497.03118614 167.07483353 468.30972657\n",
      "  720.59489313 547.40295944 338.68126609 607.64627869 650.61355658\n",
      "  678.62950127 525.78417625 531.06026023 640.62547561 696.83068245\n",
      "  117.88553771 474.7473012  326.25909949 442.73016613 535.38490827\n",
      "  242.85386552 443.82992238 238.29603438 585.         505.72027841\n",
      "  420.26777178 711.80474851 518.83427026 583.16807183 480.8752437\n",
      "  352.80022676 495.00707066 505.85571065 259.00772189 465.29560497\n",
      "  520.78498442 656.36879877 513.95135957 646.36599539 714.77339066\n",
      "  575.78468198 671.19296778   0.         309.00647242 749.02202905\n",
      "  288.01388855 687.47072665 114.12712211 517.01547366 254.52111897\n",
      "  118.01694794 488.02561408 367.66288907 438.32065888 206.78733037\n",
      "  521.110353   710.15772896 370.2769234  659.29811163 167.00299399\n",
      "  509.16598472 693.00649348 258.32731176 668.78172822 682.35474645\n",
      "  268.56098004 312.18744369 582.89707496 611.11864642 529.3203189 ]\n",
      " [705.36515366 279.95713958 446.21295364 265.74611944 605.09338122\n",
      "  525.95151868 410.1572869  303.2952357  529.04631177 514.00389104\n",
      "  288.46663585 426.12674171 313.44058448 182.20043908 627.02870748\n",
      "  319.73895603 420.04880669 653.79278063 688.31678753 272.36005581\n",
      "  620.97745531 178.31713322 683.60588061 217.00230414 408.00122549\n",
      "  150.0833102  246.40008117  27.65863337 408.64899364 335.30433937\n",
      "  417.62782474 472.70498199 226.55021518 331.44079411 666.40603239\n",
      "  684.88247167 482.45725199 309.07927786 370.61165659 647.92051982\n",
      "  397.21656562 574.58854844 461.86578137 427.65406581 396.85261748\n",
      "  218.96118377 465.5534341  520.3633346  136.47344064 228.31995095\n",
      "  176.92088627 589.0823372   97.75479528 621.09741587 605.60713338\n",
      "  113.99122773 668.31504547 504.07935883 508.00393699 675.00666663\n",
      "  517.88898424 632.82936089 568.47603292 118.12705025 157.28000509\n",
      "  511.30030315 395.2480234  233.38594645 358.46896658 573.62356995\n",
      "  273.14648085 370.84363282 309.00647242   0.         558.98211063\n",
      "   83.         469.9968085  325.51804865 593.75584208 389.53562096\n",
      "  368.62040095 329.66043135 343.02332282 582.76067129 278.17260828\n",
      "  278.49057435 494.40974909 311.44823005 408.93153461 289.35272592\n",
      "  693.74130625 424.32181184 107.70329614 376.64306711 419.68678797\n",
      "  501.01696578 449.09019139 526.52255412 633.46112746 328.82366095]\n",
      " [719.78121676 331.38648132 157.50872992 448.73600257 707.47791485\n",
      "  335.04925011 546.36617758 361.4595413   47.         730.09656896\n",
      "  288.02777644 350.58379883 282.19496806 469.9106298  486.43396263\n",
      "  752.00265957 598.0836062  759.89472955 304.13319451 411.17514516\n",
      "  678.66044529 679.12443631 359.24364991 351.10254912 369.16392023\n",
      "  453.41592385 342.54634723 555.83090954 282.39865439 793.07250614\n",
      "  432.04166466 740.35734615 353.42042952 631.30658162 770.32201059\n",
      "  367.94700705 294.72699232 430.34521027 205.15360099 417.1618391\n",
      "  301.30383336 489.53140859 293.95407805 135.         396.66736695\n",
      "  633.04423226 392.42451503 695.83978041 482.44792465 462.57648016\n",
      "  508.94400478 648.36178172 549.32413018 479.02505154 581.84619961\n",
      "  491.79365592 346.73332692 378.05422891 269.57930188 768.30007159\n",
      "  653.93730586 653.91895522 511.07729357 513.75188564 530.74475975\n",
      "  386.4776837  236.13978911 364.00549446 333.99550895 121.26417443\n",
      "  421.4664874  398.02763723 749.02202905 558.98211063   0.\n",
      "  507.86809311 105.0047618  674.65917321 540.36746756 596.44362684\n",
      "  715.84495528 261.00766272 415.87738578 644.77050181 558.48813774\n",
      "  286.68100739  86.31338251 393.60005081 203.73512216 819.76582022\n",
      "  762.27291701 250.2878343  520.15862965 350.64654568 232.1421978\n",
      "  742.11387266 601.39920186 301.86917696 458.27939077 232.26278221]\n",
      " [627.8574679  270.14995836 412.68026364 292.93343954 531.87310517\n",
      "  445.37175483 332.23184676 306.96742498 482.86747664 450.58739441\n",
      "  224.93110056 344.60557163 244.57309746 213.84573879 544.03308723\n",
      "  296.43549045 346.77081769 582.28000137 612.71934848 288.7784618\n",
      "  544.56771847 179.47701803 604.68338823 192.04426573 416.1586236\n",
      "  169.06803364 232.         103.16006979 331.62177251 323.07584249\n",
      "  437.71451884 415.61640969 210.00952359 270.64737205 595.01428554\n",
      "  605.57823607 403.68552117 226.10838109 335.21634805 566.08303278\n",
      "  391.21605284 491.68790915 383.19316278 382.47222121 410.72740352\n",
      "  178.67568385 382.89032372 451.80637446 169.8057714  259.13895886\n",
      "   99.84988733 511.96581917  50.009999   538.11244178 524.44732815\n",
      "  149.5760676  589.59816825 421.88268512 430.82362981 602.84409261\n",
      "  444.8685199  554.31399044 485.89916649  41.86884283 211.51832072\n",
      "  428.93938966 374.21384261 225.97787502 358.35317775 509.15714666\n",
      "  292.65679558 385.4400083  288.01388855  83.         507.86809311\n",
      "    0.         427.55116653 275.98007174 511.52810284 317.84430151\n",
      "  322.1179908  262.84025567 260.03076741 505.66490881 207.60780332\n",
      "  243.68011819 451.68573145 228.97379763 381.52588379 314.50596179\n",
      "  619.87902045 408.67835764  35.         380.91600124 399.9399955\n",
      "  440.82763071 374.62648064 447.53212175 550.68139609 275.68822971]\n",
      " [735.75335541 227.60711764  56.43580424 343.75863626 705.5388012\n",
      "  361.09278586 524.67323164 256.46247289  62.68173578 707.78315888\n",
      "  223.45021817 345.75280187 230.00869549 367.4914965  519.24945835\n",
      "  691.93785848 573.45444457 760.01184201 381.08398025 306.21724315\n",
      "  683.79090371 604.30786856 425.33986411 255.87692354 271.06456795\n",
      "  354.276728   241.76021178 463.99353444 272.0386002  729.80134283\n",
      "  334.26037755 709.08462118 254.69982332 587.06899083 771.35854179\n",
      "  432.90299144 310.65414853 392.84220751 103.5857133  465.02688094\n",
      "  201.12185361 509.81271071 302.88776799  46.87216658 297.24232538\n",
      "  569.7411693  396.18808665 679.14136967 382.99086151 358.21920663\n",
      "  444.62343618 651.22423174 472.57274572 511.49682306 596.93634502\n",
      "  394.00126903 410.9914841  393.49841169 296.29883564 771.28269785\n",
      "  642.01246094 664.83080554 527.2513632  439.61005448 428.95687429\n",
      "  403.04466254 132.74034805 262.60616901 230.7054399  196.002551\n",
      "  316.48064712 296.33089613 687.47072665 469.9968085  105.0047618\n",
      "  427.55116653   0.         625.00319999 558.39502147 566.1245446\n",
      "  668.96935655 210.19276867 386.76090806 646.83923814 510.51836402\n",
      "  192.09372712  24.41311123 356.14182568  99.84988733 742.02560603\n",
      "  769.74930984 152.74161188 444.55933237 249.12848091 132.54433221\n",
      "  715.81631722 582.08676329 331.63383422 496.59037445 158.15182579]\n",
      " [443.00112867 529.80184975 630.02857078 568.7187354  323.21509866\n",
      "  459.66183222 202.74368054 574.39533424 665.8588439  201.89601284\n",
      "  402.35929218 369.21809273 396.42527669 489.64170574 474.19510752\n",
      "  107.54068997 169.94410846 360.67298208 653.92507216 562.44644189\n",
      "  357.20162374 193.25889372 615.90015425 445.89684906 683.38056747\n",
      "  444.94606415 490.80036675 353.1586046  410.20970247 155.61812234\n",
      "  710.76930153 150.33296378 469.14496693  54.56189146 372.14647654\n",
      "  612.38060061 448.2912     248.12899871 556.75578129 539.59336542\n",
      "  647.84334526 412.28388278 433.55507147 578.45483834 681.3471949\n",
      "  107.93516572 368.48066435 224.58851262 444.92358895 535.1112034\n",
      "  196.72569736 333.94610344 233.43093197 471.6990566  392.13518077\n",
      "  423.79240201 604.75862954 411.88590653 484.73704212 383.60396244\n",
      "  244.24782496 384.88050094 391.94514922 237.02320561 480.23431781\n",
      "  413.01089574 614.49572822 490.48649319 621.34209579 627.15388861\n",
      "  567.13049645 656.80819118 114.12712211 325.51804865 674.65917321\n",
      "  275.98007174 625.00319999   0.         402.88956303 140.42791745\n",
      "   47.12748667 417.1930009  271.90623384 328.2072516  116.18089344\n",
      "  478.15164958 646.17722027 283.34078422 611.96486827 274.87633583\n",
      "  409.42032192 653.84784163 241.26748641 646.39461631 640.2725982\n",
      "  182.48287591 198.65548067 480.83261121 498.44257443 469.2089087 ]\n",
      " [179.42686532 619.87902045 597.52154773 721.95359962 197.43353312\n",
      "  205.56507485 205.68179307 675.90679831 561.06327629 295.40819217\n",
      "  424.08136012 223.98660674 390.25248238 672.78897137  89.47066558\n",
      "  509.94607558 233.44592522 238.4722206  345.93930103 695.71402171\n",
      "  152.39750654 558.83897502 281.60433235 554.03249002 760.94217914\n",
      "  625.84422982 591.84879826 614.5445468  294.21080877 557.22975513\n",
      "  813.60002458 345.07970094 579.         351.15950792 246.05080776\n",
      "  273.83571717 248.84734276 288.13885542 557.91845282 183.24027941\n",
      "  697.50770605  51.2445119  255.51907952 526.78078932 774.63927089\n",
      "  460.89695161 168.5051928  246.00812995 644.19018931 704.16475345\n",
      "  419.80590753 132.96616111 505.61843321  91.76055798  43.28972164\n",
      "  632.58201049 278.34690586 165.05150711 270.79512551 240.13329632\n",
      "  196.93907687 117.83462988  31.82766093 476.42418075 700.53194074\n",
      "  155.72411502 632.87044488 606.40662925 696.39787478 433.99769585\n",
      "  705.26945205 758.30139127 517.01547366 593.75584208 540.36746756\n",
      "  511.52810284 558.39502147 402.88956303   0.         262.61759271\n",
      "  411.09244702 396.84001814 258.37376028 132.81566173 344.79269134\n",
      "  536.02705156 567.32442218 298.10400869 610.5775954  672.62247955\n",
      "  227.03523956 672.52137512 487.27199796 724.49292612 651.41461451\n",
      "  322.39727046 207.1714266  239.23210487 125.59060474 467.26972939]\n",
      " [322.81573692 523.77285153 583.13634769 591.14549816 215.67568245\n",
      "  336.75658865  65.94694838 575.50152042 596.48302574 147.16657229\n",
      "  357.04481511 259.48024973 339.17104829 521.43743632 334.49813153\n",
      "  247.8245347   33.06055051 264.62237245 529.52242634 576.12672217\n",
      "  236.34931775 308.01461004 485.41219597 441.54274991 679.6624162\n",
      "  473.17332976 486.80283483 415.24571039 316.29100525 295.57570942\n",
      "  717.90041092 144.         467.34676633  88.88756943 277.31750756\n",
      "  481.05093285 336.27518493 174.1952927  517.74607676 403.89726417\n",
      "  631.94382662 272.63528752 325.18610056 521.96743193 683.70900243\n",
      "  209.11719202 244.77336456 135.76450199 481.69803819 562.86410438\n",
      "  218.43305611 207.63429389 292.05821338 332.29504962 253.94881374\n",
      "  463.83617798 475.45451938 285.4645337  372.77607219 285.55910071\n",
      "  128.54960132 256.43907659 251.66843266 276.26798584 528.62557638\n",
      "  284.86136979 585.21192742 492.77682575 614.09608369 529.63572387\n",
      "  583.08232695 661.50812542 254.52111897 389.53562096 596.44362684\n",
      "  317.84430151 566.1245446  140.42791745 262.61759271   0.\n",
      "  154.8967398  357.3373756  181.0441935  201.43485299 111.36426716\n",
      "  455.34272806 584.29872497 210.28076469 575.26428709 411.42800099\n",
      "  304.50779957 626.56603802 285.04385627 641.43121221 609.58428457\n",
      "  150.37286989  64.12487817 362.27061708 360.03472055 422.12912716]\n",
      " [431.45915218 576.92027179 675.29623129 615.02032487 308.46879907\n",
      "  487.11805551 220.62184842 621.48612213 708.48641483 176.92088627\n",
      "  447.010067   401.19945164 439.64531159 535.47175462 487.6105003\n",
      "  107.37783756 179.0251379  340.23815189 681.10571867 609.21014437\n",
      "  347.70389702 224.75764726 639.41379403 493.         730.49298422\n",
      "  491.17817541 537.92192742 396.27515693 446.92393089 150.15325504\n",
      "  757.63975608 117.95338062 516.27124654  85.38149682 350.95583768\n",
      "  635.29914214 480.06041286 286.71414336 602.53630596 558.79334284\n",
      "  694.87408931 426.01056325 466.4472103  622.58573707 728.3687253\n",
      "  149.68299837 395.126562   208.2906623  490.49566767 581.12391106\n",
      "  243.8237068  328.1539273  278.49057435 485.81992549 395.52117516\n",
      "  469.15775598 629.04530838 437.41170538 516.70591249 363.32492345\n",
      "  236.71924299 379.32571756 403.63597461 283.63532925 524.40061022\n",
      "  437.59913163 661.00832067 537.59650296 668.46765068 664.00677707\n",
      "  613.7882371  703.78689957 118.01694794 368.62040095 715.84495528\n",
      "  322.1179908  668.96935655  47.12748667 411.09244702 154.8967398\n",
      "    0.         460.20538893 307.58413483 322.85135899 158.53390804\n",
      "  524.76661479 689.81446781 322.83277405 658.02279596 285.00175438\n",
      "  391.287618   700.5041042  287.57086083 693.51928596 686.74303782\n",
      "  153.05227865 203.92400545 510.28325467 514.33257723 514.        ]\n",
      " [563.20511361 227.27076363 226.5259367  341.27554849 513.4685969\n",
      "  240.11039128 320.46996739 282.64465323 248.74484919 501.15466674\n",
      "   43.41658669 173.21662738  21.1896201  314.03980639 385.529506\n",
      "  491.11403971 366.89099199 568.86290088 366.26766169 309.9032107\n",
      "  499.60484385 423.30249231 374.8346302  177.81451009 364.13870983\n",
      "  276.04528614 205.36065836 334.98208907 111.3283432  532.07988122\n",
      "  417.2349458  499.51376357 198.29523444 377.42946361 580.8967206\n",
      "  378.3384728  185.33483213 183.30848316 167.90771275 367.32682995\n",
      "  301.97516454 355.57840204 166.86521507 164.98484779 378.04761605\n",
      "  372.15588132 228.80559434 475.79197135 302.52437918 332.62892237\n",
      "  248.65437861 465.46535854 297.64408276 377.95502378 428.7889924\n",
      "  301.24076749 358.87184342 245.96747752 198.01010075 582.76067129\n",
      "  442.52570547 488.14444584 365.13696061 260.04999519 361.00554012\n",
      "  255.81243129 241.44771691 223.88613177 299.61308383 246.3331078\n",
      "  320.35761268 362.54792787 488.02561408 329.66043135 261.00766272\n",
      "  262.84025567 210.19276867 417.1930009  396.84001814 357.3373756\n",
      "  460.20538893   0.         181.29809707 460.34117782 301.70183957\n",
      "  142.27086842 230.05434141 147.09180807 224.6619683  565.31495646\n",
      "  586.04180738 282.64642223 267.91789787 327.67056627 262.99239533\n",
      "  507.56083379 378.39926004 226.38462845 375.58620848  71.84010022]\n",
      " [402.00124378 378.30807552 407.61869437 469.57214568 336.81003548\n",
      "  203.57799488 139.17614738 433.62310824 415.48164821 321.06852851\n",
      "  190.5413341  102.72779565 165.52945357 415.63686073 284.00704217\n",
      "  366.65242397 186.70297266 392.23717315 392.90838627 446.4000448\n",
      "  329.52389898 352.27829908 367.07764846 304.25154067 529.3203189\n",
      "  368.18473624 345.80919594 361.40005534 139.47401192 413.44648989\n",
      "  575.5918693  325.02461445 330.15148038 222.28360263 404.60598117\n",
      "  365.81552728 179.96110691  35.73513677 347.51978361 312.43879401\n",
      "  473.60109797 232.93990641 163.40440631 343.68153864 538.35397277\n",
      "  268.88845271 125.68611697 294.49787775 385.9144983  449.02672526\n",
      "  180.93645293 294.8711583  264.56946158 278.08811553 279.07884191\n",
      "  374.22586763 353.6240942  168.07438829 215.52030067 407.77076894\n",
      "  262.12210895 325.6009828  230.16950276 230.09780529 442.16286592\n",
      "  173.61163555 419.01312629 357.49405589 463.14684496 356.45055758\n",
      "  455.24498899 519.01830411 367.66288907 343.02332282 415.87738578\n",
      "  260.03076741 386.76090806 271.90623384 258.37376028 181.0441935\n",
      "  307.58413483 181.29809707   0.         289.20753794 161.01242188\n",
      "  299.60640848 404.18312681  42.01190308 404.88269906 487.82168873\n",
      "  414.60583691 460.58441137 241.13274353 491.35018062 441.90496716\n",
      "  329.43739921 197.1014967  217.41435095 291.61961525 250.47954008]\n",
      " [122.7110427  667.51029955 678.74000913 754.88608412  66.12110102\n",
      "  318.81812997 173.56554958 722.75168627 659.22378598 175.071414\n",
      "  477.46937075 301.0946695  448.44286147 694.23411037 221.92115717\n",
      "  428.98135158 168.44286865 115.20850663 477.00104822 733.79152353\n",
      "   40.45985665 508.71701367 414.06400471 592.2837158  817.92236795\n",
      "  645.72827102 634.65344874 607.04942138 374.81728882 473.00422831\n",
      "  864.79882054 233.23807579 618.35669318 285.00701746 125.57467898\n",
      "  406.45048899 350.46397818 307.05048445 627.97213314 315.99525313\n",
      "  760.25850867 177.07060739 351.06979363 609.70976702 827.48897274\n",
      "  410.17313418 253.00197628 126.49110641 659.07890271 731.43147321\n",
      "  406.48862223   6.32455532 487.00102669 224.54398233  95.38343672\n",
      "  643.77014532 410.22067232 269.13565353 379.3283538  124.48293056\n",
      "   86.33075929  56.71860365 149.21461054 465.72524089 710.94655214\n",
      "  261.91983506 701.78700472 645.52381831 751.84705892 547.63674091\n",
      "  742.23513794 808.22336022 438.32065888 582.76067129 644.77050181\n",
      "  505.66490881 646.83923814 328.2072516  132.81566173 201.43485299\n",
      "  322.85135899 460.34117782 289.20753794   0.         308.26287483\n",
      "  588.25249681 659.29431971 330.95316889 683.96564241 602.88058519\n",
      "  125.87692402 742.96231398 475.58174902 780.0987117  723.0995782\n",
      "  204.40156555 137.46272222 352.51099274 258.38150089 532.07612237]\n",
      " [430.81318457 432.54132751 518.05212093 488.4393514  326.96482991\n",
      "  358.87184342 142.00352108 481.2317529  550.13634674 245.15301344\n",
      "  289.17295863 262.27466519 281.11385594 415.39017803 401.32904206\n",
      "  205.64289436 142.24275025 375.8257575  551.57229807 476.49554038\n",
      "  345.11012735 214.44113411 520.05865054 348.58858272 588.35788428\n",
      "  367.72952016 394.19411462 303.91610685 296.54342009 252.53316614\n",
      "  621.78854927 218.69156362 373.45013054  78.26237921 388.48552097\n",
      "  517.64466577 340.61855498 133.72359552 446.5254752  452.98233961\n",
      "  546.78423533 340.99266854 324.40098643 464.21115885 589.54219527\n",
      "  118.47362576 271.20471972 244.2007371  374.09223462 458.26848026\n",
      "  109.60383205 314.56954716 180.75397644 397.36381315 346.09247319\n",
      "  355.37304343 507.66622893 315.60101394 376.43591752 396.89041309\n",
      "  239.77697971 361.08309293 326.27135945 165.80108564 419.01431956\n",
      "  318.52158483 507.83560332 397.23670525 524.17554312 512.78845541\n",
      "  482.63132928 566.16693651 206.78733037 278.17260828 558.48813774\n",
      "  207.60780332 510.51836402 116.18089344 344.79269134 111.36426716\n",
      "  158.53390804 301.70183957 161.01242188 308.26287483   0.\n",
      "  372.83910739 531.28993968 167.86899654 502.77728668 337.764711\n",
      "  415.70783009 548.15417539 174.18381096 550.52702023 533.25884897\n",
      "  238.81792228 172.02906731 376.39606799 419.54379986 356.23728047]\n",
      " [697.1032922   85.         169.54350474 202.80532537 636.13284776\n",
      "  380.74663492 432.94572408 140.54536634 252.60443385 602.5089211\n",
      "  112.29425631 314.01433088 145.8903698  193.00259066 527.78783616\n",
      "  527.50165877 472.23934609 691.47523455 484.19520857 169.31922513\n",
      "  628.37090957 423.09337031 504.21622346  64.44377394 229.73027663\n",
      "  168.43990026  68.02940541 271.90071717 253.30811278 560.33025976\n",
      "  278.22652641 588.59238867  70.22819946 450.87692334 703.92755309\n",
      "  508.90568871 325.18610056 288.17529388  92.57429449 506.76424499\n",
      "  176.66352198 496.51686779 307.70277867 152.1085139  239.94374341\n",
      "  404.2091043  369.30339831 585.07520884 197.5904856  200.30227158\n",
      "  283.63709207 593.77857826 291.79616173 520.22014571 565.82064296\n",
      "  205.41908383 488.25608035 388.20226687 332.82578025 707.33089852\n",
      "  558.60540635 621.11190618 504.57308688 263.47106103 250.00799987\n",
      "  398.02638104 136.52838533  89.45389874 163.60012225 328.56810557\n",
      "  180.05554698 222.42302039 521.110353   278.49057435 286.68100739\n",
      "  243.68011819 192.09372712 478.15164958 536.02705156 455.34272806\n",
      "  524.76661479 142.27086842 299.60640848 588.25249681 372.83910739\n",
      "    0.         216.46246788 258.64454373 138.6001443  556.56266494\n",
      "  713.94257472 175.755512   266.18226838 191.84629264 162.44383645\n",
      "  603.38462029 489.71930736 364.06180794 517.53453991  84.09518417]\n",
      " [745.52330614 249.95399577  71.19691005 364.24442343 718.89150781\n",
      "  367.32546876 541.281812   276.50135624  40.85339643 724.85929669\n",
      "  245.54022074 358.39782365 250.2878343  390.36649446 524.75518101\n",
      "  714.46343503 590.6894277  773.0523915  374.56241135 326.84093991\n",
      "  695.70827219 628.17195098 422.12083578 280.16602221 284.02816762\n",
      "  378.04232567 265.30736891 488.36257023 285.11225859 752.69781453\n",
      "  347.11669508 727.64620524 278.63237429 607.43559329 784.23593389\n",
      "  430.02906878 318.67538342 411.70013359 127.34991166 466.72690087\n",
      "  215.39266468 518.09362088 312.32835286  69.89277502 311.10287688\n",
      "  592.52426111 407.42729413 695.19277902 406.67677583 379.89077378\n",
      "  467.36923305 663.53070765 496.50478346 517.05415577 606.60118694\n",
      "  417.94856143 408.20828017 402.27478171 301.78303465 783.77611599\n",
      "  657.13316763 675.52942201 536.47926335 463.31522746 452.01769877\n",
      "  411.63697599 149.90663761 285.95454184 247.69537743 188.21530225\n",
      "  336.93322781 311.85894247 710.15772896 494.40974909  86.31338251\n",
      "  451.68573145  24.41311123 646.17722027 567.32442218 584.29872497\n",
      "  689.81446781 230.05434141 404.18312681 659.29431971 531.28993968\n",
      "  216.46246788   0.         374.8346302  117.7200068  766.12401085\n",
      "  781.33859498 165.02727047 468.38552497 264.48629454 146.21901381\n",
      "  733.57549032 598.41540756 336.78628238 500.72946788 181.04143172]\n",
      " [444.00450448 336.59471178 373.29077138 427.73940665 377.48907269\n",
      "  220.46541679 176.20726432 391.80096988 389.21716303 354.40090293\n",
      "  151.23822268 117.74548824 129.40247293 374.8826483  317.90721917\n",
      "  370.74654415 220.41097976 432.8336863  402.0199     404.40079129\n",
      "  371.31253682 339.20053066 383.27144428 262.24034777 488.22638192\n",
      "  327.75753233 303.86345618 328.12345238 130.667517   415.94350578\n",
      "  533.92227899 352.94475488 288.14059068 237.89283302 445.28305604\n",
      "  383.01958174 187.04277586  37.01351105 310.31113419 337.55147756\n",
      "  433.49855824 269.87404469 168.0476123  311.71782111 496.84202721\n",
      "  263.7877935  154.20765221 330.90482015 346.30189142 407.59048075\n",
      "  160.7513608  336.65709557 239.74152748 311.5798453  320.24990242\n",
      "  335.43106594 368.97831915 193.01813386 219.97272558 448.76942855\n",
      "  300.98006579 367.60440694 269.11893282 203.16003544 403.18358101\n",
      "  199.96999775 380.5798208  315.48217065 422.01895692 345.25932283\n",
      "  413.266258   477.31017169 370.2769234  311.44823005 393.60005081\n",
      "  228.97379763 356.14182568 283.34078422 298.10400869 210.28076469\n",
      "  322.83277405 147.09180807  42.01190308 330.95316889 167.86899654\n",
      "  258.64454373 374.8346302    0.         367.86546454 478.35656157\n",
      "  456.17650093 422.17176599 214.00934559 450.17774268 403.97648446\n",
      "  360.46913876 233.92733915 228.44255295 322.26231551 213.60009363]\n",
      " [782.90804058 140.7302384   47.42362281 247.75794639 738.02777726\n",
      "  425.80042273 543.62487066 159.67780059 158.44557425 721.39101741\n",
      "  218.2200724  388.46492763 239.35329536 281.60255681 583.30952332\n",
      "  665.45623447 588.01700656 793.38515237 473.34237081 210.70595625\n",
      "  722.80011068 560.99376111 511.76947936 192.77188592 174.95713761\n",
      "  277.00180505 165.05150711 398.24615503 316.42534665 698.82758961\n",
      "  237.73935307 713.78498163 183.00273222 581.01290863 805.36203039\n",
      "  518.61064393 371.38120577 402.06094065  57.5847202  540.29991671\n",
      "  103.94229168 564.98938043 359.26174302  95.85927185 199.57204213\n",
      "  542.06733899 442.8916346  698.69664376 304.23674992 265.9793225\n",
      "  420.00476188 688.93903939 430.09882585 575.50065161 645.91408097\n",
      "  318.64243283 496.72930254 449.25827761 365.01643799 806.98265161\n",
      "  666.82081551 709.03455487 578.80221147 402.06094065 343.84007911\n",
      "  459.20039199  33.01514804 182.80043764 130.86252328 291.65219012\n",
      "  220.47675614 197.00253805 659.29811163 408.93153461 203.73512216\n",
      "  381.52588379  99.84988733 611.96486827 610.5775954  575.26428709\n",
      "  658.02279596 224.6619683  404.88269906 683.96564241 502.77728668\n",
      "  138.6001443  117.7200068  367.86546454   0.         692.54602735\n",
      "  809.33058758  63.2455532  404.75301111 150.0833102   41.40048309\n",
      "  725.36680376 601.51891076 400.21619158 564.96371565 154.43445211]\n",
      " [715.54524665 568.68356755 726.08608305 546.         593.27312429\n",
      "  691.20908559 467.5082887  592.15960686 796.70885523 460.67884692\n",
      "  532.58614327 590.21097923 545.0229353  464.27578011 736.89212236\n",
      "  178.17968459 442.87244213 624.62788923 879.58228723 558.16216282\n",
      "  630.67265677 142.2743828  854.32546491 499.98499977 694.87408931\n",
      "  438.46322537 533.83330732 307.66865294 606.06022803 145.06550245\n",
      "  698.10314424 398.62890011 513.07894129 322.59572223 635.02125949\n",
      "  852.57785568 664.77063714 454.05396155 648.82046823 790.63012844\n",
      "  686.56827774 675.6160152  646.23911983 696.75892531 681.42277626\n",
      "  220.38375621 607.06259974 493.146023   421.07006543 508.00098425\n",
      "  322.63911728 608.54991578 270.51986988 733.3873465  665.3006839\n",
      "  399.53598086 841.18963379 651.38391138 698.30723897 647.69514434\n",
      "  518.14476742 659.58926613 658.24007778 306.24989796 421.99763033\n",
      "  654.99083963 681.72281757 522.15323421 647.56852919 807.94121073\n",
      "  557.56075902 655.4769256  167.00299399 289.35272592 819.76582022\n",
      "  314.50596179 742.02560603 274.87633583 672.62247955 411.42800099\n",
      "  285.00175438 565.31495646 487.82168873 602.88058519 337.764711\n",
      "  556.56266494 766.12401085 478.35656157 692.54602735   0.\n",
      "  676.14495487 712.57561002 299.60807733 664.90976831 706.74040496\n",
      "  434.66423823 472.58544201 704.54311437 756.77473531 588.60003398]\n",
      " [ 71.86793444 792.75784449 803.13199413 877.82458384  88.95504483\n",
      "  430.10928844 292.02739598 847.8236845  779.31572549 216.27991123\n",
      "  603.31418017 424.35480438 574.29783214 814.91349234 305.00163934\n",
      "  498.03614327 273.70787347  53.85164807 567.05643458 857.69516729\n",
      "   86.53323061 600.16164489 498.78652748 716.67914718 943.64929926\n",
      "  766.31716671 759.48008532 719.1216865  498.1736645  536.53704439\n",
      "  990.09494494 279.86603938 742.80683896 376.44654335  47.41307836\n",
      "  490.04591622 467.69648277 430.99071916 753.53301188 400.24492501\n",
      "  886.13542983 277.90825824 470.47316608 733.6654551  952.95802636\n",
      "  504.76232031 373.91576592 184.8377667  778.24931738 853.2930329\n",
      "  520.03461423 120.60265337 596.46039265 310.04031996 183.80696396\n",
      "  761.98753271 498.14455733 384.24601494 493.70537773  33.12099032\n",
      "  175.96022278 109.44404963 253.21137415 578.88254422 828.40207629\n",
      "  375.99601062 827.48413882 769.85193382 877.54259156 659.70978468\n",
      "  865.93417764 933.46772842 509.16598472 693.74130625 762.27291701\n",
      "  619.87902045 769.74930984 409.42032192 227.03523956 304.50779957\n",
      "  391.287618   586.04180738 414.60583691 125.87692402 415.70783009\n",
      "  713.94257472 781.33859498 456.17650093 809.33058758 676.14495487\n",
      "    0.         868.60347685 588.15389143 905.7819826  848.64244532\n",
      "  244.18230894 245.25293067 464.05279872 342.05262753 657.81608372]\n",
      " [843.77781436 144.51643505  96.33794683 224.08926793 795.74179229\n",
      "  489.00920237 598.37780708 139.60300856 203.3543705  773.42679033\n",
      "  271.03505308 449.69434064 295.66535137 275.13632984 646.41318056\n",
      "  700.04571279 641.08969731 851.18505626 532.46314426 190.21303846\n",
      "  782.12530965 586.61912686 573.07940113 216.66794871 119.00420161\n",
      "  281.55638867 178.8686669  409.92682274 378.31864876 730.6161783\n",
      "  182.09887424 762.56999679 200.08498195 626.30982748 863.29600949\n",
      "  580.11464384 434.49741081 455.10108767 115.25623627 603.35395913\n",
      "   52.49761899 627.3794705  422.15281593 157.87653404 146.41379716\n",
      "  577.28069429 504.47695686 752.81405407 305.91502088 249.83394485\n",
      "  458.73303783 748.05681602 458.41575017 638.60551203 707.31958831\n",
      "  323.51352367 558.20068076 511.90721816 428.23941902 865.33981764\n",
      "  722.66866543 769.47384621 640.71522535 434.02880089 336.21719171\n",
      "  521.86684125  41.59326869 191.01832373  93.1933474  348.50107604\n",
      "  198.11612756 149.64624954 693.00649348 424.32181184 250.2878343\n",
      "  408.67835764 152.74161188 653.84784163 672.52137512 626.56603802\n",
      "  700.5041042  282.64642223 460.58441137 742.96231398 548.15417539\n",
      "  175.755512   165.02727047 422.17176599  63.2455532  712.57561002\n",
      "  868.60347685   0.         435.29415342 102.78618584  21.9544984\n",
      "  775.93105364 656.06783186 463.45334177 628.20378859 211.07818457]\n",
      " [598.08026217 299.50626037 433.45357306 327.47060937 499.84197503\n",
      "  433.60927112 302.64996283 338.63845027 497.7650048  416.12498123\n",
      "  233.31738041 331.44531977 248.36465127 248.78303801 524.10399731\n",
      "  266.08457302 314.60610293 549.65898519 607.05518695 322.3724554\n",
      "  514.07878774 159.81551865 595.00336134 219.00228309 448.00111607\n",
      "  203.6786685  260.84669827 131.47243057 325.86193395 295.33201655\n",
      "  471.208022   380.65469917 238.75719884 235.7731961  562.36020485\n",
      "  595.34863735 395.03544145 206.07280267 356.0463453  551.30481587\n",
      "  420.37721156 470.0042553  374.81728882 398.64771415 443.48167944\n",
      "  146.01369799 366.         418.26546594 204.8047851  293.95577899\n",
      "   69.26037828 481.89832953  29.73213749 518.46889974 498.19674828\n",
      "  184.50474249 580.24563764 406.54643031 424.11790813 570.454205\n",
      "  412.69964866 525.25898374 462.67591249  11.04536102 245.73359559\n",
      "  413.05205483 399.53598086 256.46247289 388.97300678 513.40821965\n",
      "  326.55933611 418.3837951  258.32731176 107.70329614 520.15862965\n",
      "   35.         444.55933237 241.26748641 487.27199796 285.04385627\n",
      "  287.57086083 267.91789787 241.13274353 475.58174902 174.18381096\n",
      "  266.18226838 468.38552497 214.00934559 404.75301111 299.60807733\n",
      "  588.15389143 435.29415342   0.         412.23779545 425.44212297\n",
      "  406.03694413 343.01311928 438.32636243 532.75228765 289.35272592]\n",
      " [888.34677914 118.06777715 193.58202396 135.67977005 827.58081176\n",
      "  555.59067667 623.24393298  74.24284477 304.05591591 788.12435567\n",
      "  303.35622624 500.8193287  335.08954027 204.8047851  709.17205247\n",
      "  677.34555435 660.44606139 882.85049697 621.45635406 110.05453194\n",
      "  820.21033888 550.26266455 656.31775841 201.95544063  38.27531842\n",
      "  226.63847864 156.38733964 357.24641356 434.61477195 702.29979354\n",
      "   91.78779875 769.04746277 177.55280905 626.77029285 895.35076925\n",
      "  662.64017385 499.76894661 478.60004179 179.94721448 676.4236838\n",
      "   50.28916384 682.86748348 484.73085315 242.98971172  52.\n",
      "  558.18634881 556.42429853 773.59033086 244.63237725 168.67127793\n",
      "  450.03222107 785.62204653 430.48809507 701.44565007 755.79097639\n",
      "  265.58990945 640.92511263 570.81345464 499.55179912 898.94716196\n",
      "  749.04272241 812.51769212 692.80372401 413.59158599 260.38625156\n",
      "  580.79256194 117.15374514 156.20819441  28.28427125 441.4702708\n",
      "  114.12712211  47.38143096 668.78172822 376.64306711 350.64654568\n",
      "  380.91600124 249.12848091 646.39461631 724.49292612 641.43121221\n",
      "  693.51928596 327.67056627 491.35018062 780.0987117  550.52702023\n",
      "  191.84629264 264.48629454 450.17774268 150.0833102  664.90976831\n",
      "  905.7819826  102.78618584 412.23779545   0.         118.69709348\n",
      "  786.71595891 679.38943177 533.68342676 694.97410024 258.23438965]\n",
      " [823.15308418 141.77799547  76.1642961  232.26278221 776.39229775\n",
      "  467.20017123 580.11205814 145.45446023 185.43192821 756.22549547\n",
      "  253.16002844 428.87877075 276.62248643 277.52117036 624.69512564\n",
      "  689.08780282 623.46290988 831.80887228 511.28172273 196.93907687\n",
      "  762.13515862 578.70545185 551.39278196 208.13697413 138.52075657\n",
      "  280.12854192 173.29743218 406.53905101 357.20722277 720.66774591\n",
      "  201.71762442 746.56078118 193.6801487  611.49816026 843.86847316\n",
      "  558.38785803 412.76870036 437.38884302  95.13148795 581.4000344\n",
      "   69.18092223 606.06022803 400.56584977 135.98897014 165.\n",
      "  566.00088339 483.5173213  734.83127315 305.61740788 255.48581174\n",
      "  446.07846843 728.14627651 449.37845965 616.88653738 686.45538821\n",
      "  322.18783341 536.47926335 490.45387143 406.32130144 845.74523351\n",
      "  704.02556772 749.02603426 619.62085181 423.680304   339.29927792\n",
      "  500.40483611  26.         187.53666308 104.92378186 327.81854737\n",
      "  205.60155641 166.04818578 682.35474645 419.68678797 232.1421978\n",
      "  399.9399955  132.54433221 640.2725982  651.41461451 609.58428457\n",
      "  686.74303782 262.99239533 441.90496716 723.0995782  533.25884897\n",
      "  162.44383645 146.21901381 403.97648446  41.40048309 706.74040496\n",
      "  848.64244532  21.9544984  425.44212297 118.69709348   0.\n",
      "  759.27399534 637.89732716 441.54841184 606.34808485 191.760267  ]\n",
      " [293.57452206 668.67779984 733.49846626 727.01100404 169.5169608\n",
      "  457.84385985 196.12496017 718.78369486 744.42192337  29.96664813\n",
      "  507.16959688 396.72912674 489.51915182 652.60478086 409.60590816\n",
      "  256.75864153 144.03124661 191.26160096 642.09189373 715.2859568\n",
      "  217.34994824 374.8826483  588.15389143 585.31700812 824.79391365\n",
      "  605.48575541 630.89222534 528.33417455 460.00434781 293.\n",
      "  860.07034596  36.05551275 610.64965406 170.41420129 201.00995\n",
      "  582.06013435 468.70566457 324.54891773 667.8929555  495.80742229\n",
      "  779.59284245 353.11471224 460.79279508 671.98363075 827.18921656\n",
      "  288.84944175 369.97567488  78.10249676 610.05983313 696.23271971\n",
      "  347.05186932 208.08652047 404.88269906 410.12193309 294.18701535\n",
      "  590.33888573 580.95524785 404.29939401 504.03372903 214.1494805\n",
      "  125.49501982 256.04882347 326.17326684 399.29938643 651.24880038\n",
      "  400.98129632 734.7006193  635.09448116 759.81708325 667.69004785\n",
      "  721.44923591 804.18468028 268.56098004 501.01696578 742.11387266\n",
      "  440.82763071 715.81631722 182.48287591 322.39727046 150.37286989\n",
      "  153.05227865 507.56083379 329.43739921 204.40156555 238.81792228\n",
      "  603.38462029 733.57549032 360.46913876 725.36680376 434.66423823\n",
      "  244.18230894 775.93105364 406.03694413 786.71595891 759.27399534\n",
      "    0.         144.73423921 487.51205113 442.67030621 572.46222583]\n",
      " [259.34147374 563.0008881  604.64865831 638.65875082 157.54364475\n",
      "  314.0270689   57.93962375 616.42355568 606.41899706 129.00387591\n",
      "  385.05194455 253.16002844 362.3106402  572.3853597  285.70089254\n",
      "  304.35669863  31.06444913 209.74508338 501.32823579 621.15537509\n",
      "  173.21951391 372.06585439 451.05321194 482.95755507 717.64963596\n",
      "  523.82917063 527.40212362 474.17823653 319.06112267 351.00569796\n",
      "  759.31877364 153.93505124 509.07465071 150.61540426 222.55111772\n",
      "  445.70169396 324.03857795 201.69283577 544.02665376 363.26987213\n",
      "  665.93167818 224.93110056 316.52172121 539.96481367 723.80798559\n",
      "  273.22152185 225.32199183  97.4063653  534.43147362 612.22218189\n",
      "  274.78173156 143.69411957 352.26410547 284.54173683 193.5406934\n",
      "  517.60216383 442.63867883 260.66453537 359.3021013  229.24222997\n",
      "   71.58910532 192.31484602 201.01989951 333.66450216 583.60003427\n",
      "  257.93410011 614.4794545  535.38490827 651.55966726 523.49021003\n",
      "  628.73285265 702.63575201 312.18744369 449.09019139 601.39920186\n",
      "  374.62648064 582.08676329 198.65548067 207.1714266   64.12487817\n",
      "  203.92400545 378.39926004 197.1014967  137.46272222 172.02906731\n",
      "  489.71930736 598.41540756 233.92733915 601.51891076 472.58544201\n",
      "  245.25293067 656.06783186 343.01311928 679.38943177 637.89732716\n",
      "  144.73423921   0.         343.12679872 314.66966806 447.09842317]\n",
      " [418.38977043 447.66281954 377.70888261 566.18813128 417.73197148\n",
      "   33.95585369 299.         500.9371218  325.61326754 468.72806615\n",
      "  267.36678926 114.69088891 232.05387306 539.83423382 187.9707424\n",
      "  580.94147726 351.01139583 467.12418049 175.50498568 533.37603996\n",
      "  383.02088716 566.99647265 157.16551785 404.18807503 566.65421555\n",
      "  500.001      430.08487534 538.43569718 120.59850745 628.49741447\n",
      "  625.44783955 495.84675052 424.40664462 427.73005506 476.59311787\n",
      "  158.39823231  44.14748011 250.50349299 355.23654091 143.27944724\n",
      "  497.78408974 188.11166896  64.76109943 307.84736478 585.63640597\n",
      "  486.26124666 118.3300469  426.53018651 525.18663349 558.92038789\n",
      "  389.13879272 355.25765298 465.66296825 180.27756377 281.44271175\n",
      "  521.24466424 142.0880009   85.14693183  35.4682957  473.03276842\n",
      "  379.11607721 354.80276211 211.00947846 427.87381317 584.14467386\n",
      "   91.04943712 427.54765816 449.47191236 507.16663928 195.78048932\n",
      "  544.08547123 574.23078984 582.89707496 526.52255412 301.86917696\n",
      "  447.53212175 331.63383422 480.83261121 239.23210487 362.27061708\n",
      "  510.28325467 226.38462845 217.41435095 352.51099274 376.39606799\n",
      "  364.06180794 336.78628238 228.44255295 400.21619158 704.54311437\n",
      "  464.05279872 463.45334177 438.32636243 533.68342676 441.54841184\n",
      "  487.51205113 343.12679872   0.         165.42369842 281.88827574]\n",
      " [282.81619473 602.40600927 543.1325805  715.99441339 322.52286741\n",
      "  139.6065901  295.74313179 657.18870958 486.67956604 417.00479614\n",
      "  411.86891118 213.97429752 375.76854578 679.74406948  37.33630941\n",
      "  605.73261428 335.83924726 360.69377594 225.00888871 685.38821116\n",
      "  275.34705373 631.45704525 157.54364475 549.31320756 728.96227612\n",
      "  636.06446214 580.62208019 650.37220113 264.28204631 654.0030581\n",
      "  786.47059703 462.29968635 571.92482023 444.31520343 367.15119501\n",
      "  149.28161307 195.2331939  326.84705904 518.33965698  58.54912467\n",
      "  661.02042329  90.13878189 210.66798523 473.2071428  746.70810897\n",
      "  537.96375343 168.07438829 368.20782175 658.45880661 704.38696751\n",
      "  471.0711199  258.37376028 555.83540729  33.83784863 165.42369842\n",
      "  650.775691   156.11534198 133.66001646 200.89051745 359.70682507\n",
      "  318.32373458 236.78260071 116.49892703 521.71735643 717.05648313\n",
      "  124.90396311 591.58938462 598.35106752 667.88397196 342.21192264\n",
      "  695.76576518 733.87873658 611.11864642 633.46112746 458.27939077\n",
      "  550.68139609 496.59037445 498.44257443 125.59060474 360.03472055\n",
      "  514.33257723 375.58620848 291.61961525 258.38150089 419.54379986\n",
      "  517.53453991 500.72946788 322.26231551 564.96371565 756.77473531\n",
      "  342.05262753 628.20378859 532.75228765 694.97410024 606.34808485\n",
      "  442.67030621 314.66966806 165.42369842   0.         438.83709962]\n",
      " [634.87400325 165.89454482 162.23748026 286.68100739 584.6990679\n",
      "  300.46630427 389.19660841 219.16432191 208.48261318 567.64865894\n",
      "   67.06713055 243.2878953   84.97058314 273.79189177 451.4864339\n",
      "  533.83330732 433.94239249 640.13279872 400.80543908 252.51732614\n",
      "  571.400035   449.03451983 420.14521299 137.64083696 294.00680264\n",
      "  243.51591324 152.01315733 328.16154558 176.49079296 571.69397408\n",
      "  348.85240432 562.26772982 151.3274595  433.84098469 652.22848757\n",
      "  424.88704381 244.56083088 248.28411145  97.04638066 425.04823256\n",
      "  230.53416233 424.80230696 228.17756244 111.32385189 309.31698951\n",
      "  411.59324581 298.83942176 544.30965452 272.12129648 284.08625451\n",
      "  286.47163908 537.22714004 318.12104614 443.79837764 499.98499977\n",
      "  276.02354972 404.19054912 312.6995363  249.82593941 654.26982202\n",
      "  512.50756092 559.91785112 435.48823176 283.63532925 327.76821078\n",
      "  322.66546143 169.75276139 173.07223925 230.48861143 252.24789395\n",
      "  263.37046152 295.2964612  529.3203189  328.82366095 232.26278221\n",
      "  275.68822971 158.15182579 469.2089087  467.26972939 422.12912716\n",
      "  514.          71.84010022 250.47954008 532.07612237 356.23728047\n",
      "   84.09518417 181.04143172 213.60009363 154.43445211 588.60003398\n",
      "  657.81608372 211.07818457 289.35272592 258.23438965 191.760267\n",
      "  572.46222583 447.09842317 281.88827574 438.83709962   0.        ]]\n"
     ]
    }
   ],
   "source": [
    "arr = np.random.randint(34, 789, size=(100,2))\n",
    "piont_dist = np.sqrt(np.sum((arr - arr[:, np.newaxis])**2, axis=-1))\n",
    "\n",
    "print(piont_dist)"
   ]
  },
  {
   "cell_type": "markdown",
   "metadata": {},
   "source": [
    "#### 53. How to convert a float (32 bits) array into an integer (32 bits) in place?"
   ]
  },
  {
   "cell_type": "code",
   "execution_count": 60,
   "metadata": {},
   "outputs": [
    {
     "name": "stdout",
     "output_type": "stream",
     "text": [
      "[7.01e-45 1.25e-43 5.61e-45]\n"
     ]
    }
   ],
   "source": [
    "float_array = np.array([5.67, 89.49, 4.8], dtype=np.float32)\n",
    "\n",
    "float_array.view(dtype=np.int32)[:] = float_array\n",
    "\n",
    "print(float_array)"
   ]
  },
  {
   "cell_type": "markdown",
   "metadata": {},
   "source": [
    "#### 54. How to read the following file? (★★☆)\n",
    "```\n",
    "1, 2, 3, 4, 5\n",
    "6,  ,  , 7, 8\n",
    " ,  , 9,10,11\n",
    "```"
   ]
  },
  {
   "cell_type": "code",
   "execution_count": 61,
   "metadata": {},
   "outputs": [
    {
     "name": "stdout",
     "output_type": "stream",
     "text": [
      "[[ 1.  2.  3.  4.  5.]\n",
      " [ 6. nan nan  7.  8.]\n",
      " [nan nan  9. 10. 11.]]\n"
     ]
    }
   ],
   "source": [
    "\n",
    "data = np.genfromtxt('fifty_four.txt', delimiter=',', dtype=float, missing_values='')\n",
    "\n",
    "\n",
    "print(data)"
   ]
  },
  {
   "cell_type": "markdown",
   "metadata": {},
   "source": [
    "#### 55. What is the equivalent of enumerate for numpy arrays? "
   ]
  },
  {
   "cell_type": "code",
   "execution_count": 62,
   "metadata": {},
   "outputs": [
    {
     "name": "stdout",
     "output_type": "stream",
     "text": [
      "(0,) 55\n",
      "(1,) 46\n",
      "(2,) 51\n",
      "(3,) 23\n",
      "(4,) 49\n",
      "(5,) 85\n",
      "(6,) 53\n",
      "(7,) 83\n",
      "(8,) 97\n",
      "(9,) 53\n",
      "(10,) 82\n",
      "(11,) 77\n",
      "(12,) 73\n",
      "(13,) 76\n",
      "(14,) 40\n",
      "(15,) 96\n",
      "(16,) 29\n",
      "(17,) 58\n",
      "(18,) 84\n",
      "(19,) 97\n",
      "(20,) 69\n",
      "(21,) 23\n",
      "(22,) 38\n"
     ]
    }
   ],
   "source": [
    "arr = np.random.randint(23, 98, 23)\n",
    "for index, value in np.ndenumerate(arr):\n",
    "    print(index, value)"
   ]
  },
  {
   "cell_type": "markdown",
   "metadata": {},
   "source": [
    "#### 56. Generate a generic 2D Gaussian-like array "
   ]
  },
  {
   "cell_type": "markdown",
   "metadata": {},
   "source": [
    "#### 57. How to randomly place p elements in a 2D array?"
   ]
  },
  {
   "cell_type": "markdown",
   "metadata": {},
   "source": [
    "#### 59. How to sort an array by the nth column? "
   ]
  },
  {
   "cell_type": "code",
   "execution_count": 64,
   "metadata": {},
   "outputs": [
    {
     "name": "stdout",
     "output_type": "stream",
     "text": [
      "[[176 391 345 332 144 140 112]\n",
      " [188 431 323 101 407 454 430]\n",
      " [136 306 213 277 119 254 439]\n",
      " [135 299 450 229 325 377 287]\n",
      " [308 194 301 405 112 372 370]\n",
      " [270 254 112 130 391 135 209]\n",
      " [355 282 207 153 172 249 109]]\n",
      "[[308 194 301 405 112 372 370]\n",
      " [270 254 112 130 391 135 209]\n",
      " [355 282 207 153 172 249 109]\n",
      " [135 299 450 229 325 377 287]\n",
      " [136 306 213 277 119 254 439]\n",
      " [176 391 345 332 144 140 112]\n",
      " [188 431 323 101 407 454 430]]\n"
     ]
    }
   ],
   "source": [
    "Arr_col = np.random.randint(89,456,(7,7))\n",
    "print(Arr_col)\n",
    "print(Arr_col[Arr_col[:,1].argsort()])"
   ]
  },
  {
   "cell_type": "markdown",
   "metadata": {},
   "source": [
    "#### 60. How to tell if a given 2D array has null columns?"
   ]
  },
  {
   "cell_type": "code",
   "execution_count": 66,
   "metadata": {},
   "outputs": [
    {
     "name": "stdout",
     "output_type": "stream",
     "text": [
      "Array 1 has null columns: True\n",
      "Array 2 has null columns: True\n"
     ]
    }
   ],
   "source": [
    "\n",
    "def has_null_columns(array):\n",
    "    # Convert array to NumPy array if it's not already\n",
    "    array = np.array(array)\n",
    "    \n",
    "    # Check if any column contains only null values\n",
    "    null_columns = np.any(np.all(array == 0, axis=0))\n",
    "    \n",
    "    return null_columns\n",
    "\n",
    "# Example usage:\n",
    "array1 = [[1, 2, 0],\n",
    "          [4, 5, 0],\n",
    "          [0, 0, 0]]\n",
    "\n",
    "array2 = [[1, 0, 3],\n",
    "          [4, 0, 6],\n",
    "          [7, 0, 9]]\n",
    "\n",
    "print(\"Array 1 has null columns:\", has_null_columns(array1))\n",
    "print(\"Array 2 has null columns:\", has_null_columns(array2))\n"
   ]
  },
  {
   "cell_type": "markdown",
   "metadata": {},
   "source": [
    "#### 61. Find the nearest value from a given value in an array "
   ]
  },
  {
   "cell_type": "code",
   "execution_count": 67,
   "metadata": {},
   "outputs": [
    {
     "name": "stdout",
     "output_type": "stream",
     "text": [
      "The nearest value to 6 in the array is 5\n"
     ]
    }
   ],
   "source": [
    "def find_nearest_value(array, value):\n",
    "    nearest_value = None\n",
    "    min_difference = float('inf')\n",
    "\n",
    "    for num in array:\n",
    "        difference = abs(num - value)\n",
    "        if difference < min_difference:\n",
    "            min_difference = difference\n",
    "            nearest_value = num\n",
    "\n",
    "    return nearest_value\n",
    "\n",
    "# Example usage:\n",
    "array = [1, 3, 5, 7, 9]\n",
    "value = 6\n",
    "nearest = find_nearest_value(array, value)\n",
    "print(f\"The nearest value to {value} in the array is {nearest}\")"
   ]
  },
  {
   "cell_type": "markdown",
   "metadata": {},
   "source": [
    "#### 62. Considering two arrays with shape (1,3) and (3,1), how to compute their sum using an iterator? "
   ]
  },
  {
   "cell_type": "code",
   "execution_count": 69,
   "metadata": {},
   "outputs": [
    {
     "name": "stdout",
     "output_type": "stream",
     "text": [
      "Sum of the two arrays: 21\n"
     ]
    }
   ],
   "source": [
    "\n",
    "# Define two arrays with shapes (1, 3) and (3, 1)\n",
    "array1 = np.array([[1, 2, 3]])\n",
    "array2 = np.array([[4], [5], [6]])\n",
    "\n",
    "# Initialize a variable to store the sum\n",
    "sum_result = 0\n",
    "\n",
    "# Iterate through the arrays using an iterator\n",
    "for x, y in zip(np.nditer(array1), np.nditer(array2)):\n",
    "    sum_result += x + y\n",
    "\n",
    "print(\"Sum of the two arrays:\", sum_result)\n"
   ]
  },
  {
   "cell_type": "markdown",
   "metadata": {},
   "source": [
    "#### 63. Create an array class that has a name attribute"
   ]
  },
  {
   "cell_type": "code",
   "execution_count": 70,
   "metadata": {},
   "outputs": [
    {
     "name": "stdout",
     "output_type": "stream",
     "text": [
      "MyArray: [1, 2, 3, 4, 5]\n",
      "MyArray\n",
      "[1, 2, 3, 4, 5]\n"
     ]
    }
   ],
   "source": [
    "class NamedArray:\n",
    "    def __init__(self, name, elements):\n",
    "        self.name = name\n",
    "        self.elements = elements\n",
    "\n",
    "    def __repr__(self):\n",
    "        return f\"{self.name}: {self.elements}\"\n",
    "\n",
    "    def __str__(self):\n",
    "        return f\"{self.name}: {self.elements}\"\n",
    "\n",
    "# Example usage:\n",
    "arr = NamedArray(\"MyArray\", [1, 2, 3, 4, 5])\n",
    "print(arr)  # Output: MyArray: [1, 2, 3, 4, 5]\n",
    "print(arr.name)  # Output: MyArray\n",
    "print(arr.elements)  # Output: [1, 2, 3, 4, 5]\n"
   ]
  },
  {
   "cell_type": "markdown",
   "metadata": {},
   "source": [
    "#### 64. Consider a given vector, how to add 1 to each element indexed by a second vector (be careful with repeated indices)?"
   ]
  },
  {
   "cell_type": "code",
   "execution_count": 73,
   "metadata": {},
   "outputs": [
    {
     "name": "stdout",
     "output_type": "stream",
     "text": [
      "Original Vector: [0 1 2 3 4]\n",
      "Indices Vector: [1 2 3 2]\n",
      "Result Vector: [0 2 3 4 4]\n"
     ]
    }
   ],
   "source": [
    "\n",
    "def add_one_to_indices(vector, indices):\n",
    "    # Create a copy of the original vector to avoid modifying it directly\n",
    "    result = np.copy(vector)\n",
    "    \n",
    "    # Iterate over unique indices and add 1 to corresponding elements\n",
    "    unique_indices = np.unique(indices)\n",
    "    for index in unique_indices:\n",
    "        result[index] += 1\n",
    "    \n",
    "    return result\n",
    "\n",
    "# Example usage\n",
    "vector = np.array([0, 1, 2, 3, 4])\n",
    "indices = np.array([1, 2, 3, 2])  # Repeated index 2\n",
    "result = add_one_to_indices(vector, indices)\n",
    "print(\"Original Vector:\", vector)\n",
    "print(\"Indices Vector:\", indices)\n",
    "print(\"Result Vector:\", result)\n"
   ]
  },
  {
   "cell_type": "markdown",
   "metadata": {},
   "source": [
    "#### 65. How to accumulate elements of a vector (X) to an array (F) based on an index list (I)? "
   ]
  },
  {
   "cell_type": "code",
   "execution_count": 74,
   "metadata": {},
   "outputs": [
    {
     "name": "stdout",
     "output_type": "stream",
     "text": [
      "Accumulated array F: [5. 7. 3.]\n"
     ]
    }
   ],
   "source": [
    "\n",
    "def accumulate_elements(X, I, F):\n",
    "    np.add.at(F, I, X)\n",
    "\n",
    "# Example usage:\n",
    "X = np.array([1, 2, 3, 4, 5])  # Vector of elements\n",
    "I = np.array([0, 1, 2, 0, 1])  # Index list\n",
    "F = np.zeros(3)  # Array to accumulate into\n",
    "\n",
    "accumulate_elements(X, I, F)\n",
    "\n",
    "print(\"Accumulated array F:\", F)\n"
   ]
  },
  {
   "cell_type": "markdown",
   "metadata": {},
   "source": [
    "#### 66. Considering a (w,h,3) image of (dtype=ubyte), compute the number of unique colors"
   ]
  },
  {
   "cell_type": "markdown",
   "metadata": {},
   "source": [
    "#### 67. Considering a four dimensions array, how to get sum over the last two axis at once? "
   ]
  },
  {
   "cell_type": "markdown",
   "metadata": {},
   "source": [
    "#### 68. Considering a one-dimensional vector D, how to compute means of subsets of D using a vector S of same size describing subset  indices?"
   ]
  },
  {
   "cell_type": "markdown",
   "metadata": {},
   "source": [
    "#### 69. How to get the diagonal of a dot product? "
   ]
  },
  {
   "cell_type": "markdown",
   "metadata": {},
   "source": [
    "#### 70. Consider the vector [1, 2, 3, 4, 5], how to build a new vector with 3 consecutive zeros interleaved between each value? "
   ]
  },
  {
   "cell_type": "markdown",
   "metadata": {},
   "source": [
    "#### 71. Consider an array of dimension (5,5,3), how to mulitply it by an array with dimensions (5,5)? "
   ]
  },
  {
   "cell_type": "markdown",
   "metadata": {},
   "source": [
    "#### 72. How to swap two rows of an array? "
   ]
  },
  {
   "cell_type": "markdown",
   "metadata": {},
   "source": [
    "#### 73. Consider a set of 10 triplets describing 10 triangles (with shared vertices), find the set of unique line segments composing all the  triangles"
   ]
  },
  {
   "cell_type": "markdown",
   "metadata": {},
   "source": [
    "#### 74. Given a sorted array C that corresponds to a bincount, how to produce an array A such that np.bincount(A) == C? "
   ]
  },
  {
   "cell_type": "markdown",
   "metadata": {},
   "source": [
    "#### 75. How to compute averages using a sliding window over an array? "
   ]
  },
  {
   "cell_type": "markdown",
   "metadata": {},
   "source": [
    "#### 76. Consider a one-dimensional array Z, build a two-dimensional array whose first row is (Z[0],Z[1],Z[2]) and each subsequent row is  shifted by 1 (last row should be (Z[-3],Z[-2],Z[-1])"
   ]
  },
  {
   "cell_type": "markdown",
   "metadata": {},
   "source": [
    "#### 77. How to negate a boolean, or to change the sign of a float inplace?"
   ]
  },
  {
   "cell_type": "markdown",
   "metadata": {},
   "source": [
    "#### 78. Consider 2 sets of points P0,P1 describing lines (2d) and a point p, how to compute distance from p to each line i (P0[i],P1[i])? "
   ]
  },
  {
   "cell_type": "markdown",
   "metadata": {},
   "source": [
    "#### 79. Consider 2 sets of points P0,P1 describing lines (2d) and a set of points P, how to compute distance from each point j (P[j]) to each line i (P0[i],P1[i])?"
   ]
  },
  {
   "cell_type": "markdown",
   "metadata": {},
   "source": [
    "#### 80. Consider an arbitrary array, write a function that extract a subpart with a fixed shape and centered on a given element (pad with a `fill` value when necessary) "
   ]
  },
  {
   "cell_type": "markdown",
   "metadata": {},
   "source": [
    "#### 81. Consider an array Z = [1,2,3,4,5,6,7,8,9,10,11,12,13,14], how to generate an array R = [[1,2,3,4], [2,3,4,5], [3,4,5,6], ..., [11,12,13,14]]? "
   ]
  },
  {
   "cell_type": "markdown",
   "metadata": {},
   "source": [
    "#### 82. Compute a matrix rank"
   ]
  },
  {
   "cell_type": "markdown",
   "metadata": {},
   "source": [
    "#### 83. How to find the most frequent value in an array?"
   ]
  },
  {
   "cell_type": "markdown",
   "metadata": {},
   "source": [
    "#### 84. Extract all the contiguous 3x3 blocks from a random 10x10 matrix"
   ]
  },
  {
   "cell_type": "markdown",
   "metadata": {},
   "source": [
    "#### 85. Create a 2D array subclass such that Z[i,j] == Z[j,i]"
   ]
  },
  {
   "cell_type": "markdown",
   "metadata": {},
   "source": [
    "#### 86. Consider a set of p matrices with shape (n,n) and a set of p vectors with shape (n,1). How to compute the sum of of the p matrix products at once? (result has shape (n,1))"
   ]
  },
  {
   "cell_type": "markdown",
   "metadata": {},
   "source": [
    "#### 87. Consider a 16x16 array, how to get the block-sum (block size is 4x4)?"
   ]
  },
  {
   "cell_type": "markdown",
   "metadata": {},
   "source": [
    "#### 88. How to implement the Game of Life using numpy arrays?"
   ]
  },
  {
   "cell_type": "markdown",
   "metadata": {},
   "source": [
    "#### 89. How to get the n largest values of an array"
   ]
  },
  {
   "cell_type": "markdown",
   "metadata": {},
   "source": [
    "#### 90. Given an arbitrary number of vectors, build the cartesian product (every combinations of every item) "
   ]
  },
  {
   "cell_type": "markdown",
   "metadata": {},
   "source": [
    "#### 91. How to create a record array from a regular array?"
   ]
  },
  {
   "cell_type": "markdown",
   "metadata": {},
   "source": [
    "#### 92. Consider a large vector Z, compute Z to the power of 3 using 3 different methods "
   ]
  },
  {
   "cell_type": "markdown",
   "metadata": {},
   "source": [
    "#### 93. Consider two arrays A and B of shape (8,3) and (2,2). How to find rows of A that contain elements of each row of B regardless of the order of the elements in B? "
   ]
  },
  {
   "cell_type": "markdown",
   "metadata": {},
   "source": [
    "\n",
    "#### 94. Considering a 10x3 matrix, extract rows with unequal values (e.g. [2,2,3])"
   ]
  },
  {
   "cell_type": "markdown",
   "metadata": {},
   "source": [
    "#### 95. Convert a vector of ints into a matrix binary representation"
   ]
  },
  {
   "cell_type": "markdown",
   "metadata": {},
   "source": [
    "#### 96. Given a two dimensional array, how to extract unique rows? "
   ]
  },
  {
   "cell_type": "markdown",
   "metadata": {},
   "source": [
    "#### 97. Considering 2 vectors A & B, write the einsum equivalent of inner, outer, sum, and mul function"
   ]
  },
  {
   "cell_type": "markdown",
   "metadata": {},
   "source": [
    "#### 98. Considering a path described by two vectors (X,Y), how to sample it using equidistant samples"
   ]
  },
  {
   "cell_type": "markdown",
   "metadata": {},
   "source": [
    "#### 99. Given an integer n and a 2D array X, select from X the rows which can be interpreted as draws from a multinomial distribution with n degrees, i.e., the rows which only contain integers and which sum to n."
   ]
  },
  {
   "cell_type": "markdown",
   "metadata": {},
   "source": [
    "#### 100. Compute bootstrapped 95% confidence intervals for the mean of a 1D array X (i.e., resample the elements of an array with replacement N times, compute the mean of each sample, and then compute percentiles over the means). "
   ]
  },
  {
   "cell_type": "code",
   "execution_count": 68,
   "metadata": {
    "vscode": {
     "languageId": "javascript"
    }
   },
   "outputs": [
    {
     "name": "stdout",
     "output_type": "stream",
     "text": [
      "[[ 2.5 -7.5  8. ]\n",
      " [ 0.  -2.   4.5]]\n"
     ]
    }
   ],
   "source": [
    "a = np.array([[2.5, -7.5, 8], [0, -2, 4.5]])\n",
    "print(a)"
   ]
  }
 ],
 "metadata": {
  "kernelspec": {
   "display_name": "datascience",
   "language": "python",
   "name": "python3"
  },
  "language_info": {
   "codemirror_mode": {
    "name": "ipython",
    "version": 3
   },
   "file_extension": ".py",
   "mimetype": "text/x-python",
   "name": "python",
   "nbconvert_exporter": "python",
   "pygments_lexer": "ipython3",
   "version": "3.12.1"
  }
 },
 "nbformat": 4,
 "nbformat_minor": 2
}
